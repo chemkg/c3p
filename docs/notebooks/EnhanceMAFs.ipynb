{
 "cells": [
  {
   "cell_type": "code",
   "id": "initial_id",
   "metadata": {
    "collapsed": true,
    "ExecuteTime": {
     "end_time": "2025-04-17T01:44:23.774934Z",
     "start_time": "2025-04-17T01:44:22.118345Z"
    }
   },
   "source": [
    "import json\n",
    "\n",
    "from c3p.chebi_classifier import ChEBIClassifier\n",
    "from c3p.classifier import Classifier\n",
    "from c3p.maftools import enrich_maf_row, enrich_maf\n"
   ],
   "outputs": [],
   "execution_count": 1
  },
  {
   "metadata": {
    "ExecuteTime": {
     "end_time": "2025-04-17T01:44:25.621736Z",
     "start_time": "2025-04-17T01:44:25.619804Z"
    }
   },
   "cell_type": "code",
   "source": "chebi_classifier = ChEBIClassifier()",
   "id": "5c16251af5cde565",
   "outputs": [],
   "execution_count": 2
  },
  {
   "metadata": {
    "ExecuteTime": {
     "end_time": "2025-04-17T01:44:26.108725Z",
     "start_time": "2025-04-17T01:44:26.106680Z"
    }
   },
   "cell_type": "code",
   "source": "counts = {}",
   "id": "f4cecfca0a88b79",
   "outputs": [],
   "execution_count": 3
  },
  {
   "metadata": {
    "ExecuteTime": {
     "end_time": "2025-04-17T17:58:10.439421Z",
     "start_time": "2025-04-17T01:44:26.625249Z"
    }
   },
   "cell_type": "code",
   "source": [
    "from pathlib import Path\n",
    "\n",
    "classifier = Classifier()\n",
    "path = Path(\"maf_files\")\n",
    "# iterate over all json files maf_files/*/*.json\n",
    "for json_file in path.rglob(\"*/*.json\"):\n",
    "    if \"/info/\" in str(json_file):\n",
    "        continue\n",
    "    if json_file.stem.endswith(\".enriched\"):\n",
    "        continue\n",
    "    enriched_file = json_file.with_suffix(\".enriched.json\")\n",
    "    if enriched_file.exists():\n",
    "        # print(\"Already enriched\", enriched_file)\n",
    "        continue\n",
    "    # load the json file\n",
    "    # print(f\"Reading {json_file}\")\n",
    "    maf = json.load(open(json_file))\n",
    "    if len(maf) > 300000:\n",
    "        print(\"Skipping\", json_file, \" too many rows \", len(maf))\n",
    "        continue\n",
    "    \n",
    "    n = enrich_maf(maf, classifier=classifier, chebi_classifier=chebi_classifier, min_confidence=0.5)\n",
    "    counts[json_file] = n\n",
    "    # print(json_file, n)\n",
    "    #print(maf)\n",
    "    with open(enriched_file, \"w\") as f:\n",
    "        json.dump(maf, f)\n",
    "    \n",
    "    "
   ],
   "id": "7389d4723fa9a28b",
   "outputs": [
    {
     "data": {
      "text/plain": [
       "Downloading chebi.db.gz: 0.00B [00:00, ?B/s]"
      ],
      "application/vnd.jupyter.widget-view+json": {
       "version_major": 2,
       "version_minor": 0,
       "model_id": "c52364d8f7d34021ab79dbdc37ed995f"
      }
     },
     "metadata": {},
     "output_type": "display_data"
    }
   ],
   "execution_count": 4
  },
  {
   "metadata": {
    "ExecuteTime": {
     "end_time": "2025-04-17T17:58:10.463460Z",
     "start_time": "2025-04-17T17:58:10.459137Z"
    }
   },
   "cell_type": "code",
   "source": "len(counts)",
   "id": "4a7401037dbf023f",
   "outputs": [
    {
     "data": {
      "text/plain": [
       "2"
      ]
     },
     "execution_count": 5,
     "metadata": {},
     "output_type": "execute_result"
    }
   ],
   "execution_count": 5
  },
  {
   "metadata": {
    "ExecuteTime": {
     "end_time": "2025-03-02T15:43:30.935079Z",
     "start_time": "2025-02-28T15:23:24.473882Z"
    }
   },
   "cell_type": "code",
   "source": "list(counts.items())[:10]",
   "id": "5b91c2081d2260f3",
   "outputs": [
    {
     "data": {
      "text/plain": [
       "[(PosixPath('maf_files/MTBLS1622/m_MTBLS1622_LC-MS_positive_hilic_metabolite_profiling-1_v2_maf.tsv.json'),\n",
       "  6092),\n",
       " (PosixPath('maf_files/MTBLS94/m_MTBLS94_POS_mass_spectrometry_v2_maf.tsv.json'),\n",
       "  3510),\n",
       " (PosixPath('maf_files/MTBLS94/m_MTBLS94_NEG_mass_spectrometry_v2_maf.tsv.json'),\n",
       "  1090),\n",
       " (PosixPath('maf_files/MTBLS2266/m_MTBLS2266_LC-MS_positive_reverse-phase_metabolite_profiling_v2_maf.tsv.json'),\n",
       "  0),\n",
       " (PosixPath('maf_files/MTBLS281/m_MTBLS281_sponge_dom_metabolite_profiling_mass_spectrometry_v2_maf.tsv.json'),\n",
       "  0),\n",
       " (PosixPath('maf_files/MTBLS286/m_MTBLS286_dynamic_metabolomics_of_rice_grain_metabolite_profiling_mass_spectrometry_v2_maf.tsv.json'),\n",
       "  1520),\n",
       " (PosixPath('maf_files/MTBLS9424/m_MTBLS9424_LC-MS_positive_reverse-phase_metabolite_profiling_v2_maf.tsv.json'),\n",
       "  0),\n",
       " (PosixPath('maf_files/MTBLS9424/m_MTBLS9424_LC-MS_negative_reverse-phase_metabolite_profiling_v2_maf.tsv.json'),\n",
       "  0),\n",
       " (PosixPath('maf_files/MTBLS11844/m_MTBLS11844_LC-MS_positive_reverse-phase_metabolite_profiling_v2_maf.tsv.json'),\n",
       "  272),\n",
       " (PosixPath('maf_files/MTBLS11844/m_MTBLS11844_LC-MS_negative_reverse-phase_metabolite_profiling_v2_maf.tsv.json'),\n",
       "  141)]"
      ]
     },
     "execution_count": 7,
     "metadata": {},
     "output_type": "execute_result"
    }
   ],
   "execution_count": 7
  },
  {
   "metadata": {
    "ExecuteTime": {
     "end_time": "2025-03-02T15:43:30.935722Z",
     "start_time": "2025-02-28T15:23:24.911088Z"
    }
   },
   "cell_type": "code",
   "source": [
    "import shutil\n",
    "\n",
    "#for k in counts:\n",
    "#    fn = str(k)\n",
    "#    shutil.copy(k, k.with_suffix(\".enriched.json\"))"
   ],
   "id": "ea736f78e75d23b0",
   "outputs": [],
   "execution_count": 8
  },
  {
   "metadata": {
    "ExecuteTime": {
     "end_time": "2025-03-02T15:43:30.935812Z",
     "start_time": "2025-02-28T15:23:25.332394Z"
    }
   },
   "cell_type": "code",
   "source": "print(\"Done\")",
   "id": "f966342aa9224d53",
   "outputs": [
    {
     "name": "stdout",
     "output_type": "stream",
     "text": [
      "Done\n"
     ]
    }
   ],
   "execution_count": 9
  },
  {
   "metadata": {
    "ExecuteTime": {
     "end_time": "2025-03-02T15:43:30.935883Z",
     "start_time": "2025-02-28T15:23:25.767034Z"
    }
   },
   "cell_type": "code",
   "source": "",
   "id": "ec9ec2d4386558b1",
   "outputs": [],
   "execution_count": null
  }
 ],
 "metadata": {
  "kernelspec": {
   "display_name": "Python 3",
   "language": "python",
   "name": "python3"
  },
  "language_info": {
   "codemirror_mode": {
    "name": "ipython",
    "version": 2
   },
   "file_extension": ".py",
   "mimetype": "text/x-python",
   "name": "python",
   "nbconvert_exporter": "python",
   "pygments_lexer": "ipython2",
   "version": "2.7.6"
  }
 },
 "nbformat": 4,
 "nbformat_minor": 5
}
