{
 "cells": [
  {
   "cell_type": "code",
   "execution_count": 1,
   "id": "b0450150683deb67",
   "metadata": {
    "ExecuteTime": {
     "end_time": "2025-01-27T21:01:42.123609Z",
     "start_time": "2025-01-27T21:01:40.541089Z"
    }
   },
   "outputs": [],
   "source": [
    "import pandas as pd\n",
    "from oaklib import get_adapter"
   ]
  },
  {
   "cell_type": "code",
   "execution_count": 2,
   "id": "initial_id",
   "metadata": {
    "ExecuteTime": {
     "end_time": "2025-01-27T21:01:42.130409Z",
     "start_time": "2025-01-27T21:01:42.128649Z"
    }
   },
   "outputs": [],
   "source": [
    "RESULTS_DIR = \"../results/manual\""
   ]
  },
  {
   "cell_type": "code",
   "execution_count": 3,
   "id": "df5594b0529f2a4f",
   "metadata": {
    "ExecuteTime": {
     "end_time": "2025-01-27T21:01:43.041099Z",
     "start_time": "2025-01-27T21:01:42.172063Z"
    }
   },
   "outputs": [],
   "source": [
    "from c3p.datamodel import Dataset\n",
    "\n",
    "BENCH_DIR = \"../results/2025/benchmark\"\n",
    "with open(f\"{BENCH_DIR}/dataset.json\", \"r\") as f:\n",
    "    dataset = Dataset.model_validate_json(f.read())"
   ]
  },
  {
   "cell_type": "code",
   "execution_count": 4,
   "id": "6b924fbf8157c41d",
   "metadata": {
    "ExecuteTime": {
     "end_time": "2025-01-27T21:01:43.565766Z",
     "start_time": "2025-01-27T21:01:43.533416Z"
    }
   },
   "outputs": [],
   "source": [
    "name2smiles = {s.name: s.smiles for s in dataset.structures}"
   ]
  },
  {
   "cell_type": "code",
   "execution_count": 5,
   "id": "10879bab20c536d5",
   "metadata": {
    "ExecuteTime": {
     "end_time": "2025-01-27T21:02:12.578971Z",
     "start_time": "2025-01-27T21:01:44.109470Z"
    }
   },
   "outputs": [],
   "source": [
    "chebi = get_adapter(\"sqlite:obo:chebi\")"
   ]
  },
  {
   "cell_type": "code",
   "execution_count": 6,
   "id": "7b464f72d51b09c7",
   "metadata": {
    "ExecuteTime": {
     "end_time": "2025-01-27T21:02:13.198943Z",
     "start_time": "2025-01-27T21:02:13.197166Z"
    }
   },
   "outputs": [],
   "source": [
    "# check the data...\n",
    "BETALAMIC_ACID = \"CHEBI:27483\"\n",
    "ALKALOID = \"CHEBI:22315\"\n"
   ]
  },
  {
   "cell_type": "code",
   "execution_count": 7,
   "id": "734c74f39bce29c4",
   "metadata": {
    "ExecuteTime": {
     "end_time": "2025-01-27T21:02:14.813033Z",
     "start_time": "2025-01-27T21:02:13.738449Z"
    }
   },
   "outputs": [
    {
     "data": {
      "text/plain": [
       "'OC(=O)[C@@H]1CC(=C/C=O)\\\\C=C(N1)C(O)=O'"
      ]
     },
     "execution_count": 7,
     "metadata": {},
     "output_type": "execute_result"
    }
   ],
   "source": [
    "def get_smiles_from_chebi(chebi_id: str):\n",
    "    return chebi.entity_metadata_map(chebi_id)[\"obo:chebi/smiles\"][0]\n",
    "\n",
    "BETALAMIC_ACID_SMILES = get_smiles_from_chebi(BETALAMIC_ACID)\n",
    "BETALAMIC_ACID_SMILES"
   ]
  },
  {
   "cell_type": "code",
   "execution_count": 8,
   "id": "397e9af843ac6d41",
   "metadata": {
    "ExecuteTime": {
     "end_time": "2025-01-27T21:02:15.961662Z",
     "start_time": "2025-01-27T21:02:15.959190Z"
    }
   },
   "outputs": [
    {
     "data": {
      "text/plain": [
       "'alkaloid'"
      ]
     },
     "execution_count": 8,
     "metadata": {},
     "output_type": "execute_result"
    }
   ],
   "source": [
    "alkaloid_cls = dataset.get_chemical_class_by_id(ALKALOID)\n",
    "alkaloid_cls.name"
   ]
  },
  {
   "cell_type": "code",
   "execution_count": 9,
   "id": "c42594e6d4ae48ac",
   "metadata": {
    "ExecuteTime": {
     "end_time": "2025-01-27T21:02:15.973385Z",
     "start_time": "2025-01-27T21:02:15.970843Z"
    }
   },
   "outputs": [
    {
     "data": {
      "text/plain": [
       "True"
      ]
     },
     "execution_count": 9,
     "metadata": {},
     "output_type": "execute_result"
    }
   ],
   "source": [
    "BETALAMIC_ACID_SMILES in alkaloid_cls.all_positive_examples"
   ]
  },
  {
   "cell_type": "code",
   "execution_count": 10,
   "id": "48fd1f590a7bcdf3",
   "metadata": {
    "ExecuteTime": {
     "end_time": "2025-01-27T21:02:16.564544Z",
     "start_time": "2025-01-27T21:02:16.546846Z"
    }
   },
   "outputs": [],
   "source": [
    "curator_df = pd.read_csv(f\"{RESULTS_DIR}/manual-evals-results.tsv\", sep=\"\\t\")"
   ]
  },
  {
   "cell_type": "code",
   "execution_count": 11,
   "id": "f71bf1c5fa99b68b",
   "metadata": {
    "ExecuteTime": {
     "end_time": "2025-01-27T21:49:44.653130Z",
     "start_time": "2025-01-27T21:49:44.646982Z"
    }
   },
   "outputs": [
    {
     "data": {
      "text/html": [
       "<div>\n",
       "<style scoped>\n",
       "    .dataframe tbody tr th:only-of-type {\n",
       "        vertical-align: middle;\n",
       "    }\n",
       "\n",
       "    .dataframe tbody tr th {\n",
       "        vertical-align: top;\n",
       "    }\n",
       "\n",
       "    .dataframe thead th {\n",
       "        text-align: right;\n",
       "    }\n",
       "</style>\n",
       "<table border=\"1\" class=\"dataframe\">\n",
       "  <thead>\n",
       "    <tr style=\"text-align: right;\">\n",
       "      <th></th>\n",
       "      <th>chemical_class_id</th>\n",
       "      <th>chemical_class_name</th>\n",
       "      <th>smiles</th>\n",
       "      <th>fixed_smiles</th>\n",
       "      <th>structure_name</th>\n",
       "      <th>model=citeseek-gpt-4o_response</th>\n",
       "      <th>model=claude-sonnet_response</th>\n",
       "      <th>model=deepseek-chat_response</th>\n",
       "      <th>model=gpt-3.5-turbo_response</th>\n",
       "      <th>model=gpt-4o_response</th>\n",
       "      <th>Curator: is_member?</th>\n",
       "      <th>Curator: comments</th>\n",
       "    </tr>\n",
       "  </thead>\n",
       "  <tbody>\n",
       "    <tr>\n",
       "      <th>0</th>\n",
       "      <td>CHEBI:20706</td>\n",
       "      <td>6-aminopurines</td>\n",
       "      <td>O=NN1CCNCC1</td>\n",
       "      <td>No change</td>\n",
       "      <td>N-Mononitrosopiperazine</td>\n",
       "      <td>NO, the statement is incorrect.   N-Mononitros...</td>\n",
       "      <td>NO. N-Mononitrosopiperazine (with SMILES 'O=NN...</td>\n",
       "      <td>NO. The structure N-Mononitrosopiperazine (wit...</td>\n",
       "      <td>NO  Explanation: N-Mononitrosopiperazine is no...</td>\n",
       "      <td>NO, the provided statement is incorrect.   N-M...</td>\n",
       "      <td>No</td>\n",
       "      <td>it is a nitroso compound and a piperazine</td>\n",
       "    </tr>\n",
       "    <tr>\n",
       "      <th>1</th>\n",
       "      <td>CHEBI:20706</td>\n",
       "      <td>6-aminopurines</td>\n",
       "      <td>O1C(CCC1)C(=O)N2CCNCC2</td>\n",
       "      <td>No change</td>\n",
       "      <td>1-(Tetrahydro-2-furoyl)piperazine</td>\n",
       "      <td>NO, the statement is not true.  1-(Tetrahydro-...</td>\n",
       "      <td>NO  The provided statement is false. The struc...</td>\n",
       "      <td>NO. The structure 1-(Tetrahydro-2-furoyl)piper...</td>\n",
       "      <td>NO  Explanation: The structure provided, 1-(Te...</td>\n",
       "      <td>NO, 1-(Tetrahydro-2-furoyl)piperazine is not a...</td>\n",
       "      <td>No</td>\n",
       "      <td>it is a piperazine and a tetrahydrofuran</td>\n",
       "    </tr>\n",
       "    <tr>\n",
       "      <th>2</th>\n",
       "      <td>CHEBI:20706</td>\n",
       "      <td>6-aminopurines</td>\n",
       "      <td>NC1=NC=NC2=C1N=CN2[C@@H]3O[C@H](CO)[C@@H](OP(O...</td>\n",
       "      <td>No change</td>\n",
       "      <td>5'-hydroxy-diadenylate with a cyclic 2',3' pho...</td>\n",
       "      <td>YES, the provided statement is true.  The stru...</td>\n",
       "      <td>YES, the provided statement is true.  Explanat...</td>\n",
       "      <td>YES. The structure described, 5'-hydroxy-diade...</td>\n",
       "      <td>YES  The provided structure is indeed a type o...</td>\n",
       "      <td>YES, The provided structure '5'-hydroxy-diaden...</td>\n",
       "      <td>Yes</td>\n",
       "      <td>NaN</td>\n",
       "    </tr>\n",
       "    <tr>\n",
       "      <th>3</th>\n",
       "      <td>CHEBI:47622</td>\n",
       "      <td>acetate ester</td>\n",
       "      <td>CCCCCCCCCCCCCC(=O)OC[C@H](COP([O-])(=O)OC[C@@H...</td>\n",
       "      <td>CCCCCCCCCCCCCC(=O)OC[C@H](COP([O-])(=O)OC[C@@H...</td>\n",
       "      <td>1-myristoyl-2-oleoyl-sn-glycero-3-phosphatidyl...</td>\n",
       "      <td>NO, the statement is not true.   The structure...</td>\n",
       "      <td>NO, the provided statement is not true.  Expla...</td>\n",
       "      <td>NO. The structure 1-myristoyl-2-oleoyl-sn-glyc...</td>\n",
       "      <td>NO  Explanation: The provided SMILES string 'C...</td>\n",
       "      <td>NO, the provided statement is incorrect.   1-m...</td>\n",
       "      <td>No</td>\n",
       "      <td>It is a carboxylic ester</td>\n",
       "    </tr>\n",
       "    <tr>\n",
       "      <th>4</th>\n",
       "      <td>CHEBI:17984</td>\n",
       "      <td>acyl-CoA</td>\n",
       "      <td>CCC=C/CC=C/CC=C/CC=C/CC=C/CCCCCCCCCC(=O)SCCNC(...</td>\n",
       "      <td>CC\\C=C/C\\C=C/C\\C=C/C\\C=C/C\\C=C/CCCCCCCCCC(=O)S...</td>\n",
       "      <td>(11Z,14Z,17Z,20Z,23Z)-hexacosapentaenoyl-CoA(4-)</td>\n",
       "      <td>YES, the provided statement is true.   The SMI...</td>\n",
       "      <td>YES, the provided statement is true.  The stru...</td>\n",
       "      <td>YES. The structure (11Z,14Z,17Z,20Z,23Z)-hexac...</td>\n",
       "      <td>YES, the statement is true. The provided compo...</td>\n",
       "      <td>YES, the statement is true. The structure desc...</td>\n",
       "      <td>No</td>\n",
       "      <td>It is an acyl CoA(4-). Its net charge is -4 wh...</td>\n",
       "    </tr>\n",
       "    <tr>\n",
       "      <th>...</th>\n",
       "      <td>...</td>\n",
       "      <td>...</td>\n",
       "      <td>...</td>\n",
       "      <td>...</td>\n",
       "      <td>...</td>\n",
       "      <td>...</td>\n",
       "      <td>...</td>\n",
       "      <td>...</td>\n",
       "      <td>...</td>\n",
       "      <td>...</td>\n",
       "      <td>...</td>\n",
       "      <td>...</td>\n",
       "    </tr>\n",
       "    <tr>\n",
       "      <th>217</th>\n",
       "      <td>CHEBI:61910</td>\n",
       "      <td>very long-chain fatty acyl-CoA</td>\n",
       "      <td>CCCCCCCCCCCCCCCCCCCCCCCCC(C(O)=O)C(=O)SCCNC(=O...</td>\n",
       "      <td>No change</td>\n",
       "      <td>2-carboxyhexacosanoyl-CoA</td>\n",
       "      <td>YES, the provided statement is true. The struc...</td>\n",
       "      <td>YES  The provided SMILES string 'CCCCCCCCCCCCC...</td>\n",
       "      <td>YES. The structure 2-carboxyhexacosanoyl-CoA i...</td>\n",
       "      <td>YES  Explanation: The provided SMILES structur...</td>\n",
       "      <td>YES, the provided statement is true. The compo...</td>\n",
       "      <td>Yes</td>\n",
       "      <td>NaN</td>\n",
       "    </tr>\n",
       "    <tr>\n",
       "      <th>218</th>\n",
       "      <td>CHEBI:10036</td>\n",
       "      <td>wax ester</td>\n",
       "      <td>CCCCCCCCCCCCCCCC(=O)OCC(CCCCCCCCCCCCCC)OC(=O)C...</td>\n",
       "      <td>No change</td>\n",
       "      <td>2-palmitoyloxypalmityl palmitate</td>\n",
       "      <td>YES, the provided statement is true. The given...</td>\n",
       "      <td>YES, the provided statement is true.  2-palmit...</td>\n",
       "      <td>YES. The structure 2-palmitoyloxypalmityl palm...</td>\n",
       "      <td>YES  Explanation: The provided structure (2-pa...</td>\n",
       "      <td>YES.   The structure 2-palmitoyloxypalmityl pa...</td>\n",
       "      <td>Yes</td>\n",
       "      <td>it is also a diester</td>\n",
       "    </tr>\n",
       "    <tr>\n",
       "      <th>219</th>\n",
       "      <td>CHEBI:10036</td>\n",
       "      <td>wax ester</td>\n",
       "      <td>CCCCCCCCCCOC(=O)CCCCCCCC=C/CCCCCCCC</td>\n",
       "      <td>CCCCCCCCCCOC(=O)CCCCCCC\\C=C/CCCCCCCC</td>\n",
       "      <td>decyl oleate</td>\n",
       "      <td>YES, the structure known as decyl oleate is a ...</td>\n",
       "      <td>YES, the provided statement is true.  Decyl ol...</td>\n",
       "      <td>YES. Decyl oleate is a wax ester. It is formed...</td>\n",
       "      <td>YES  Decyl oleate is a type of wax ester. It i...</td>\n",
       "      <td>YES, the provided statement is true. Decyl ole...</td>\n",
       "      <td>Yes</td>\n",
       "      <td>NaN</td>\n",
       "    </tr>\n",
       "    <tr>\n",
       "      <th>220</th>\n",
       "      <td>CHEBI:10036</td>\n",
       "      <td>wax ester</td>\n",
       "      <td>OC(CCCCCCCCOC(=O)CCCCCCCCCCCCCCCCCCCCC)CCCC</td>\n",
       "      <td>No change</td>\n",
       "      <td>9-Hydroxytridecyl docosanoate</td>\n",
       "      <td>YES, the statement is true. The structure 9-Hy...</td>\n",
       "      <td>YES, the provided statement is correct. 9-Hydr...</td>\n",
       "      <td>YES. The structure 9-Hydroxytridecyl docosanoa...</td>\n",
       "      <td>YES  Explanation: The provided structure of 9-...</td>\n",
       "      <td>YES, the statement is true. The structure know...</td>\n",
       "      <td>Yes</td>\n",
       "      <td>NaN</td>\n",
       "    </tr>\n",
       "    <tr>\n",
       "      <th>221</th>\n",
       "      <td>CHEBI:10036</td>\n",
       "      <td>wax ester</td>\n",
       "      <td>C(CCCCCCCC)CCC(OCCCCCCCCCCCC)=O</td>\n",
       "      <td>No change</td>\n",
       "      <td>dodecyl dodecanoate</td>\n",
       "      <td>YES, the provided structure dodecyl dodecanoat...</td>\n",
       "      <td>YES, the provided statement is correct.  Dodec...</td>\n",
       "      <td>YES. The structure dodecyl dodecanoate (with S...</td>\n",
       "      <td>YES  The provided structure for dodecyl dodeca...</td>\n",
       "      <td>YES, the provided statement is true.   Dodecyl...</td>\n",
       "      <td>Yes</td>\n",
       "      <td>NaN</td>\n",
       "    </tr>\n",
       "  </tbody>\n",
       "</table>\n",
       "<p>222 rows × 12 columns</p>\n",
       "</div>"
      ],
      "text/plain": [
       "    chemical_class_id             chemical_class_name  \\\n",
       "0         CHEBI:20706                  6-aminopurines   \n",
       "1         CHEBI:20706                  6-aminopurines   \n",
       "2         CHEBI:20706                  6-aminopurines   \n",
       "3         CHEBI:47622                   acetate ester   \n",
       "4         CHEBI:17984                        acyl-CoA   \n",
       "..                ...                             ...   \n",
       "217       CHEBI:61910  very long-chain fatty acyl-CoA   \n",
       "218       CHEBI:10036                       wax ester   \n",
       "219       CHEBI:10036                       wax ester   \n",
       "220       CHEBI:10036                       wax ester   \n",
       "221       CHEBI:10036                       wax ester   \n",
       "\n",
       "                                                smiles  \\\n",
       "0                                          O=NN1CCNCC1   \n",
       "1                               O1C(CCC1)C(=O)N2CCNCC2   \n",
       "2    NC1=NC=NC2=C1N=CN2[C@@H]3O[C@H](CO)[C@@H](OP(O...   \n",
       "3    CCCCCCCCCCCCCC(=O)OC[C@H](COP([O-])(=O)OC[C@@H...   \n",
       "4    CCC=C/CC=C/CC=C/CC=C/CC=C/CCCCCCCCCC(=O)SCCNC(...   \n",
       "..                                                 ...   \n",
       "217  CCCCCCCCCCCCCCCCCCCCCCCCC(C(O)=O)C(=O)SCCNC(=O...   \n",
       "218  CCCCCCCCCCCCCCCC(=O)OCC(CCCCCCCCCCCCCC)OC(=O)C...   \n",
       "219                CCCCCCCCCCOC(=O)CCCCCCCC=C/CCCCCCCC   \n",
       "220        OC(CCCCCCCCOC(=O)CCCCCCCCCCCCCCCCCCCCC)CCCC   \n",
       "221                    C(CCCCCCCC)CCC(OCCCCCCCCCCCC)=O   \n",
       "\n",
       "                                          fixed_smiles  \\\n",
       "0                                            No change   \n",
       "1                                            No change   \n",
       "2                                            No change   \n",
       "3    CCCCCCCCCCCCCC(=O)OC[C@H](COP([O-])(=O)OC[C@@H...   \n",
       "4    CC\\C=C/C\\C=C/C\\C=C/C\\C=C/C\\C=C/CCCCCCCCCC(=O)S...   \n",
       "..                                                 ...   \n",
       "217                                          No change   \n",
       "218                                          No change   \n",
       "219               CCCCCCCCCCOC(=O)CCCCCCC\\C=C/CCCCCCCC   \n",
       "220                                          No change   \n",
       "221                                          No change   \n",
       "\n",
       "                                        structure_name  \\\n",
       "0                              N-Mononitrosopiperazine   \n",
       "1                    1-(Tetrahydro-2-furoyl)piperazine   \n",
       "2    5'-hydroxy-diadenylate with a cyclic 2',3' pho...   \n",
       "3    1-myristoyl-2-oleoyl-sn-glycero-3-phosphatidyl...   \n",
       "4     (11Z,14Z,17Z,20Z,23Z)-hexacosapentaenoyl-CoA(4-)   \n",
       "..                                                 ...   \n",
       "217                          2-carboxyhexacosanoyl-CoA   \n",
       "218                   2-palmitoyloxypalmityl palmitate   \n",
       "219                                       decyl oleate   \n",
       "220                      9-Hydroxytridecyl docosanoate   \n",
       "221                                dodecyl dodecanoate   \n",
       "\n",
       "                        model=citeseek-gpt-4o_response  \\\n",
       "0    NO, the statement is incorrect.   N-Mononitros...   \n",
       "1    NO, the statement is not true.  1-(Tetrahydro-...   \n",
       "2    YES, the provided statement is true.  The stru...   \n",
       "3    NO, the statement is not true.   The structure...   \n",
       "4    YES, the provided statement is true.   The SMI...   \n",
       "..                                                 ...   \n",
       "217  YES, the provided statement is true. The struc...   \n",
       "218  YES, the provided statement is true. The given...   \n",
       "219  YES, the structure known as decyl oleate is a ...   \n",
       "220  YES, the statement is true. The structure 9-Hy...   \n",
       "221  YES, the provided structure dodecyl dodecanoat...   \n",
       "\n",
       "                          model=claude-sonnet_response  \\\n",
       "0    NO. N-Mononitrosopiperazine (with SMILES 'O=NN...   \n",
       "1    NO  The provided statement is false. The struc...   \n",
       "2    YES, the provided statement is true.  Explanat...   \n",
       "3    NO, the provided statement is not true.  Expla...   \n",
       "4    YES, the provided statement is true.  The stru...   \n",
       "..                                                 ...   \n",
       "217  YES  The provided SMILES string 'CCCCCCCCCCCCC...   \n",
       "218  YES, the provided statement is true.  2-palmit...   \n",
       "219  YES, the provided statement is true.  Decyl ol...   \n",
       "220  YES, the provided statement is correct. 9-Hydr...   \n",
       "221  YES, the provided statement is correct.  Dodec...   \n",
       "\n",
       "                          model=deepseek-chat_response  \\\n",
       "0    NO. The structure N-Mononitrosopiperazine (wit...   \n",
       "1    NO. The structure 1-(Tetrahydro-2-furoyl)piper...   \n",
       "2    YES. The structure described, 5'-hydroxy-diade...   \n",
       "3    NO. The structure 1-myristoyl-2-oleoyl-sn-glyc...   \n",
       "4    YES. The structure (11Z,14Z,17Z,20Z,23Z)-hexac...   \n",
       "..                                                 ...   \n",
       "217  YES. The structure 2-carboxyhexacosanoyl-CoA i...   \n",
       "218  YES. The structure 2-palmitoyloxypalmityl palm...   \n",
       "219  YES. Decyl oleate is a wax ester. It is formed...   \n",
       "220  YES. The structure 9-Hydroxytridecyl docosanoa...   \n",
       "221  YES. The structure dodecyl dodecanoate (with S...   \n",
       "\n",
       "                          model=gpt-3.5-turbo_response  \\\n",
       "0    NO  Explanation: N-Mononitrosopiperazine is no...   \n",
       "1    NO  Explanation: The structure provided, 1-(Te...   \n",
       "2    YES  The provided structure is indeed a type o...   \n",
       "3    NO  Explanation: The provided SMILES string 'C...   \n",
       "4    YES, the statement is true. The provided compo...   \n",
       "..                                                 ...   \n",
       "217  YES  Explanation: The provided SMILES structur...   \n",
       "218  YES  Explanation: The provided structure (2-pa...   \n",
       "219  YES  Decyl oleate is a type of wax ester. It i...   \n",
       "220  YES  Explanation: The provided structure of 9-...   \n",
       "221  YES  The provided structure for dodecyl dodeca...   \n",
       "\n",
       "                                 model=gpt-4o_response Curator: is_member?  \\\n",
       "0    NO, the provided statement is incorrect.   N-M...                  No   \n",
       "1    NO, 1-(Tetrahydro-2-furoyl)piperazine is not a...                  No   \n",
       "2    YES, The provided structure '5'-hydroxy-diaden...                 Yes   \n",
       "3    NO, the provided statement is incorrect.   1-m...                  No   \n",
       "4    YES, the statement is true. The structure desc...                  No   \n",
       "..                                                 ...                 ...   \n",
       "217  YES, the provided statement is true. The compo...                 Yes   \n",
       "218  YES.   The structure 2-palmitoyloxypalmityl pa...                 Yes   \n",
       "219  YES, the provided statement is true. Decyl ole...                 Yes   \n",
       "220  YES, the statement is true. The structure know...                 Yes   \n",
       "221  YES, the provided statement is true.   Dodecyl...                 Yes   \n",
       "\n",
       "                                     Curator: comments  \n",
       "0            it is a nitroso compound and a piperazine  \n",
       "1             it is a piperazine and a tetrahydrofuran  \n",
       "2                                                  NaN  \n",
       "3                             It is a carboxylic ester  \n",
       "4    It is an acyl CoA(4-). Its net charge is -4 wh...  \n",
       "..                                                 ...  \n",
       "217                                                NaN  \n",
       "218                               it is also a diester  \n",
       "219                                                NaN  \n",
       "220                                                NaN  \n",
       "221                                                NaN  \n",
       "\n",
       "[222 rows x 12 columns]"
      ]
     },
     "execution_count": 11,
     "metadata": {},
     "output_type": "execute_result"
    }
   ],
   "source": [
    "curator_df = curator_df[curator_df[\"chemical_class_id\"].notna()]\n",
    "curator_df"
   ]
  },
  {
   "cell_type": "code",
   "execution_count": 12,
   "id": "873c1804361baae",
   "metadata": {
    "ExecuteTime": {
     "end_time": "2025-01-27T21:49:50.608465Z",
     "start_time": "2025-01-27T21:49:50.606186Z"
    }
   },
   "outputs": [],
   "source": [
    "# fix SMILES\n",
    "fixed = {}\n",
    "\n",
    "def fix_smiles(name: str, curr_smiles: str):\n",
    "    if name not in name2smiles:\n",
    "        raise ValueError(f\"Name not in dataset: {name}\")\n",
    "    fixed_smiles = name2smiles[name]\n",
    "    if fixed_smiles != curr_smiles:\n",
    "        fixed[name] = fixed_smiles\n",
    "        # check if they differ other than backslashes\n",
    "        if fixed_smiles.replace(\"\\\\\", \"\") != curr_smiles.replace(\"\\\\\", \"\"):\n",
    "            raise ValueError(f\"SMILES differ: {fixed_smiles} != {curr_smiles}\")\n",
    "    return fixed_smiles"
   ]
  },
  {
   "cell_type": "code",
   "execution_count": 13,
   "id": "6c2b6e5a78b76b3f",
   "metadata": {
    "ExecuteTime": {
     "end_time": "2025-01-27T21:49:53.128364Z",
     "start_time": "2025-01-27T21:49:53.125284Z"
    }
   },
   "outputs": [],
   "source": [
    "curator_df[\"smiles\"] = curator_df.apply(lambda row: fix_smiles(row[\"structure_name\"], row[\"smiles\"]), axis=1)"
   ]
  },
  {
   "cell_type": "code",
   "execution_count": 14,
   "id": "a757b9b19c4aaae4",
   "metadata": {
    "ExecuteTime": {
     "end_time": "2025-01-27T21:49:53.712440Z",
     "start_time": "2025-01-27T21:49:53.709981Z"
    }
   },
   "outputs": [
    {
     "data": {
      "text/plain": [
       "50"
      ]
     },
     "execution_count": 14,
     "metadata": {},
     "output_type": "execute_result"
    }
   ],
   "source": [
    "len(fixed)"
   ]
  },
  {
   "cell_type": "code",
   "execution_count": 15,
   "id": "37871411fb5a7ef9",
   "metadata": {
    "ExecuteTime": {
     "end_time": "2025-01-27T21:49:54.556159Z",
     "start_time": "2025-01-27T21:49:54.390713Z"
    }
   },
   "outputs": [],
   "source": [
    "# turned dict into a df\n",
    "fixed_df = pd.DataFrame(list(fixed.items()), columns=[\"name\", \"smiles\"])\n",
    "fixed_df.to_csv(f\"{RESULTS_DIR}/fixed-smiles.csv\", index=False)\n",
    "fixed_df.to_excel(f\"{RESULTS_DIR}/fixed-smiles.xlsx\", index=False)"
   ]
  },
  {
   "cell_type": "code",
   "execution_count": 88,
   "id": "2d6bf293492e9126",
   "metadata": {
    "ExecuteTime": {
     "end_time": "2025-01-27T21:49:55.176330Z",
     "start_time": "2025-01-27T21:49:55.174533Z"
    }
   },
   "outputs": [],
   "source": [
    "CUR_IS_MEMBER = \"Curator: is_member?\"\n",
    "CUR_COMMENTS = \"Curator: comments\"\n",
    "CITESEEK = \"model=citeseek-gpt-4o_response\""
   ]
  },
  {
   "cell_type": "code",
   "execution_count": 93,
   "id": "0d142ce9-31e4-4e9b-a71e-735cdd994561",
   "metadata": {},
   "outputs": [
    {
     "data": {
      "text/plain": [
       "0      NO, the statement is incorrect.   N-Mononitros...\n",
       "1      NO, the statement is not true.  1-(Tetrahydro-...\n",
       "2      YES, the provided statement is true.  The stru...\n",
       "3      NO, the statement is not true.   The structure...\n",
       "4      YES, the provided statement is true.   The SMI...\n",
       "                             ...                        \n",
       "217    YES, the provided statement is true. The struc...\n",
       "218    YES, the provided statement is true. The given...\n",
       "219    YES, the structure known as decyl oleate is a ...\n",
       "220    YES, the statement is true. The structure 9-Hy...\n",
       "221    YES, the provided structure dodecyl dodecanoat...\n",
       "Name: model=citeseek-gpt-4o_response, Length: 222, dtype: object"
      ]
     },
     "execution_count": 93,
     "metadata": {},
     "output_type": "execute_result"
    }
   ],
   "source": [
    "curator_df[CITESEEK]"
   ]
  },
  {
   "cell_type": "code",
   "execution_count": 17,
   "id": "f06352138aeee9a4",
   "metadata": {
    "ExecuteTime": {
     "end_time": "2025-01-27T21:49:55.787627Z",
     "start_time": "2025-01-27T21:49:55.784792Z"
    }
   },
   "outputs": [
    {
     "data": {
      "text/plain": [
       "Index(['chemical_class_id', 'chemical_class_name', 'smiles', 'fixed_smiles',\n",
       "       'structure_name', 'model=citeseek-gpt-4o_response',\n",
       "       'model=claude-sonnet_response', 'model=deepseek-chat_response',\n",
       "       'model=gpt-3.5-turbo_response', 'model=gpt-4o_response',\n",
       "       'Curator: is_member?', 'Curator: comments'],\n",
       "      dtype='object')"
      ]
     },
     "execution_count": 17,
     "metadata": {},
     "output_type": "execute_result"
    }
   ],
   "source": [
    "curator_df.columns"
   ]
  },
  {
   "cell_type": "code",
   "execution_count": 18,
   "id": "de6ad95c98a2d986",
   "metadata": {
    "ExecuteTime": {
     "end_time": "2025-01-27T21:52:24.620752Z",
     "start_time": "2025-01-27T21:52:24.608948Z"
    }
   },
   "outputs": [
    {
     "data": {
      "text/html": [
       "<div>\n",
       "<style scoped>\n",
       "    .dataframe tbody tr th:only-of-type {\n",
       "        vertical-align: middle;\n",
       "    }\n",
       "\n",
       "    .dataframe tbody tr th {\n",
       "        vertical-align: top;\n",
       "    }\n",
       "\n",
       "    .dataframe thead th {\n",
       "        text-align: right;\n",
       "    }\n",
       "</style>\n",
       "<table border=\"1\" class=\"dataframe\">\n",
       "  <thead>\n",
       "    <tr style=\"text-align: right;\">\n",
       "      <th></th>\n",
       "      <th>chemical_class_id</th>\n",
       "      <th>chemical_class_name</th>\n",
       "      <th>smiles</th>\n",
       "      <th>fixed_smiles</th>\n",
       "      <th>structure_name</th>\n",
       "      <th>model=citeseek-gpt-4o_response</th>\n",
       "      <th>model=claude-sonnet_response</th>\n",
       "      <th>model=deepseek-chat_response</th>\n",
       "      <th>model=gpt-3.5-turbo_response</th>\n",
       "      <th>model=gpt-4o_response</th>\n",
       "      <th>Curator: is_member?</th>\n",
       "      <th>Curator: comments</th>\n",
       "    </tr>\n",
       "  </thead>\n",
       "  <tbody>\n",
       "    <tr>\n",
       "      <th>count</th>\n",
       "      <td>222</td>\n",
       "      <td>222</td>\n",
       "      <td>222</td>\n",
       "      <td>222</td>\n",
       "      <td>222</td>\n",
       "      <td>222</td>\n",
       "      <td>222</td>\n",
       "      <td>222</td>\n",
       "      <td>222</td>\n",
       "      <td>222</td>\n",
       "      <td>222</td>\n",
       "      <td>93</td>\n",
       "    </tr>\n",
       "    <tr>\n",
       "      <th>unique</th>\n",
       "      <td>94</td>\n",
       "      <td>94</td>\n",
       "      <td>201</td>\n",
       "      <td>51</td>\n",
       "      <td>201</td>\n",
       "      <td>222</td>\n",
       "      <td>222</td>\n",
       "      <td>222</td>\n",
       "      <td>222</td>\n",
       "      <td>222</td>\n",
       "      <td>3</td>\n",
       "      <td>81</td>\n",
       "    </tr>\n",
       "    <tr>\n",
       "      <th>top</th>\n",
       "      <td>CHEBI:61051</td>\n",
       "      <td>lipid hydroperoxide</td>\n",
       "      <td>CCCCCCCCCCCCCC(=O)OC[C@H](COP([O-])(=O)OC[C@@H...</td>\n",
       "      <td>No change</td>\n",
       "      <td>1-myristoyl-2-oleoyl-sn-glycero-3-phosphatidyl...</td>\n",
       "      <td>NO, the statement is incorrect.   N-Mononitros...</td>\n",
       "      <td>NO. N-Mononitrosopiperazine (with SMILES 'O=NN...</td>\n",
       "      <td>NO. The structure N-Mononitrosopiperazine (wit...</td>\n",
       "      <td>NO  Explanation: N-Mononitrosopiperazine is no...</td>\n",
       "      <td>NO, the provided statement is incorrect.   N-M...</td>\n",
       "      <td>No</td>\n",
       "      <td>I may have said yes if i had ignored the charg...</td>\n",
       "    </tr>\n",
       "    <tr>\n",
       "      <th>freq</th>\n",
       "      <td>6</td>\n",
       "      <td>6</td>\n",
       "      <td>5</td>\n",
       "      <td>163</td>\n",
       "      <td>5</td>\n",
       "      <td>1</td>\n",
       "      <td>1</td>\n",
       "      <td>1</td>\n",
       "      <td>1</td>\n",
       "      <td>1</td>\n",
       "      <td>150</td>\n",
       "      <td>3</td>\n",
       "    </tr>\n",
       "  </tbody>\n",
       "</table>\n",
       "</div>"
      ],
      "text/plain": [
       "       chemical_class_id  chemical_class_name  \\\n",
       "count                222                  222   \n",
       "unique                94                   94   \n",
       "top          CHEBI:61051  lipid hydroperoxide   \n",
       "freq                   6                    6   \n",
       "\n",
       "                                                   smiles fixed_smiles  \\\n",
       "count                                                 222          222   \n",
       "unique                                                201           51   \n",
       "top     CCCCCCCCCCCCCC(=O)OC[C@H](COP([O-])(=O)OC[C@@H...    No change   \n",
       "freq                                                    5          163   \n",
       "\n",
       "                                           structure_name  \\\n",
       "count                                                 222   \n",
       "unique                                                201   \n",
       "top     1-myristoyl-2-oleoyl-sn-glycero-3-phosphatidyl...   \n",
       "freq                                                    5   \n",
       "\n",
       "                           model=citeseek-gpt-4o_response  \\\n",
       "count                                                 222   \n",
       "unique                                                222   \n",
       "top     NO, the statement is incorrect.   N-Mononitros...   \n",
       "freq                                                    1   \n",
       "\n",
       "                             model=claude-sonnet_response  \\\n",
       "count                                                 222   \n",
       "unique                                                222   \n",
       "top     NO. N-Mononitrosopiperazine (with SMILES 'O=NN...   \n",
       "freq                                                    1   \n",
       "\n",
       "                             model=deepseek-chat_response  \\\n",
       "count                                                 222   \n",
       "unique                                                222   \n",
       "top     NO. The structure N-Mononitrosopiperazine (wit...   \n",
       "freq                                                    1   \n",
       "\n",
       "                             model=gpt-3.5-turbo_response  \\\n",
       "count                                                 222   \n",
       "unique                                                222   \n",
       "top     NO  Explanation: N-Mononitrosopiperazine is no...   \n",
       "freq                                                    1   \n",
       "\n",
       "                                    model=gpt-4o_response Curator: is_member?  \\\n",
       "count                                                 222                 222   \n",
       "unique                                                222                   3   \n",
       "top     NO, the provided statement is incorrect.   N-M...                  No   \n",
       "freq                                                    1                 150   \n",
       "\n",
       "                                        Curator: comments  \n",
       "count                                                  93  \n",
       "unique                                                 81  \n",
       "top     I may have said yes if i had ignored the charg...  \n",
       "freq                                                    3  "
      ]
     },
     "execution_count": 18,
     "metadata": {},
     "output_type": "execute_result"
    }
   ],
   "source": [
    "curator_df.describe()"
   ]
  },
  {
   "cell_type": "code",
   "execution_count": 19,
   "id": "bd70b0732f29f04a",
   "metadata": {
    "ExecuteTime": {
     "end_time": "2025-01-27T21:53:18.904679Z",
     "start_time": "2025-01-27T21:53:18.899053Z"
    }
   },
   "outputs": [
    {
     "data": {
      "text/html": [
       "<div>\n",
       "<style scoped>\n",
       "    .dataframe tbody tr th:only-of-type {\n",
       "        vertical-align: middle;\n",
       "    }\n",
       "\n",
       "    .dataframe tbody tr th {\n",
       "        vertical-align: top;\n",
       "    }\n",
       "\n",
       "    .dataframe thead th {\n",
       "        text-align: right;\n",
       "    }\n",
       "</style>\n",
       "<table border=\"1\" class=\"dataframe\">\n",
       "  <thead>\n",
       "    <tr style=\"text-align: right;\">\n",
       "      <th></th>\n",
       "      <th>chemical_class_name</th>\n",
       "      <th>structure_name</th>\n",
       "      <th>Curator: is_member?</th>\n",
       "      <th>Curator: comments</th>\n",
       "    </tr>\n",
       "  </thead>\n",
       "  <tbody>\n",
       "    <tr>\n",
       "      <th>0</th>\n",
       "      <td>6-aminopurines</td>\n",
       "      <td>N-Mononitrosopiperazine</td>\n",
       "      <td>No</td>\n",
       "      <td>it is a nitroso compound and a piperazine</td>\n",
       "    </tr>\n",
       "    <tr>\n",
       "      <th>1</th>\n",
       "      <td>6-aminopurines</td>\n",
       "      <td>1-(Tetrahydro-2-furoyl)piperazine</td>\n",
       "      <td>No</td>\n",
       "      <td>it is a piperazine and a tetrahydrofuran</td>\n",
       "    </tr>\n",
       "    <tr>\n",
       "      <th>3</th>\n",
       "      <td>acetate ester</td>\n",
       "      <td>1-myristoyl-2-oleoyl-sn-glycero-3-phosphatidyl...</td>\n",
       "      <td>No</td>\n",
       "      <td>It is a carboxylic ester</td>\n",
       "    </tr>\n",
       "    <tr>\n",
       "      <th>4</th>\n",
       "      <td>acyl-CoA</td>\n",
       "      <td>(11Z,14Z,17Z,20Z,23Z)-hexacosapentaenoyl-CoA(4-)</td>\n",
       "      <td>No</td>\n",
       "      <td>It is an acyl CoA(4-). Its net charge is -4 wh...</td>\n",
       "    </tr>\n",
       "    <tr>\n",
       "      <th>5</th>\n",
       "      <td>acyl-CoA</td>\n",
       "      <td>N-Mononitrosopiperazine</td>\n",
       "      <td>No</td>\n",
       "      <td>It is a piperazine</td>\n",
       "    </tr>\n",
       "    <tr>\n",
       "      <th>...</th>\n",
       "      <td>...</td>\n",
       "      <td>...</td>\n",
       "      <td>...</td>\n",
       "      <td>...</td>\n",
       "    </tr>\n",
       "    <tr>\n",
       "      <th>200</th>\n",
       "      <td>secondary alcohol</td>\n",
       "      <td>1,2-bis(4-hydroxyphenyl)propan-2-ol</td>\n",
       "      <td>No</td>\n",
       "      <td>It seems like a tertiary alcohol (more precise...</td>\n",
       "    </tr>\n",
       "    <tr>\n",
       "      <th>202</th>\n",
       "      <td>steroid</td>\n",
       "      <td>(5E,7E,10E)-(3S)-19-methyl-9,10-seco-5,7,10(19...</td>\n",
       "      <td>Yes</td>\n",
       "      <td>It is a secosteroid (a subclass of steroids)</td>\n",
       "    </tr>\n",
       "    <tr>\n",
       "      <th>203</th>\n",
       "      <td>steroid</td>\n",
       "      <td>(20S,24R)-dihydroxyvitamin D3</td>\n",
       "      <td>Yes</td>\n",
       "      <td>It is a secosteroid (a subclass of steroids)</td>\n",
       "    </tr>\n",
       "    <tr>\n",
       "      <th>213</th>\n",
       "      <td>triterpenoid saponin</td>\n",
       "      <td>Diacetylpyxinol</td>\n",
       "      <td>No</td>\n",
       "      <td>structure is missing the glycoside group</td>\n",
       "    </tr>\n",
       "    <tr>\n",
       "      <th>218</th>\n",
       "      <td>wax ester</td>\n",
       "      <td>2-palmitoyloxypalmityl palmitate</td>\n",
       "      <td>Yes</td>\n",
       "      <td>it is also a diester</td>\n",
       "    </tr>\n",
       "  </tbody>\n",
       "</table>\n",
       "<p>93 rows × 4 columns</p>\n",
       "</div>"
      ],
      "text/plain": [
       "      chemical_class_name                                     structure_name  \\\n",
       "0          6-aminopurines                            N-Mononitrosopiperazine   \n",
       "1          6-aminopurines                  1-(Tetrahydro-2-furoyl)piperazine   \n",
       "3           acetate ester  1-myristoyl-2-oleoyl-sn-glycero-3-phosphatidyl...   \n",
       "4                acyl-CoA   (11Z,14Z,17Z,20Z,23Z)-hexacosapentaenoyl-CoA(4-)   \n",
       "5                acyl-CoA                            N-Mononitrosopiperazine   \n",
       "..                    ...                                                ...   \n",
       "200     secondary alcohol                1,2-bis(4-hydroxyphenyl)propan-2-ol   \n",
       "202               steroid  (5E,7E,10E)-(3S)-19-methyl-9,10-seco-5,7,10(19...   \n",
       "203               steroid                      (20S,24R)-dihydroxyvitamin D3   \n",
       "213  triterpenoid saponin                                    Diacetylpyxinol   \n",
       "218             wax ester                   2-palmitoyloxypalmityl palmitate   \n",
       "\n",
       "    Curator: is_member?                                  Curator: comments  \n",
       "0                    No          it is a nitroso compound and a piperazine  \n",
       "1                    No           it is a piperazine and a tetrahydrofuran  \n",
       "3                    No                           It is a carboxylic ester  \n",
       "4                    No  It is an acyl CoA(4-). Its net charge is -4 wh...  \n",
       "5                    No                                 It is a piperazine  \n",
       "..                  ...                                                ...  \n",
       "200                  No  It seems like a tertiary alcohol (more precise...  \n",
       "202                 Yes       It is a secosteroid (a subclass of steroids)  \n",
       "203                 Yes       It is a secosteroid (a subclass of steroids)  \n",
       "213                  No           structure is missing the glycoside group  \n",
       "218                 Yes                               it is also a diester  \n",
       "\n",
       "[93 rows x 4 columns]"
      ]
     },
     "execution_count": 19,
     "metadata": {},
     "output_type": "execute_result"
    }
   ],
   "source": [
    "curator_df[curator_df[CUR_COMMENTS].notna()][[\"chemical_class_name\", \"structure_name\", CUR_IS_MEMBER, CUR_COMMENTS]]"
   ]
  },
  {
   "cell_type": "code",
   "execution_count": 20,
   "id": "c7eaffb040ea5bd8",
   "metadata": {
    "ExecuteTime": {
     "end_time": "2025-01-27T21:51:21.477136Z",
     "start_time": "2025-01-27T21:51:21.475354Z"
    }
   },
   "outputs": [],
   "source": [
    "def col_summary(col):\n",
    "    return curator_df.groupby(col).size()"
   ]
  },
  {
   "cell_type": "code",
   "execution_count": 21,
   "id": "aecadcf995016485",
   "metadata": {
    "ExecuteTime": {
     "end_time": "2025-01-27T21:49:57.100288Z",
     "start_time": "2025-01-27T21:49:57.091499Z"
    }
   },
   "outputs": [
    {
     "data": {
      "text/plain": [
       "array(['No', 'Yes', 'Unknown'], dtype=object)"
      ]
     },
     "execution_count": 21,
     "metadata": {},
     "output_type": "execute_result"
    }
   ],
   "source": [
    "curator_df[CUR_IS_MEMBER].unique()"
   ]
  },
  {
   "cell_type": "code",
   "execution_count": 22,
   "id": "a96d152973d28431",
   "metadata": {
    "ExecuteTime": {
     "end_time": "2025-01-27T21:49:57.831626Z",
     "start_time": "2025-01-27T21:49:57.826499Z"
    }
   },
   "outputs": [
    {
     "data": {
      "text/html": [
       "<div>\n",
       "<style scoped>\n",
       "    .dataframe tbody tr th:only-of-type {\n",
       "        vertical-align: middle;\n",
       "    }\n",
       "\n",
       "    .dataframe tbody tr th {\n",
       "        vertical-align: top;\n",
       "    }\n",
       "\n",
       "    .dataframe thead th {\n",
       "        text-align: right;\n",
       "    }\n",
       "</style>\n",
       "<table border=\"1\" class=\"dataframe\">\n",
       "  <thead>\n",
       "    <tr style=\"text-align: right;\">\n",
       "      <th></th>\n",
       "      <th>chemical_class_id</th>\n",
       "      <th>chemical_class_name</th>\n",
       "      <th>smiles</th>\n",
       "      <th>fixed_smiles</th>\n",
       "      <th>structure_name</th>\n",
       "      <th>model=citeseek-gpt-4o_response</th>\n",
       "      <th>model=claude-sonnet_response</th>\n",
       "      <th>model=deepseek-chat_response</th>\n",
       "      <th>model=gpt-3.5-turbo_response</th>\n",
       "      <th>model=gpt-4o_response</th>\n",
       "      <th>Curator: is_member?</th>\n",
       "      <th>Curator: comments</th>\n",
       "    </tr>\n",
       "  </thead>\n",
       "  <tbody>\n",
       "    <tr>\n",
       "      <th>83</th>\n",
       "      <td>CHEBI:72544</td>\n",
       "      <td>flavonoids</td>\n",
       "      <td>C12=C(C3=C(C(=CC(O3)=O)C4=CC=CC=C4)C5=C1C=CC(O...</td>\n",
       "      <td>No change</td>\n",
       "      <td>inophyllolide chromanol</td>\n",
       "      <td>NO, the structure known as inophyllolide chrom...</td>\n",
       "      <td>NO. The provided structure of inophyllolide ch...</td>\n",
       "      <td>NO. The structure of inophyllolide chromanol (...</td>\n",
       "      <td>NO  Explanation: Inophyllolide chromanol is no...</td>\n",
       "      <td>NO, the statement is not true.   Inophyllolide...</td>\n",
       "      <td>Unknown</td>\n",
       "      <td>could potentially be a flavonoid derivative</td>\n",
       "    </tr>\n",
       "    <tr>\n",
       "      <th>124</th>\n",
       "      <td>CHEBI:35381</td>\n",
       "      <td>monosaccharide</td>\n",
       "      <td>[H][C@@]1(OC(=O)C(O)=C1O)[C@@H](O)CO</td>\n",
       "      <td>No change</td>\n",
       "      <td>L-ascorbic acid</td>\n",
       "      <td>NO, the provided statement is not true.  L-asc...</td>\n",
       "      <td>NO. The structure of L-ascorbic acid (vitamin ...</td>\n",
       "      <td>NO. L-ascorbic acid (vitamin C) is not a monos...</td>\n",
       "      <td>NO  Explanation: L-ascorbic acid is not consid...</td>\n",
       "      <td>NO, L-ascorbic acid is not a monosaccharide.  ...</td>\n",
       "      <td>Unknown</td>\n",
       "      <td>There is some confusion in the literature rega...</td>\n",
       "    </tr>\n",
       "    <tr>\n",
       "      <th>126</th>\n",
       "      <td>CHEBI:25409</td>\n",
       "      <td>monoterpenoid</td>\n",
       "      <td>OC(=O)C[C@@H](CC/C=C(\\C)/C(O)=O)C</td>\n",
       "      <td>OC(=O)C[C@@H](CC/C=C(\\C)/C(O)=O)C</td>\n",
       "      <td>2,6R-Dimethyl-2E-octen-1,8-dioic acid</td>\n",
       "      <td>NO, the statement is incorrect.   The structur...</td>\n",
       "      <td>NO, the provided statement is not true.  Expla...</td>\n",
       "      <td>NO. The structure 2,6R-Dimethyl-2E-octen-1,8-d...</td>\n",
       "      <td>NO  Explanation: The provided structure is not...</td>\n",
       "      <td>NO, the provided statement is not true. The st...</td>\n",
       "      <td>Unknown</td>\n",
       "      <td>I am unable to decide by looking at its chemic...</td>\n",
       "    </tr>\n",
       "  </tbody>\n",
       "</table>\n",
       "</div>"
      ],
      "text/plain": [
       "    chemical_class_id chemical_class_name  \\\n",
       "83        CHEBI:72544          flavonoids   \n",
       "124       CHEBI:35381      monosaccharide   \n",
       "126       CHEBI:25409       monoterpenoid   \n",
       "\n",
       "                                                smiles  \\\n",
       "83   C12=C(C3=C(C(=CC(O3)=O)C4=CC=CC=C4)C5=C1C=CC(O...   \n",
       "124               [H][C@@]1(OC(=O)C(O)=C1O)[C@@H](O)CO   \n",
       "126                  OC(=O)C[C@@H](CC/C=C(\\C)/C(O)=O)C   \n",
       "\n",
       "                          fixed_smiles                         structure_name  \\\n",
       "83                           No change                inophyllolide chromanol   \n",
       "124                          No change                        L-ascorbic acid   \n",
       "126  OC(=O)C[C@@H](CC/C=C(\\C)/C(O)=O)C  2,6R-Dimethyl-2E-octen-1,8-dioic acid   \n",
       "\n",
       "                        model=citeseek-gpt-4o_response  \\\n",
       "83   NO, the structure known as inophyllolide chrom...   \n",
       "124  NO, the provided statement is not true.  L-asc...   \n",
       "126  NO, the statement is incorrect.   The structur...   \n",
       "\n",
       "                          model=claude-sonnet_response  \\\n",
       "83   NO. The provided structure of inophyllolide ch...   \n",
       "124  NO. The structure of L-ascorbic acid (vitamin ...   \n",
       "126  NO, the provided statement is not true.  Expla...   \n",
       "\n",
       "                          model=deepseek-chat_response  \\\n",
       "83   NO. The structure of inophyllolide chromanol (...   \n",
       "124  NO. L-ascorbic acid (vitamin C) is not a monos...   \n",
       "126  NO. The structure 2,6R-Dimethyl-2E-octen-1,8-d...   \n",
       "\n",
       "                          model=gpt-3.5-turbo_response  \\\n",
       "83   NO  Explanation: Inophyllolide chromanol is no...   \n",
       "124  NO  Explanation: L-ascorbic acid is not consid...   \n",
       "126  NO  Explanation: The provided structure is not...   \n",
       "\n",
       "                                 model=gpt-4o_response Curator: is_member?  \\\n",
       "83   NO, the statement is not true.   Inophyllolide...             Unknown   \n",
       "124  NO, L-ascorbic acid is not a monosaccharide.  ...             Unknown   \n",
       "126  NO, the provided statement is not true. The st...             Unknown   \n",
       "\n",
       "                                     Curator: comments  \n",
       "83         could potentially be a flavonoid derivative  \n",
       "124  There is some confusion in the literature rega...  \n",
       "126  I am unable to decide by looking at its chemic...  "
      ]
     },
     "execution_count": 22,
     "metadata": {},
     "output_type": "execute_result"
    }
   ],
   "source": [
    "curator_df[curator_df[CUR_IS_MEMBER] == \"Unknown\"]"
   ]
  },
  {
   "cell_type": "code",
   "execution_count": 23,
   "id": "6eef0f16fffdf17",
   "metadata": {
    "ExecuteTime": {
     "end_time": "2025-01-27T21:49:58.988520Z",
     "start_time": "2025-01-27T21:49:58.984467Z"
    }
   },
   "outputs": [
    {
     "data": {
      "text/html": [
       "<div>\n",
       "<style scoped>\n",
       "    .dataframe tbody tr th:only-of-type {\n",
       "        vertical-align: middle;\n",
       "    }\n",
       "\n",
       "    .dataframe tbody tr th {\n",
       "        vertical-align: top;\n",
       "    }\n",
       "\n",
       "    .dataframe thead th {\n",
       "        text-align: right;\n",
       "    }\n",
       "</style>\n",
       "<table border=\"1\" class=\"dataframe\">\n",
       "  <thead>\n",
       "    <tr style=\"text-align: right;\">\n",
       "      <th></th>\n",
       "      <th>Curator: is_member?</th>\n",
       "    </tr>\n",
       "  </thead>\n",
       "  <tbody>\n",
       "    <tr>\n",
       "      <th>count</th>\n",
       "      <td>222</td>\n",
       "    </tr>\n",
       "  </tbody>\n",
       "</table>\n",
       "</div>"
      ],
      "text/plain": [
       "       Curator: is_member?\n",
       "count                  222"
      ]
     },
     "execution_count": 23,
     "metadata": {},
     "output_type": "execute_result"
    }
   ],
   "source": [
    "curator_df.aggregate({CUR_IS_MEMBER: [\"count\"]})"
   ]
  },
  {
   "cell_type": "code",
   "execution_count": 24,
   "id": "31415bf2031db82d",
   "metadata": {
    "ExecuteTime": {
     "end_time": "2025-01-27T21:50:00.300789Z",
     "start_time": "2025-01-27T21:50:00.287141Z"
    }
   },
   "outputs": [],
   "source": [
    "def classifies_in_benchmark(row: dict):\n",
    "    cc = dataset.get_chemical_class_by_id(row[\"chemical_class_id\"])\n",
    "    return row[\"smiles\"] in cc.all_positive_examples\n",
    "\n",
    "curator_df[\"in_benchmark\"] = curator_df.apply(classifies_in_benchmark, axis=1)\n",
    "    "
   ]
  },
  {
   "cell_type": "code",
   "execution_count": 25,
   "id": "d5f3d430324189de",
   "metadata": {
    "ExecuteTime": {
     "end_time": "2025-01-27T21:50:01.181261Z",
     "start_time": "2025-01-27T21:50:01.176564Z"
    }
   },
   "outputs": [
    {
     "data": {
      "text/html": [
       "<div>\n",
       "<style scoped>\n",
       "    .dataframe tbody tr th:only-of-type {\n",
       "        vertical-align: middle;\n",
       "    }\n",
       "\n",
       "    .dataframe tbody tr th {\n",
       "        vertical-align: top;\n",
       "    }\n",
       "\n",
       "    .dataframe thead th {\n",
       "        text-align: right;\n",
       "    }\n",
       "</style>\n",
       "<table border=\"1\" class=\"dataframe\">\n",
       "  <thead>\n",
       "    <tr style=\"text-align: right;\">\n",
       "      <th></th>\n",
       "      <th>chemical_class_id</th>\n",
       "      <th>chemical_class_name</th>\n",
       "      <th>smiles</th>\n",
       "      <th>fixed_smiles</th>\n",
       "      <th>structure_name</th>\n",
       "      <th>model=citeseek-gpt-4o_response</th>\n",
       "      <th>model=claude-sonnet_response</th>\n",
       "      <th>model=deepseek-chat_response</th>\n",
       "      <th>model=gpt-3.5-turbo_response</th>\n",
       "      <th>model=gpt-4o_response</th>\n",
       "      <th>Curator: is_member?</th>\n",
       "      <th>Curator: comments</th>\n",
       "      <th>in_benchmark</th>\n",
       "    </tr>\n",
       "  </thead>\n",
       "  <tbody>\n",
       "    <tr>\n",
       "      <th>15</th>\n",
       "      <td>CHEBI:22315</td>\n",
       "      <td>alkaloid</td>\n",
       "      <td>OC(=O)[C@@H]1CC(=C/C=O)\\C=C(N1)C(O)=O</td>\n",
       "      <td>OC(=O)[C@@H]1CC(=C/C=O)\\C=C(N1)C(O)=O</td>\n",
       "      <td>betalamic acid</td>\n",
       "      <td>NO, the provided statement is not true.   Beta...</td>\n",
       "      <td>NO. Betalamic acid (SMILES: OC(=O)[C@@H]1CC(=C...</td>\n",
       "      <td>NO. Betalamic acid is not an alkaloid. While i...</td>\n",
       "      <td>NO  Betalamic acid is not typically considered...</td>\n",
       "      <td>NO, betalamic acid is not classified as an alk...</td>\n",
       "      <td>No</td>\n",
       "      <td>is a dicarboxylic acid and an aldehyde.</td>\n",
       "      <td>True</td>\n",
       "    </tr>\n",
       "  </tbody>\n",
       "</table>\n",
       "</div>"
      ],
      "text/plain": [
       "   chemical_class_id chemical_class_name  \\\n",
       "15       CHEBI:22315            alkaloid   \n",
       "\n",
       "                                   smiles  \\\n",
       "15  OC(=O)[C@@H]1CC(=C/C=O)\\C=C(N1)C(O)=O   \n",
       "\n",
       "                             fixed_smiles  structure_name  \\\n",
       "15  OC(=O)[C@@H]1CC(=C/C=O)\\C=C(N1)C(O)=O  betalamic acid   \n",
       "\n",
       "                       model=citeseek-gpt-4o_response  \\\n",
       "15  NO, the provided statement is not true.   Beta...   \n",
       "\n",
       "                         model=claude-sonnet_response  \\\n",
       "15  NO. Betalamic acid (SMILES: OC(=O)[C@@H]1CC(=C...   \n",
       "\n",
       "                         model=deepseek-chat_response  \\\n",
       "15  NO. Betalamic acid is not an alkaloid. While i...   \n",
       "\n",
       "                         model=gpt-3.5-turbo_response  \\\n",
       "15  NO  Betalamic acid is not typically considered...   \n",
       "\n",
       "                                model=gpt-4o_response Curator: is_member?  \\\n",
       "15  NO, betalamic acid is not classified as an alk...                  No   \n",
       "\n",
       "                          Curator: comments  in_benchmark  \n",
       "15  is a dicarboxylic acid and an aldehyde.          True  "
      ]
     },
     "execution_count": 25,
     "metadata": {},
     "output_type": "execute_result"
    }
   ],
   "source": [
    "curator_df[curator_df[\"smiles\"] == BETALAMIC_ACID_SMILES]"
   ]
  },
  {
   "cell_type": "code",
   "execution_count": 26,
   "id": "e1a13250dcaf86b",
   "metadata": {
    "ExecuteTime": {
     "end_time": "2025-01-27T21:50:02.318752Z",
     "start_time": "2025-01-27T21:50:02.315943Z"
    }
   },
   "outputs": [
    {
     "data": {
      "text/plain": [
       "'OC(=O)[C@@H]1CC(=C/C=O)\\\\C=C(N1)C(O)=O'"
      ]
     },
     "execution_count": 26,
     "metadata": {},
     "output_type": "execute_result"
    }
   ],
   "source": [
    "betalamic_acid_smiles_retrieved = curator_df[curator_df[\"structure_name\"] == \"betalamic acid\"][\"smiles\"].unique()[0]\n",
    "betalamic_acid_smiles_retrieved"
   ]
  },
  {
   "cell_type": "code",
   "execution_count": 27,
   "id": "acf8c3d8f3069133",
   "metadata": {
    "ExecuteTime": {
     "end_time": "2025-01-27T21:50:03.418321Z",
     "start_time": "2025-01-27T21:50:03.416071Z"
    }
   },
   "outputs": [
    {
     "data": {
      "text/plain": [
       "('OC(=O)[C@@H]1CC(=C/C=O)\\\\C=C(N1)C(O)=O',\n",
       " 'OC(=O)[C@@H]1CC(=C/C=O)\\\\C=C(N1)C(O)=O',\n",
       " True)"
      ]
     },
     "execution_count": 27,
     "metadata": {},
     "output_type": "execute_result"
    }
   ],
   "source": [
    "betalamic_acid_smiles_retrieved, BETALAMIC_ACID_SMILES, betalamic_acid_smiles_retrieved == BETALAMIC_ACID_SMILES"
   ]
  },
  {
   "cell_type": "code",
   "execution_count": 28,
   "id": "26bec470127908e3",
   "metadata": {
    "ExecuteTime": {
     "end_time": "2025-01-27T21:50:04.356851Z",
     "start_time": "2025-01-27T21:50:04.354893Z"
    }
   },
   "outputs": [],
   "source": [
    "assert betalamic_acid_smiles_retrieved == BETALAMIC_ACID_SMILES"
   ]
  },
  {
   "cell_type": "code",
   "execution_count": 29,
   "id": "d76a8c2d7357661c",
   "metadata": {
    "ExecuteTime": {
     "end_time": "2025-01-27T21:50:04.979981Z",
     "start_time": "2025-01-27T21:50:04.977449Z"
    }
   },
   "outputs": [
    {
     "name": "stdout",
     "output_type": "stream",
     "text": [
      "OC(=O)[C@@H]1CC(=C/C=O)\\C=C(N1)C(O)=O OC(=O)[C@@H]1CC(=C/C=O)\\C=C(N1)C(O)=O\n"
     ]
    }
   ],
   "source": [
    "print(betalamic_acid_smiles_retrieved, BETALAMIC_ACID_SMILES)"
   ]
  },
  {
   "cell_type": "code",
   "execution_count": 30,
   "id": "2be4cecca6037102",
   "metadata": {
    "ExecuteTime": {
     "end_time": "2025-01-27T21:51:34.495679Z",
     "start_time": "2025-01-27T21:51:34.491381Z"
    }
   },
   "outputs": [
    {
     "data": {
      "text/plain": [
       "in_benchmark\n",
       "False    124\n",
       "True      98\n",
       "dtype: int64"
      ]
     },
     "execution_count": 30,
     "metadata": {},
     "output_type": "execute_result"
    }
   ],
   "source": [
    "col_summary(\"in_benchmark\")"
   ]
  },
  {
   "cell_type": "code",
   "execution_count": 31,
   "id": "cf9a3c9444242beb",
   "metadata": {
    "ExecuteTime": {
     "end_time": "2025-01-27T21:53:39.035720Z",
     "start_time": "2025-01-27T21:53:39.033483Z"
    }
   },
   "outputs": [],
   "source": [
    "from oaklib.datamodels.vocabulary import IS_A\n",
    "\n",
    "\n",
    "def classifies_in_chebi(row: dict):\n",
    "    inst_ids = chebi.curies_by_label(row[\"structure_name\"])\n",
    "    if len(inst_ids) != 1:\n",
    "        raise ValueError(f\"Ambiguous {row} ==> {inst_ids}\")\n",
    "    inst_id = inst_ids[0]\n",
    "    return row[\"chemical_class_id\"] in list(chebi.ancestors(inst_id, [IS_A]))"
   ]
  },
  {
   "cell_type": "code",
   "execution_count": 32,
   "id": "e71d9895c5a4eb69",
   "metadata": {
    "ExecuteTime": {
     "end_time": "2025-01-27T21:54:22.781193Z",
     "start_time": "2025-01-27T21:53:40.959752Z"
    }
   },
   "outputs": [],
   "source": [
    "curator_df[\"in_chebi\"] = curator_df.apply(classifies_in_chebi, axis=1)\n"
   ]
  },
  {
   "cell_type": "code",
   "execution_count": 33,
   "id": "1f5bb97367b6da1d",
   "metadata": {
    "ExecuteTime": {
     "end_time": "2025-01-27T21:54:22.793007Z",
     "start_time": "2025-01-27T21:54:22.789786Z"
    }
   },
   "outputs": [
    {
     "data": {
      "text/plain": [
       "in_chebi\n",
       "False    124\n",
       "True      98\n",
       "dtype: int64"
      ]
     },
     "execution_count": 33,
     "metadata": {},
     "output_type": "execute_result"
    }
   ],
   "source": [
    "col_summary(\"in_chebi\")"
   ]
  },
  {
   "cell_type": "code",
   "execution_count": 34,
   "id": "ca87a27e468fc901",
   "metadata": {
    "ExecuteTime": {
     "end_time": "2025-01-27T21:54:23.404252Z",
     "start_time": "2025-01-27T21:54:23.401296Z"
    }
   },
   "outputs": [],
   "source": [
    "curator_df[\"agreement_benchmark_chebi\"] = curator_df.apply(lambda row: row[\"in_chebi\"] == row[\"in_benchmark\"], axis=1)\n"
   ]
  },
  {
   "cell_type": "code",
   "execution_count": 35,
   "id": "e8307baf109b58c3",
   "metadata": {
    "ExecuteTime": {
     "end_time": "2025-01-27T21:54:23.432176Z",
     "start_time": "2025-01-27T21:54:23.427092Z"
    }
   },
   "outputs": [],
   "source": [
    "def agrees(yn, v):\n",
    "    if yn == \"Unknown\":\n",
    "        return None\n",
    "    return (yn == \"Yes\") == v\n",
    "    \n",
    "curator_df[\"agreement_curator_benchmark\"] = curator_df.apply(lambda row: agrees(row[CUR_IS_MEMBER], row[\"in_benchmark\"]), axis=1)\n",
    "curator_df[\"agreement_curator_chebi\"] = curator_df.apply(lambda row: agrees(row[CUR_IS_MEMBER], row[\"in_chebi\"]), axis=1)\n"
   ]
  },
  {
   "cell_type": "code",
   "execution_count": 36,
   "id": "712f2441259a88e2",
   "metadata": {
    "ExecuteTime": {
     "end_time": "2025-01-27T21:54:23.460256Z",
     "start_time": "2025-01-27T21:54:23.456158Z"
    }
   },
   "outputs": [
    {
     "data": {
      "text/plain": [
       "agreement_curator_benchmark\n",
       "False     94\n",
       "True     125\n",
       "dtype: int64"
      ]
     },
     "execution_count": 36,
     "metadata": {},
     "output_type": "execute_result"
    }
   ],
   "source": [
    "curator_df.groupby([\"agreement_curator_benchmark\"]).size()"
   ]
  },
  {
   "cell_type": "code",
   "execution_count": 37,
   "id": "7a760f585f3dae63",
   "metadata": {
    "ExecuteTime": {
     "end_time": "2025-01-27T21:54:24.066821Z",
     "start_time": "2025-01-27T21:54:24.063147Z"
    }
   },
   "outputs": [
    {
     "data": {
      "text/plain": [
       "agreement_curator_chebi\n",
       "False     94\n",
       "True     125\n",
       "dtype: int64"
      ]
     },
     "execution_count": 37,
     "metadata": {},
     "output_type": "execute_result"
    }
   ],
   "source": [
    "curator_df.groupby([\"agreement_curator_chebi\"]).size()\n"
   ]
  },
  {
   "cell_type": "code",
   "execution_count": 38,
   "id": "24602b63705fd59f",
   "metadata": {
    "ExecuteTime": {
     "end_time": "2025-01-27T21:54:24.127208Z",
     "start_time": "2025-01-27T21:54:24.121421Z"
    }
   },
   "outputs": [
    {
     "data": {
      "text/plain": [
       "Curator: is_member?  in_benchmark\n",
       "No                   False           90\n",
       "                     True            60\n",
       "Unknown              True             3\n",
       "Yes                  False           34\n",
       "                     True            35\n",
       "dtype: int64"
      ]
     },
     "execution_count": 38,
     "metadata": {},
     "output_type": "execute_result"
    }
   ],
   "source": [
    "# get counts of each combination\n",
    "curator_df.groupby([CUR_IS_MEMBER, \"in_benchmark\"]).size()"
   ]
  },
  {
   "cell_type": "code",
   "execution_count": 39,
   "id": "416ef58ad5ceca2d",
   "metadata": {
    "ExecuteTime": {
     "end_time": "2025-01-27T21:54:24.178127Z",
     "start_time": "2025-01-27T21:54:24.175004Z"
    }
   },
   "outputs": [
    {
     "data": {
      "text/plain": [
       "agreement_curator_benchmark\n",
       "False     94\n",
       "True     125\n",
       "dtype: int64"
      ]
     },
     "execution_count": 39,
     "metadata": {},
     "output_type": "execute_result"
    }
   ],
   "source": [
    "curator_df.groupby([\"agreement_curator_benchmark\"]).size()\n"
   ]
  },
  {
   "cell_type": "code",
   "execution_count": 82,
   "id": "1c54a0e2-609b-4302-b9b5-fd5aa6f191da",
   "metadata": {},
   "outputs": [
    {
     "data": {
      "text/plain": [
       "agreement_curator_benchmark\n",
       "False    0.423423\n",
       "True     0.563063\n",
       "dtype: float64"
      ]
     },
     "execution_count": 82,
     "metadata": {},
     "output_type": "execute_result"
    }
   ],
   "source": [
    "gby = curator_df.groupby([\"agreement_curator_benchmark\"])\n",
    "gby.size() / len(curator_df)"
   ]
  },
  {
   "cell_type": "code",
   "execution_count": 40,
   "id": "7a0ca40315d6e0d0",
   "metadata": {
    "ExecuteTime": {
     "end_time": "2025-01-27T21:54:24.433477Z",
     "start_time": "2025-01-27T21:54:24.263880Z"
    }
   },
   "outputs": [],
   "source": [
    "%load_ext autoreload\n",
    "%autoreload 2"
   ]
  },
  {
   "cell_type": "code",
   "execution_count": 41,
   "id": "26681f5c65483674",
   "metadata": {
    "ExecuteTime": {
     "end_time": "2025-01-27T21:54:24.465588Z",
     "start_time": "2025-01-27T21:54:24.437047Z"
    }
   },
   "outputs": [],
   "source": [
    "from pathlib import Path\n",
    "from c3p.classifier import classify\n",
    "\n",
    "smiles_strs = list(curator_df[\"smiles\"].unique())\n",
    "chemical_class_names = list(curator_df[\"chemical_class_name\"].unique())\n"
   ]
  },
  {
   "cell_type": "code",
   "execution_count": 42,
   "id": "b8328e026666557",
   "metadata": {
    "ExecuteTime": {
     "end_time": "2025-01-27T21:54:24.498498Z",
     "start_time": "2025-01-27T21:54:24.483583Z"
    }
   },
   "outputs": [
    {
     "data": {
      "text/plain": [
       "(201, 94, 18894)"
      ]
     },
     "execution_count": 42,
     "metadata": {},
     "output_type": "execute_result"
    }
   ],
   "source": [
    "len(smiles_strs), len(chemical_class_names), len(smiles_strs) * len(chemical_class_names)"
   ]
  },
  {
   "cell_type": "code",
   "execution_count": 63,
   "id": "e58b67baf32de6c1",
   "metadata": {
    "ExecuteTime": {
     "end_time": "2025-01-27T21:54:35.886613Z",
     "start_time": "2025-01-27T21:54:24.537788Z"
    }
   },
   "outputs": [],
   "source": [
    "results = list(classify(smiles_strs, program_directory=Path(\"../results/2025/ensemble-9/programs\"), chemical_classes=chemical_class_names, strict=True))"
   ]
  },
  {
   "cell_type": "code",
   "execution_count": 64,
   "id": "95b6f75656042d3b",
   "metadata": {
    "ExecuteTime": {
     "end_time": "2025-01-27T21:54:36.009729Z",
     "start_time": "2025-01-27T21:54:35.896491Z"
    }
   },
   "outputs": [
    {
     "data": {
      "text/plain": [
       "18894"
      ]
     },
     "execution_count": 64,
     "metadata": {},
     "output_type": "execute_result"
    }
   ],
   "source": [
    "len(results)"
   ]
  },
  {
   "cell_type": "code",
   "execution_count": 65,
   "id": "48b73d2ade7f9457",
   "metadata": {
    "ExecuteTime": {
     "end_time": "2025-01-27T21:54:37.406699Z",
     "start_time": "2025-01-27T21:54:37.355233Z"
    }
   },
   "outputs": [],
   "source": [
    "results_by_pair = {(r.class_name, r.input_smiles): r.is_match for r in results}"
   ]
  },
  {
   "cell_type": "code",
   "execution_count": 66,
   "id": "bf8bb65bbc8921bf",
   "metadata": {
    "ExecuteTime": {
     "end_time": "2025-01-27T21:54:37.437672Z",
     "start_time": "2025-01-27T21:54:37.410392Z"
    }
   },
   "outputs": [],
   "source": [
    "#list(results_by_pair.keys())[0:10]"
   ]
  },
  {
   "cell_type": "code",
   "execution_count": null,
   "id": "2a8266f2c36de894",
   "metadata": {
    "ExecuteTime": {
     "end_time": "2025-01-27T21:54:38.136904Z",
     "start_time": "2025-01-27T21:54:38.134505Z"
    }
   },
   "outputs": [],
   "source": []
  },
  {
   "cell_type": "code",
   "execution_count": 108,
   "id": "674651cfab4464ee",
   "metadata": {
    "ExecuteTime": {
     "end_time": "2025-01-27T21:54:38.998482Z",
     "start_time": "2025-01-27T21:54:38.784447Z"
    }
   },
   "outputs": [],
   "source": [
    "curator_df[\"in_c3p\"] = curator_df.apply(lambda row: results_by_pair[row[\"chemical_class_name\"], row[\"smiles\"]], axis=1)\n"
   ]
  },
  {
   "cell_type": "code",
   "execution_count": 109,
   "id": "4b3db0c4b4a49007",
   "metadata": {
    "ExecuteTime": {
     "end_time": "2025-01-27T21:54:39.652350Z",
     "start_time": "2025-01-27T21:54:39.635871Z"
    }
   },
   "outputs": [
    {
     "data": {
      "text/plain": [
       "in_c3p\n",
       "False    155\n",
       "True      67\n",
       "dtype: int64"
      ]
     },
     "execution_count": 109,
     "metadata": {},
     "output_type": "execute_result"
    }
   ],
   "source": [
    "curator_df.groupby([\"in_c3p\"]).size()"
   ]
  },
  {
   "cell_type": "code",
   "execution_count": 69,
   "id": "2f2068f9cb7f613a",
   "metadata": {
    "ExecuteTime": {
     "end_time": "2025-01-27T21:54:40.290157Z",
     "start_time": "2025-01-27T21:54:40.273827Z"
    }
   },
   "outputs": [],
   "source": [
    "curator_df[\"agreement_c3p_curator\"] = curator_df.apply(lambda row: agrees(row[CUR_IS_MEMBER], row[\"in_c3p\"]), axis=1)\n"
   ]
  },
  {
   "cell_type": "code",
   "execution_count": 70,
   "id": "ba74b3802644b80e",
   "metadata": {
    "ExecuteTime": {
     "end_time": "2025-01-27T21:54:40.325976Z",
     "start_time": "2025-01-27T21:54:40.309065Z"
    }
   },
   "outputs": [],
   "source": [
    "#curator_df[\"c3p_correct\"]"
   ]
  },
  {
   "cell_type": "code",
   "execution_count": 71,
   "id": "34680cf4938adc56",
   "metadata": {
    "ExecuteTime": {
     "end_time": "2025-01-27T21:54:40.361240Z",
     "start_time": "2025-01-27T21:54:40.342478Z"
    }
   },
   "outputs": [
    {
     "data": {
      "text/plain": [
       "agreement_c3p_curator\n",
       "False     51\n",
       "True     168\n",
       "dtype: int64"
      ]
     },
     "execution_count": 71,
     "metadata": {},
     "output_type": "execute_result"
    }
   ],
   "source": [
    "curator_df.groupby([\"agreement_c3p_curator\"]).size()"
   ]
  },
  {
   "cell_type": "code",
   "execution_count": 72,
   "id": "691f2e2e5d5ead56",
   "metadata": {
    "ExecuteTime": {
     "end_time": "2025-01-27T21:54:41.005153Z",
     "start_time": "2025-01-27T21:54:40.983127Z"
    }
   },
   "outputs": [
    {
     "data": {
      "text/plain": [
       "agreement_c3p_curator\n",
       "False    0.229730\n",
       "True     0.756757\n",
       "dtype: float64"
      ]
     },
     "execution_count": 72,
     "metadata": {},
     "output_type": "execute_result"
    }
   ],
   "source": [
    "curator_df.groupby([\"agreement_c3p_curator\"]).size() / len(curator_df)\n"
   ]
  },
  {
   "cell_type": "code",
   "execution_count": 73,
   "id": "fbfaa1d4aaa6bf",
   "metadata": {
    "ExecuteTime": {
     "end_time": "2025-01-27T21:54:41.049761Z",
     "start_time": "2025-01-27T21:54:41.031386Z"
    }
   },
   "outputs": [],
   "source": [
    "curator_df_filtered = curator_df[curator_df[CUR_IS_MEMBER] != \"Unknown\"]"
   ]
  },
  {
   "cell_type": "code",
   "execution_count": 110,
   "id": "54d3aa4a80fb12b",
   "metadata": {
    "ExecuteTime": {
     "end_time": "2025-01-27T21:54:41.091856Z",
     "start_time": "2025-01-27T21:54:41.073756Z"
    }
   },
   "outputs": [
    {
     "data": {
      "text/plain": [
       "agreement_c3p_curator\n",
       "False    0.232877\n",
       "True     0.767123\n",
       "dtype: float64"
      ]
     },
     "execution_count": 110,
     "metadata": {},
     "output_type": "execute_result"
    }
   ],
   "source": [
    "curator_df_filtered.groupby([\"agreement_c3p_curator\"]).size() / len(curator_df_filtered)"
   ]
  },
  {
   "cell_type": "code",
   "execution_count": 114,
   "id": "d9af12d6-1d22-41ba-b5b5-2a138627fcd4",
   "metadata": {},
   "outputs": [
    {
     "data": {
      "text/plain": [
       "0      False\n",
       "1      False\n",
       "2       True\n",
       "3      False\n",
       "4      False\n",
       "       ...  \n",
       "217     True\n",
       "218     True\n",
       "219     True\n",
       "220     True\n",
       "221     True\n",
       "Length: 219, dtype: bool"
      ]
     },
     "execution_count": 114,
     "metadata": {},
     "output_type": "execute_result"
    }
   ],
   "source": [
    "curator_df_filtered.apply(lambda row: row[CUR_IS_MEMBER] == \"Yes\", axis=1)"
   ]
  },
  {
   "cell_type": "code",
   "execution_count": 115,
   "id": "3e93a1ab-d574-47c8-b06a-01329a4f84a8",
   "metadata": {},
   "outputs": [],
   "source": [
    "curator_df_filtered[\"cur\"] = curator_df_filtered.apply(lambda row: row[CUR_IS_MEMBER] == \"Yes\", axis=1)"
   ]
  },
  {
   "cell_type": "code",
   "execution_count": 116,
   "id": "effac5dd-3ad1-4976-8223-d38333334d9e",
   "metadata": {},
   "outputs": [
    {
     "data": {
      "text/plain": [
       "0      False\n",
       "1      False\n",
       "2       True\n",
       "3      False\n",
       "4      False\n",
       "       ...  \n",
       "217     True\n",
       "218     True\n",
       "219     True\n",
       "220     True\n",
       "221     True\n",
       "Name: cur, Length: 219, dtype: bool"
      ]
     },
     "execution_count": 116,
     "metadata": {},
     "output_type": "execute_result"
    }
   ],
   "source": [
    "curator_df_filtered[\"cur\"] "
   ]
  },
  {
   "cell_type": "code",
   "execution_count": 95,
   "id": "5f5f80e6-012d-4cb1-b757-100d17592b3c",
   "metadata": {},
   "outputs": [
    {
     "data": {
      "text/plain": [
       "0      NO, the statement is incorrect.   N-Mononitros...\n",
       "1      NO, the statement is not true.  1-(Tetrahydro-...\n",
       "2      YES, the provided statement is true.  The stru...\n",
       "3      NO, the statement is not true.   The structure...\n",
       "4      YES, the provided statement is true.   The SMI...\n",
       "                             ...                        \n",
       "217    YES, the provided statement is true. The struc...\n",
       "218    YES, the provided statement is true. The given...\n",
       "219    YES, the structure known as decyl oleate is a ...\n",
       "220    YES, the statement is true. The structure 9-Hy...\n",
       "221    YES, the provided structure dodecyl dodecanoat...\n",
       "Name: model=citeseek-gpt-4o_response, Length: 219, dtype: object"
      ]
     },
     "execution_count": 95,
     "metadata": {},
     "output_type": "execute_result"
    }
   ],
   "source": [
    "curator_df_filtered[CITESEEK]"
   ]
  },
  {
   "cell_type": "code",
   "execution_count": 120,
   "id": "1a8f9f14-45b7-4b8a-a208-ff4232736f81",
   "metadata": {},
   "outputs": [],
   "source": [
    "curator_df_filtered[\"llm\"] = curator_df_filtered.apply(lambda row: row.get(CITESEEK, \"\").startswith(\"YES\"), axis=1)"
   ]
  },
  {
   "cell_type": "code",
   "execution_count": 122,
   "id": "38e004e9-567a-4233-abd1-604f16b6c823",
   "metadata": {},
   "outputs": [],
   "source": [
    "curator_df_filtered[\"llm_agrees_with_cur\"] = curator_df_filtered.apply(lambda row: row[\"cur\"] == row[\"llm\"], axis=1)"
   ]
  },
  {
   "cell_type": "code",
   "execution_count": 123,
   "id": "9f44ad54-dad0-4da2-b9f6-55509ddef5f2",
   "metadata": {},
   "outputs": [
    {
     "data": {
      "text/plain": [
       "llm_agrees_with_cur\n",
       "False    0.155251\n",
       "True     0.844749\n",
       "dtype: float64"
      ]
     },
     "execution_count": 123,
     "metadata": {},
     "output_type": "execute_result"
    }
   ],
   "source": [
    "curator_df_filtered.groupby([\"llm_agrees_with_cur\"]).size() / len(curator_df_filtered)"
   ]
  },
  {
   "cell_type": "code",
   "execution_count": 121,
   "id": "cc350a0a-1ca9-4b41-a3fe-2b4780385ab6",
   "metadata": {},
   "outputs": [
    {
     "data": {
      "text/plain": [
       "cur    llm  \n",
       "False  False    123\n",
       "       True      27\n",
       "True   False      7\n",
       "       True      62\n",
       "dtype: int64"
      ]
     },
     "execution_count": 121,
     "metadata": {},
     "output_type": "execute_result"
    }
   ],
   "source": [
    "curator_df_filtered.groupby([\"cur\", \"llm\"]).size()"
   ]
  },
  {
   "cell_type": "code",
   "execution_count": 75,
   "id": "2bd55e267b473520",
   "metadata": {
    "ExecuteTime": {
     "end_time": "2025-01-27T21:54:41.153840Z",
     "start_time": "2025-01-27T21:54:41.135183Z"
    }
   },
   "outputs": [
    {
     "data": {
      "text/plain": [
       "Curator: is_member?  in_benchmark  in_c3p  in_chebi\n",
       "No                   False         False   False       72\n",
       "                                   True    False       18\n",
       "                     True          False   True        55\n",
       "                                   True    True         5\n",
       "Unknown              True          True    True         3\n",
       "Yes                  False         False   False        5\n",
       "                                   True    False       29\n",
       "                     True          False   True        23\n",
       "                                   True    True        12\n",
       "dtype: int64"
      ]
     },
     "execution_count": 75,
     "metadata": {},
     "output_type": "execute_result"
    }
   ],
   "source": [
    "curator_df.groupby([CUR_IS_MEMBER, \"in_benchmark\", \"in_c3p\", \"in_chebi\"]).size()\n"
   ]
  },
  {
   "cell_type": "code",
   "execution_count": 76,
   "id": "f0b800962d98209",
   "metadata": {
    "ExecuteTime": {
     "end_time": "2025-01-27T21:54:41.222421Z",
     "start_time": "2025-01-27T21:54:41.204829Z"
    }
   },
   "outputs": [
    {
     "data": {
      "text/html": [
       "<div>\n",
       "<style scoped>\n",
       "    .dataframe tbody tr th:only-of-type {\n",
       "        vertical-align: middle;\n",
       "    }\n",
       "\n",
       "    .dataframe tbody tr th {\n",
       "        vertical-align: top;\n",
       "    }\n",
       "\n",
       "    .dataframe thead th {\n",
       "        text-align: right;\n",
       "    }\n",
       "</style>\n",
       "<table border=\"1\" class=\"dataframe\">\n",
       "  <thead>\n",
       "    <tr style=\"text-align: right;\">\n",
       "      <th></th>\n",
       "      <th>chemical_class_id</th>\n",
       "      <th>chemical_class_name</th>\n",
       "      <th>smiles</th>\n",
       "      <th>fixed_smiles</th>\n",
       "      <th>structure_name</th>\n",
       "      <th>model=citeseek-gpt-4o_response</th>\n",
       "      <th>model=claude-sonnet_response</th>\n",
       "      <th>model=deepseek-chat_response</th>\n",
       "      <th>model=gpt-3.5-turbo_response</th>\n",
       "      <th>model=gpt-4o_response</th>\n",
       "      <th>Curator: is_member?</th>\n",
       "      <th>Curator: comments</th>\n",
       "      <th>in_benchmark</th>\n",
       "      <th>in_chebi</th>\n",
       "      <th>agreement_benchmark_chebi</th>\n",
       "      <th>agreement_curator_benchmark</th>\n",
       "      <th>agreement_curator_chebi</th>\n",
       "      <th>in_c3p</th>\n",
       "      <th>agreement_c3p_curator</th>\n",
       "    </tr>\n",
       "  </thead>\n",
       "  <tbody>\n",
       "    <tr>\n",
       "      <th>3</th>\n",
       "      <td>CHEBI:47622</td>\n",
       "      <td>acetate ester</td>\n",
       "      <td>CCCCCCCCCCCCCC(=O)OC[C@H](COP([O-])(=O)OC[C@@H...</td>\n",
       "      <td>CCCCCCCCCCCCCC(=O)OC[C@H](COP([O-])(=O)OC[C@@H...</td>\n",
       "      <td>1-myristoyl-2-oleoyl-sn-glycero-3-phosphatidyl...</td>\n",
       "      <td>NO, the statement is not true.   The structure...</td>\n",
       "      <td>NO, the provided statement is not true.  Expla...</td>\n",
       "      <td>NO. The structure 1-myristoyl-2-oleoyl-sn-glyc...</td>\n",
       "      <td>NO  Explanation: The provided SMILES string 'C...</td>\n",
       "      <td>NO, the provided statement is incorrect.   1-m...</td>\n",
       "      <td>No</td>\n",
       "      <td>It is a carboxylic ester</td>\n",
       "      <td>False</td>\n",
       "      <td>False</td>\n",
       "      <td>True</td>\n",
       "      <td>True</td>\n",
       "      <td>True</td>\n",
       "      <td>False</td>\n",
       "      <td>True</td>\n",
       "    </tr>\n",
       "    <tr>\n",
       "      <th>8</th>\n",
       "      <td>CHEBI:17478</td>\n",
       "      <td>aldehyde</td>\n",
       "      <td>CCCCCCCCCCCCCC(=O)OC[C@H](COP([O-])(=O)OC[C@@H...</td>\n",
       "      <td>CCCCCCCCCCCCCC(=O)OC[C@H](COP([O-])(=O)OC[C@@H...</td>\n",
       "      <td>1-myristoyl-2-oleoyl-sn-glycero-3-phosphatidyl...</td>\n",
       "      <td>NO, the statement is incorrect.  1-Myristoyl-2...</td>\n",
       "      <td>NO. 1-myristoyl-2-oleoyl-sn-glycero-3-phosphat...</td>\n",
       "      <td>NO. The structure 1-myristoyl-2-oleoyl-sn-glyc...</td>\n",
       "      <td>NO  Explanation: The provided compound is a ty...</td>\n",
       "      <td>NO, the statement is not true. The structure 1...</td>\n",
       "      <td>No</td>\n",
       "      <td>It is a carboylic ester</td>\n",
       "      <td>False</td>\n",
       "      <td>False</td>\n",
       "      <td>True</td>\n",
       "      <td>True</td>\n",
       "      <td>True</td>\n",
       "      <td>False</td>\n",
       "      <td>True</td>\n",
       "    </tr>\n",
       "    <tr>\n",
       "      <th>9</th>\n",
       "      <td>CHEBI:17478</td>\n",
       "      <td>aldehyde</td>\n",
       "      <td>C(=C\\C/C=C\\CCCC(NC)=O)\\C/C=C\\C/C=C\\CCCCC</td>\n",
       "      <td>C(=C\\C/C=C\\CCCC(NC)=O)\\C/C=C\\C/C=C\\CCCCC</td>\n",
       "      <td>N-methyl arachidonoyl amine</td>\n",
       "      <td>NO, the provided statement is not true.   The ...</td>\n",
       "      <td>NO. The provided structure, N-methyl arachidon...</td>\n",
       "      <td>NO. The structure N-methyl arachidonoyl amine ...</td>\n",
       "      <td>NO  The provided structure N-methyl arachidono...</td>\n",
       "      <td>NO, the provided statement is not true.   The ...</td>\n",
       "      <td>No</td>\n",
       "      <td>It is a secondary carboxamide</td>\n",
       "      <td>False</td>\n",
       "      <td>False</td>\n",
       "      <td>True</td>\n",
       "      <td>True</td>\n",
       "      <td>True</td>\n",
       "      <td>False</td>\n",
       "      <td>True</td>\n",
       "    </tr>\n",
       "    <tr>\n",
       "      <th>10</th>\n",
       "      <td>CHEBI:17478</td>\n",
       "      <td>aldehyde</td>\n",
       "      <td>O=C1C2=C(OC(=C1)C)C3=C(OC)C=C(OC)C=C3C(=C2O)C4...</td>\n",
       "      <td>No change</td>\n",
       "      <td>Isonigerone</td>\n",
       "      <td>NO, Isonigerone is not a type of aldehyde. The...</td>\n",
       "      <td>NO. Isonigerone is not an aldehyde. Looking at...</td>\n",
       "      <td>NO. The structure known as Isonigerone, as rep...</td>\n",
       "      <td>NO  The provided structure for Isonigerone is ...</td>\n",
       "      <td>NO, the provided statement is incorrect. The S...</td>\n",
       "      <td>No</td>\n",
       "      <td>It is a polycyclic compound</td>\n",
       "      <td>False</td>\n",
       "      <td>False</td>\n",
       "      <td>True</td>\n",
       "      <td>True</td>\n",
       "      <td>True</td>\n",
       "      <td>False</td>\n",
       "      <td>True</td>\n",
       "    </tr>\n",
       "    <tr>\n",
       "      <th>12</th>\n",
       "      <td>CHEBI:2571</td>\n",
       "      <td>aliphatic alcohol</td>\n",
       "      <td>C[C@H]1CN(C(=O)C2=C(C3=CC=CC=C3CO[C@@H]1CN(C)C...</td>\n",
       "      <td>No change</td>\n",
       "      <td>LSM-30659</td>\n",
       "      <td>NO, the provided statement is not true. Based ...</td>\n",
       "      <td>NO. The provided statement is incorrect.  Expl...</td>\n",
       "      <td>NO. The structure LSM-30659, as described by t...</td>\n",
       "      <td>NO  Explanation: The provided structure LSM-30...</td>\n",
       "      <td>NO, the statement is incorrect. The structure ...</td>\n",
       "      <td>No</td>\n",
       "      <td>the structure as a whole is not aliphatic</td>\n",
       "      <td>False</td>\n",
       "      <td>False</td>\n",
       "      <td>True</td>\n",
       "      <td>True</td>\n",
       "      <td>True</td>\n",
       "      <td>False</td>\n",
       "      <td>True</td>\n",
       "    </tr>\n",
       "    <tr>\n",
       "      <th>...</th>\n",
       "      <td>...</td>\n",
       "      <td>...</td>\n",
       "      <td>...</td>\n",
       "      <td>...</td>\n",
       "      <td>...</td>\n",
       "      <td>...</td>\n",
       "      <td>...</td>\n",
       "      <td>...</td>\n",
       "      <td>...</td>\n",
       "      <td>...</td>\n",
       "      <td>...</td>\n",
       "      <td>...</td>\n",
       "      <td>...</td>\n",
       "      <td>...</td>\n",
       "      <td>...</td>\n",
       "      <td>...</td>\n",
       "      <td>...</td>\n",
       "      <td>...</td>\n",
       "      <td>...</td>\n",
       "    </tr>\n",
       "    <tr>\n",
       "      <th>199</th>\n",
       "      <td>CHEBI:36141</td>\n",
       "      <td>quinone</td>\n",
       "      <td>CC[C@@]1(C)CC(=O)NC1=O</td>\n",
       "      <td>No change</td>\n",
       "      <td>(S)-ethosuximide</td>\n",
       "      <td>NO, the statement is not true.   (S)-Ethosuxim...</td>\n",
       "      <td>NO. The provided structure (S)-ethosuximide (w...</td>\n",
       "      <td>NO. The structure (S)-ethosuximide (SMILES 'CC...</td>\n",
       "      <td>NO  Explanation: The provided structure for (S...</td>\n",
       "      <td>NO, the provided statement is not true.  (S)-E...</td>\n",
       "      <td>No</td>\n",
       "      <td>NaN</td>\n",
       "      <td>False</td>\n",
       "      <td>False</td>\n",
       "      <td>True</td>\n",
       "      <td>True</td>\n",
       "      <td>True</td>\n",
       "      <td>False</td>\n",
       "      <td>True</td>\n",
       "    </tr>\n",
       "    <tr>\n",
       "      <th>205</th>\n",
       "      <td>CHEBI:17855</td>\n",
       "      <td>triglyceride</td>\n",
       "      <td>CCOc1nc2cccc(C(=O)OC(C)OC(=O)OC3CCCCC3)c2n1Cc1...</td>\n",
       "      <td>No change</td>\n",
       "      <td>Candesartan cilexetil</td>\n",
       "      <td>NO, Candesartan cilexetil is not a type of tri...</td>\n",
       "      <td>NO, the provided statement is not true.  Cande...</td>\n",
       "      <td>NO. The structure known as Candesartan cilexet...</td>\n",
       "      <td>NO  Candesartan cilexetil is not a type of tri...</td>\n",
       "      <td>NO, the provided statement is false. The chemi...</td>\n",
       "      <td>No</td>\n",
       "      <td>NaN</td>\n",
       "      <td>False</td>\n",
       "      <td>False</td>\n",
       "      <td>True</td>\n",
       "      <td>True</td>\n",
       "      <td>True</td>\n",
       "      <td>False</td>\n",
       "      <td>True</td>\n",
       "    </tr>\n",
       "    <tr>\n",
       "      <th>206</th>\n",
       "      <td>CHEBI:17855</td>\n",
       "      <td>triglyceride</td>\n",
       "      <td>CCCCCCCCCCCCCCCC(=O)OCC(CSC[C@H](N)C(O)=O)OC(=...</td>\n",
       "      <td>No change</td>\n",
       "      <td>2,3-dipalmitoyl-S-glycerylcysteine</td>\n",
       "      <td>NO, the structure described as 2,3-dipalmitoyl...</td>\n",
       "      <td>NO. The provided SMILES string 'CCCCCCCCCCCCCC...</td>\n",
       "      <td>NO. The structure 2,3-dipalmitoyl-S-glycerylcy...</td>\n",
       "      <td>NO  Explanation: The structure provided is not...</td>\n",
       "      <td>NO, the provided statement is not true. The st...</td>\n",
       "      <td>No</td>\n",
       "      <td>NaN</td>\n",
       "      <td>False</td>\n",
       "      <td>False</td>\n",
       "      <td>True</td>\n",
       "      <td>True</td>\n",
       "      <td>True</td>\n",
       "      <td>False</td>\n",
       "      <td>True</td>\n",
       "    </tr>\n",
       "    <tr>\n",
       "      <th>214</th>\n",
       "      <td>CHEBI:27208</td>\n",
       "      <td>unsaturated fatty acid</td>\n",
       "      <td>C[C@@H]1OC(=O)C=C1</td>\n",
       "      <td>No change</td>\n",
       "      <td>(S)-5-methylfuran-2(5H)-one</td>\n",
       "      <td>NO, the statement is incorrect. The structure ...</td>\n",
       "      <td>NO.  The provided statement is incorrect.  (S)...</td>\n",
       "      <td>NO. The structure (S)-5-methylfuran-2(5H)-one ...</td>\n",
       "      <td>NO  Explanation: (S)-5-methylfuran-2(5H)-one i...</td>\n",
       "      <td>NO, (S)-5-methylfuran-2(5H)-one is not a type ...</td>\n",
       "      <td>No</td>\n",
       "      <td>NaN</td>\n",
       "      <td>False</td>\n",
       "      <td>False</td>\n",
       "      <td>True</td>\n",
       "      <td>True</td>\n",
       "      <td>True</td>\n",
       "      <td>False</td>\n",
       "      <td>True</td>\n",
       "    </tr>\n",
       "    <tr>\n",
       "      <th>215</th>\n",
       "      <td>CHEBI:27283</td>\n",
       "      <td>very long-chain fatty acid</td>\n",
       "      <td>O1[C@]2([C@@H](O)[C@H](O)[C@@H](O)[C@@]1(OCC[C...</td>\n",
       "      <td>No change</td>\n",
       "      <td>Urceolide</td>\n",
       "      <td>NO, the statement is not true.   The structure...</td>\n",
       "      <td>NO. The provided statement is not true.  Expla...</td>\n",
       "      <td>NO. The structure known as Urceolide, as descr...</td>\n",
       "      <td>NO  Explanation: The provided SMILES ('O1[C@]2...</td>\n",
       "      <td>NO, the provided statement is not true. The st...</td>\n",
       "      <td>No</td>\n",
       "      <td>NaN</td>\n",
       "      <td>False</td>\n",
       "      <td>False</td>\n",
       "      <td>True</td>\n",
       "      <td>True</td>\n",
       "      <td>True</td>\n",
       "      <td>False</td>\n",
       "      <td>True</td>\n",
       "    </tr>\n",
       "  </tbody>\n",
       "</table>\n",
       "<p>77 rows × 19 columns</p>\n",
       "</div>"
      ],
      "text/plain": [
       "    chemical_class_id         chemical_class_name  \\\n",
       "3         CHEBI:47622               acetate ester   \n",
       "8         CHEBI:17478                    aldehyde   \n",
       "9         CHEBI:17478                    aldehyde   \n",
       "10        CHEBI:17478                    aldehyde   \n",
       "12         CHEBI:2571           aliphatic alcohol   \n",
       "..                ...                         ...   \n",
       "199       CHEBI:36141                     quinone   \n",
       "205       CHEBI:17855                triglyceride   \n",
       "206       CHEBI:17855                triglyceride   \n",
       "214       CHEBI:27208      unsaturated fatty acid   \n",
       "215       CHEBI:27283  very long-chain fatty acid   \n",
       "\n",
       "                                                smiles  \\\n",
       "3    CCCCCCCCCCCCCC(=O)OC[C@H](COP([O-])(=O)OC[C@@H...   \n",
       "8    CCCCCCCCCCCCCC(=O)OC[C@H](COP([O-])(=O)OC[C@@H...   \n",
       "9             C(=C\\C/C=C\\CCCC(NC)=O)\\C/C=C\\C/C=C\\CCCCC   \n",
       "10   O=C1C2=C(OC(=C1)C)C3=C(OC)C=C(OC)C=C3C(=C2O)C4...   \n",
       "12   C[C@H]1CN(C(=O)C2=C(C3=CC=CC=C3CO[C@@H]1CN(C)C...   \n",
       "..                                                 ...   \n",
       "199                             CC[C@@]1(C)CC(=O)NC1=O   \n",
       "205  CCOc1nc2cccc(C(=O)OC(C)OC(=O)OC3CCCCC3)c2n1Cc1...   \n",
       "206  CCCCCCCCCCCCCCCC(=O)OCC(CSC[C@H](N)C(O)=O)OC(=...   \n",
       "214                                 C[C@@H]1OC(=O)C=C1   \n",
       "215  O1[C@]2([C@@H](O)[C@H](O)[C@@H](O)[C@@]1(OCC[C...   \n",
       "\n",
       "                                          fixed_smiles  \\\n",
       "3    CCCCCCCCCCCCCC(=O)OC[C@H](COP([O-])(=O)OC[C@@H...   \n",
       "8    CCCCCCCCCCCCCC(=O)OC[C@H](COP([O-])(=O)OC[C@@H...   \n",
       "9             C(=C\\C/C=C\\CCCC(NC)=O)\\C/C=C\\C/C=C\\CCCCC   \n",
       "10                                           No change   \n",
       "12                                           No change   \n",
       "..                                                 ...   \n",
       "199                                          No change   \n",
       "205                                          No change   \n",
       "206                                          No change   \n",
       "214                                          No change   \n",
       "215                                          No change   \n",
       "\n",
       "                                        structure_name  \\\n",
       "3    1-myristoyl-2-oleoyl-sn-glycero-3-phosphatidyl...   \n",
       "8    1-myristoyl-2-oleoyl-sn-glycero-3-phosphatidyl...   \n",
       "9                          N-methyl arachidonoyl amine   \n",
       "10                                         Isonigerone   \n",
       "12                                           LSM-30659   \n",
       "..                                                 ...   \n",
       "199                                   (S)-ethosuximide   \n",
       "205                              Candesartan cilexetil   \n",
       "206                 2,3-dipalmitoyl-S-glycerylcysteine   \n",
       "214                        (S)-5-methylfuran-2(5H)-one   \n",
       "215                                          Urceolide   \n",
       "\n",
       "                        model=citeseek-gpt-4o_response  \\\n",
       "3    NO, the statement is not true.   The structure...   \n",
       "8    NO, the statement is incorrect.  1-Myristoyl-2...   \n",
       "9    NO, the provided statement is not true.   The ...   \n",
       "10   NO, Isonigerone is not a type of aldehyde. The...   \n",
       "12   NO, the provided statement is not true. Based ...   \n",
       "..                                                 ...   \n",
       "199  NO, the statement is not true.   (S)-Ethosuxim...   \n",
       "205  NO, Candesartan cilexetil is not a type of tri...   \n",
       "206  NO, the structure described as 2,3-dipalmitoyl...   \n",
       "214  NO, the statement is incorrect. The structure ...   \n",
       "215  NO, the statement is not true.   The structure...   \n",
       "\n",
       "                          model=claude-sonnet_response  \\\n",
       "3    NO, the provided statement is not true.  Expla...   \n",
       "8    NO. 1-myristoyl-2-oleoyl-sn-glycero-3-phosphat...   \n",
       "9    NO. The provided structure, N-methyl arachidon...   \n",
       "10   NO. Isonigerone is not an aldehyde. Looking at...   \n",
       "12   NO. The provided statement is incorrect.  Expl...   \n",
       "..                                                 ...   \n",
       "199  NO. The provided structure (S)-ethosuximide (w...   \n",
       "205  NO, the provided statement is not true.  Cande...   \n",
       "206  NO. The provided SMILES string 'CCCCCCCCCCCCCC...   \n",
       "214  NO.  The provided statement is incorrect.  (S)...   \n",
       "215  NO. The provided statement is not true.  Expla...   \n",
       "\n",
       "                          model=deepseek-chat_response  \\\n",
       "3    NO. The structure 1-myristoyl-2-oleoyl-sn-glyc...   \n",
       "8    NO. The structure 1-myristoyl-2-oleoyl-sn-glyc...   \n",
       "9    NO. The structure N-methyl arachidonoyl amine ...   \n",
       "10   NO. The structure known as Isonigerone, as rep...   \n",
       "12   NO. The structure LSM-30659, as described by t...   \n",
       "..                                                 ...   \n",
       "199  NO. The structure (S)-ethosuximide (SMILES 'CC...   \n",
       "205  NO. The structure known as Candesartan cilexet...   \n",
       "206  NO. The structure 2,3-dipalmitoyl-S-glycerylcy...   \n",
       "214  NO. The structure (S)-5-methylfuran-2(5H)-one ...   \n",
       "215  NO. The structure known as Urceolide, as descr...   \n",
       "\n",
       "                          model=gpt-3.5-turbo_response  \\\n",
       "3    NO  Explanation: The provided SMILES string 'C...   \n",
       "8    NO  Explanation: The provided compound is a ty...   \n",
       "9    NO  The provided structure N-methyl arachidono...   \n",
       "10   NO  The provided structure for Isonigerone is ...   \n",
       "12   NO  Explanation: The provided structure LSM-30...   \n",
       "..                                                 ...   \n",
       "199  NO  Explanation: The provided structure for (S...   \n",
       "205  NO  Candesartan cilexetil is not a type of tri...   \n",
       "206  NO  Explanation: The structure provided is not...   \n",
       "214  NO  Explanation: (S)-5-methylfuran-2(5H)-one i...   \n",
       "215  NO  Explanation: The provided SMILES ('O1[C@]2...   \n",
       "\n",
       "                                 model=gpt-4o_response Curator: is_member?  \\\n",
       "3    NO, the provided statement is incorrect.   1-m...                  No   \n",
       "8    NO, the statement is not true. The structure 1...                  No   \n",
       "9    NO, the provided statement is not true.   The ...                  No   \n",
       "10   NO, the provided statement is incorrect. The S...                  No   \n",
       "12   NO, the statement is incorrect. The structure ...                  No   \n",
       "..                                                 ...                 ...   \n",
       "199  NO, the provided statement is not true.  (S)-E...                  No   \n",
       "205  NO, the provided statement is false. The chemi...                  No   \n",
       "206  NO, the provided statement is not true. The st...                  No   \n",
       "214  NO, (S)-5-methylfuran-2(5H)-one is not a type ...                  No   \n",
       "215  NO, the provided statement is not true. The st...                  No   \n",
       "\n",
       "                             Curator: comments  in_benchmark  in_chebi  \\\n",
       "3                     It is a carboxylic ester         False     False   \n",
       "8                      It is a carboylic ester         False     False   \n",
       "9                It is a secondary carboxamide         False     False   \n",
       "10                 It is a polycyclic compound         False     False   \n",
       "12   the structure as a whole is not aliphatic         False     False   \n",
       "..                                         ...           ...       ...   \n",
       "199                                        NaN         False     False   \n",
       "205                                        NaN         False     False   \n",
       "206                                        NaN         False     False   \n",
       "214                                        NaN         False     False   \n",
       "215                                        NaN         False     False   \n",
       "\n",
       "     agreement_benchmark_chebi agreement_curator_benchmark  \\\n",
       "3                         True                        True   \n",
       "8                         True                        True   \n",
       "9                         True                        True   \n",
       "10                        True                        True   \n",
       "12                        True                        True   \n",
       "..                         ...                         ...   \n",
       "199                       True                        True   \n",
       "205                       True                        True   \n",
       "206                       True                        True   \n",
       "214                       True                        True   \n",
       "215                       True                        True   \n",
       "\n",
       "    agreement_curator_chebi  in_c3p agreement_c3p_curator  \n",
       "3                      True   False                  True  \n",
       "8                      True   False                  True  \n",
       "9                      True   False                  True  \n",
       "10                     True   False                  True  \n",
       "12                     True   False                  True  \n",
       "..                      ...     ...                   ...  \n",
       "199                    True   False                  True  \n",
       "205                    True   False                  True  \n",
       "206                    True   False                  True  \n",
       "214                    True   False                  True  \n",
       "215                    True   False                  True  \n",
       "\n",
       "[77 rows x 19 columns]"
      ]
     },
     "execution_count": 76,
     "metadata": {},
     "output_type": "execute_result"
    }
   ],
   "source": [
    "curator_df[(curator_df[\"in_benchmark\"] == False) & (curator_df[\"in_c3p\"] == False)] "
   ]
  },
  {
   "cell_type": "code",
   "execution_count": 77,
   "id": "a9d9c5300545e013",
   "metadata": {
    "ExecuteTime": {
     "end_time": "2025-01-27T21:54:41.301060Z",
     "start_time": "2025-01-27T21:54:41.282237Z"
    }
   },
   "outputs": [
    {
     "data": {
      "text/html": [
       "<div>\n",
       "<style scoped>\n",
       "    .dataframe tbody tr th:only-of-type {\n",
       "        vertical-align: middle;\n",
       "    }\n",
       "\n",
       "    .dataframe tbody tr th {\n",
       "        vertical-align: top;\n",
       "    }\n",
       "\n",
       "    .dataframe thead th {\n",
       "        text-align: right;\n",
       "    }\n",
       "</style>\n",
       "<table border=\"1\" class=\"dataframe\">\n",
       "  <thead>\n",
       "    <tr style=\"text-align: right;\">\n",
       "      <th></th>\n",
       "      <th>chemical_class_id</th>\n",
       "      <th>chemical_class_name</th>\n",
       "      <th>smiles</th>\n",
       "      <th>fixed_smiles</th>\n",
       "      <th>structure_name</th>\n",
       "      <th>model=citeseek-gpt-4o_response</th>\n",
       "      <th>model=claude-sonnet_response</th>\n",
       "      <th>model=deepseek-chat_response</th>\n",
       "      <th>model=gpt-3.5-turbo_response</th>\n",
       "      <th>model=gpt-4o_response</th>\n",
       "      <th>Curator: is_member?</th>\n",
       "      <th>Curator: comments</th>\n",
       "      <th>in_benchmark</th>\n",
       "      <th>in_chebi</th>\n",
       "      <th>agreement_benchmark_chebi</th>\n",
       "      <th>agreement_curator_benchmark</th>\n",
       "      <th>agreement_curator_chebi</th>\n",
       "      <th>in_c3p</th>\n",
       "      <th>agreement_c3p_curator</th>\n",
       "    </tr>\n",
       "  </thead>\n",
       "  <tbody>\n",
       "  </tbody>\n",
       "</table>\n",
       "</div>"
      ],
      "text/plain": [
       "Empty DataFrame\n",
       "Columns: [chemical_class_id, chemical_class_name, smiles, fixed_smiles, structure_name, model=citeseek-gpt-4o_response, model=claude-sonnet_response, model=deepseek-chat_response, model=gpt-3.5-turbo_response, model=gpt-4o_response, Curator: is_member?, Curator: comments, in_benchmark, in_chebi, agreement_benchmark_chebi, agreement_curator_benchmark, agreement_curator_chebi, in_c3p, agreement_c3p_curator]\n",
       "Index: []"
      ]
     },
     "execution_count": 77,
     "metadata": {},
     "output_type": "execute_result"
    }
   ],
   "source": [
    "curator_df[curator_df[\"agreement_benchmark_chebi\"] == False] "
   ]
  },
  {
   "cell_type": "code",
   "execution_count": 78,
   "id": "221a89a5d69c99f7",
   "metadata": {
    "ExecuteTime": {
     "end_time": "2025-01-27T21:54:41.416428Z",
     "start_time": "2025-01-27T21:54:41.383962Z"
    }
   },
   "outputs": [],
   "source": [
    "curator_df.to_csv(f\"{RESULTS_DIR}/manual-evals-with-c3p.csv\", index=False)"
   ]
  },
  {
   "cell_type": "code",
   "execution_count": null,
   "id": "33da936b0ca8f98b",
   "metadata": {
    "ExecuteTime": {
     "end_time": "2025-01-27T21:54:41.481790Z",
     "start_time": "2025-01-27T21:54:41.480156Z"
    }
   },
   "outputs": [],
   "source": []
  },
  {
   "cell_type": "code",
   "execution_count": 79,
   "id": "cf4981bd02addd73",
   "metadata": {
    "ExecuteTime": {
     "end_time": "2025-01-27T21:54:42.181815Z",
     "start_time": "2025-01-27T21:54:42.110919Z"
    }
   },
   "outputs": [],
   "source": [
    "curator_df.to_excel(f\"{RESULTS_DIR}/manual-evals-with-c3p.xlsx\", index=False)"
   ]
  },
  {
   "cell_type": "code",
   "execution_count": null,
   "id": "495eb11c71cb3d5f",
   "metadata": {
    "ExecuteTime": {
     "end_time": "2025-01-27T21:54:42.776211Z",
     "start_time": "2025-01-27T21:54:42.774365Z"
    }
   },
   "outputs": [],
   "source": []
  },
  {
   "cell_type": "code",
   "execution_count": null,
   "id": "1f694b053a9646f7",
   "metadata": {
    "ExecuteTime": {
     "end_time": "2025-01-27T21:02:18.003878Z",
     "start_time": "2025-01-24T15:22:44.236994Z"
    }
   },
   "outputs": [],
   "source": []
  },
  {
   "cell_type": "code",
   "execution_count": null,
   "id": "38b6601b69b77270",
   "metadata": {},
   "outputs": [],
   "source": []
  },
  {
   "cell_type": "code",
   "execution_count": null,
   "id": "a5ae4469-a5ff-4c31-a918-5cb19f787088",
   "metadata": {},
   "outputs": [],
   "source": []
  },
  {
   "cell_type": "code",
   "execution_count": null,
   "id": "75e6f687-2148-45d0-bc0d-e5cd30b17057",
   "metadata": {},
   "outputs": [],
   "source": []
  }
 ],
 "metadata": {
  "kernelspec": {
   "display_name": "Python 3 (ipykernel)",
   "language": "python",
   "name": "python3"
  },
  "language_info": {
   "codemirror_mode": {
    "name": "ipython",
    "version": 3
   },
   "file_extension": ".py",
   "mimetype": "text/x-python",
   "name": "python",
   "nbconvert_exporter": "python",
   "pygments_lexer": "ipython3",
   "version": "3.11.9"
  }
 },
 "nbformat": 4,
 "nbformat_minor": 5
}
