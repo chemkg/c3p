{
 "cells": [
  {
   "metadata": {},
   "cell_type": "markdown",
   "source": [
    "## Terpenoids\n",
    "\n",
    "example sesquiterpenoids\n",
    "https://github.com/ebi-chebi/ChEBI/issues/4651\n",
    "\n",
    "https://www.ebi.ac.uk/chebi/searchId.do?chebiId=144139\n",
    "\n",
    "![img](https://www.ebi.ac.uk/chebi/displayImage.do?defaultImage=true&imageIndex=0&chebiId=144139)\n",
    "\n"
   ],
   "id": "9d1ada122843a75e"
  },
  {
   "metadata": {
    "collapsed": true,
    "ExecuteTime": {
     "end_time": "2025-02-26T18:13:31.711328Z",
     "start_time": "2025-02-26T18:13:31.707628Z"
    }
   },
   "cell_type": "code",
   "source": [
    "from rdkit import Chem\n",
    "from rdkit.Chem.Scaffolds import MurckoScaffold\n",
    "from rdkit.Chem import Draw\n",
    "from rdkit.Chem.rdMolDescriptors import CalcNumRings\n",
    "\n",
    "# Your molecule's SMILES\n",
    "smiles = \"O=C1C(C2C(C3[C@](C4(C(C5(C(C(=O)C(C)(C)CC5)CC4)C)CC3)C)(C)CC2)(C)CC1OC(=O)C)(C)C\"\n",
    "\n",
    "def get_core_scaffold(smiles: str, draw=False):\n",
    "    mol = Chem.MolFromSmiles(smiles)\n",
    "\n",
    "    if mol:\n",
    "        \n",
    "        # Generate the Murcko framework (core backbone)\n",
    "        core = MurckoScaffold.GetScaffoldForMol(mol)\n",
    "\n",
    "        # Convert core to SMILES\n",
    "        core_smiles = Chem.MolToSmiles(core)\n",
    "        print(\"Core Scaffold SMILES:\", core_smiles)\n",
    "\n",
    "        # Count Carbon Atoms in Core\n",
    "        c_count = sum(1 for atom in core.GetAtoms() if atom.GetAtomicNum() == 6)\n",
    "        print(\"Core Carbon Count:\", c_count)\n",
    "\n",
    "        # Count Number of Rings in Core\n",
    "        ring_count = CalcNumRings(core)\n",
    "        print(\"Number of Rings in Core:\", ring_count)\n",
    "\n",
    "        # Show Core Structure\n",
    "        if draw:\n",
    "            core_image = Draw.MolToImage(core)\n",
    "            core_image.show()\n",
    "\n",
    "    else:\n",
    "        print(\"Invalid SMILES input.\")\n",
    "\n",
    "get_core_scaffold(smiles)\n",
    "\n"
   ],
   "id": "initial_id",
   "outputs": [
    {
     "name": "stdout",
     "output_type": "stream",
     "text": [
      "Core Scaffold SMILES: O=C1CCC2C(CCC3C2CCC2C4CCCC(=O)C4CCC23)C1\n",
      "Core Carbon Count: 22\n",
      "Number of Rings in Core: 5\n"
     ]
    }
   ],
   "execution_count": 4
  },
  {
   "metadata": {},
   "cell_type": "code",
   "outputs": [],
   "execution_count": null,
   "source": "",
   "id": "bf3609c64e767b0e"
  },
  {
   "metadata": {
    "ExecuteTime": {
     "end_time": "2025-02-26T18:12:38.951688Z",
     "start_time": "2025-02-26T18:12:38.949083Z"
    }
   },
   "cell_type": "code",
   "source": "talatrachyoxazine_B = 'C=C(C)[C@@H]1CC[C@@H](C)[C@@]2(O)[C@@H]1C=C(C)[C@@H](OC(C)=O)[C@@H]2OC(=O)[C@@H]1C[C@@]2(O)C3=C(C(Cl)=CC=C3)N(C)O[C@H]2N1/C=C/C(=O)OCCCCCCCCCCCCCCCCCCCCC'",
   "id": "9d5402967efc0061",
   "outputs": [],
   "execution_count": 3
  },
  {
   "metadata": {
    "ExecuteTime": {
     "end_time": "2025-02-26T18:26:54.910507Z",
     "start_time": "2025-02-26T18:26:54.831491Z"
    }
   },
   "cell_type": "code",
   "source": [
    "def draw(smiles: str):\n",
    "    mol = Chem.MolFromSmiles(smiles)\n",
    "    if mol:\n",
    "        img = Draw.MolToImage(mol)\n",
    "        img.show()\n",
    "    else:\n",
    "        print(\"Invalid SMILES input.\")\n",
    "        \n",
    "draw(talatrachyoxazine_B)"
   ],
   "id": "1c3b13f1f233e16e",
   "outputs": [],
   "execution_count": 11
  },
  {
   "metadata": {
    "ExecuteTime": {
     "end_time": "2025-02-26T18:13:41.604876Z",
     "start_time": "2025-02-26T18:13:41.601891Z"
    }
   },
   "cell_type": "code",
   "source": "get_core_scaffold(talatrachyoxazine_B)",
   "id": "ffc06dae6e93beee",
   "outputs": [
    {
     "name": "stdout",
     "output_type": "stream",
     "text": [
      "Core Scaffold SMILES: O=C(O[C@H]1CC=C[C@@H]2CCCCC21)[C@@H]1CC2c3ccccc3NO[C@H]2N1\n",
      "Core Carbon Count: 21\n",
      "Number of Rings in Core: 5\n"
     ]
    }
   ],
   "execution_count": 5
  },
  {
   "metadata": {
    "ExecuteTime": {
     "end_time": "2025-02-26T18:17:19.920644Z",
     "start_time": "2025-02-26T18:17:19.913840Z"
    }
   },
   "cell_type": "code",
   "source": [
    "from rdkit.Chem.rdmolops import GetSSSR\n",
    "\n",
    "def extract_largest_ring(smiles: str, draw=False):\n",
    "    mol = Chem.MolFromSmiles(smiles)\n",
    "\n",
    "    if mol:\n",
    "        rings = [ring for ring in Chem.GetSymmSSSR(mol)]\n",
    "        largest_ring = max(rings, key=len) if rings else None\n",
    "\n",
    "        if largest_ring:\n",
    "            ring_atoms = set(largest_ring)\n",
    "            core = Chem.PathToSubmol(mol, list(ring_atoms))\n",
    "            core_smiles = Chem.MolToSmiles(core)\n",
    "            print(\"Largest Ring System SMILES:\", core_smiles)\n",
    "\n",
    "            if draw:\n",
    "                core_image = Draw.MolToImage(core)\n",
    "                core_image.show()\n",
    "\n",
    "            return core_smiles\n",
    "\n",
    "    print(\"No rings found or invalid SMILES.\")\n",
    "    return None\n",
    "\n",
    "extract_largest_ring(talatrachyoxazine_B)"
   ],
   "id": "60d0c09dfb889dc2",
   "outputs": [
    {
     "name": "stdout",
     "output_type": "stream",
     "text": [
      "Largest Ring System SMILES: CC.CCCCC.CO\n"
     ]
    },
    {
     "data": {
      "text/plain": [
       "'CC.CCCCC.CO'"
      ]
     },
     "execution_count": 6,
     "metadata": {},
     "output_type": "execute_result"
    }
   ],
   "execution_count": 6
  },
  {
   "metadata": {
    "ExecuteTime": {
     "end_time": "2025-02-26T18:18:25.112501Z",
     "start_time": "2025-02-26T18:18:25.107364Z"
    }
   },
   "cell_type": "code",
   "source": [
    "from rdkit import Chem\n",
    "from rdkit.Chem import Draw\n",
    "from rdkit.Chem.rdmolops import GetSSSR\n",
    "\n",
    "def extract_largest_fused_ring_system(smiles: str, draw=False):\n",
    "    mol = Chem.MolFromSmiles(smiles)\n",
    "    \n",
    "    if not mol:\n",
    "        print(\"Invalid SMILES input.\")\n",
    "        return None\n",
    "\n",
    "    # Find all rings in the molecule\n",
    "    sssr = Chem.GetSymmSSSR(mol)\n",
    "\n",
    "    if not sssr:\n",
    "        print(\"No rings found in the molecule.\")\n",
    "        return None\n",
    "\n",
    "    # Identify the largest fused ring system\n",
    "    ring_sets = [set(ring) for ring in sssr]\n",
    "    largest_ring_system = max(ring_sets, key=len, default=None)\n",
    "\n",
    "    if not largest_ring_system:\n",
    "        print(\"No valid fused ring system found.\")\n",
    "        return None\n",
    "\n",
    "    # Convert the ring atom indices into a new molecule\n",
    "    core = Chem.PathToSubmol(mol, list(largest_ring_system))\n",
    "    core_smiles = Chem.MolToSmiles(core)\n",
    "    \n",
    "    print(\"Largest Fused Ring System SMILES:\", core_smiles)\n",
    "\n",
    "    if draw:\n",
    "        core_image = Draw.MolToImage(core)\n",
    "        core_image.show()\n",
    "\n",
    "    return core_smiles\n",
    "\n",
    "extract_largest_fused_ring_system(talatrachyoxazine_B)\n"
   ],
   "id": "c8ee2d0c529f7b29",
   "outputs": [
    {
     "name": "stdout",
     "output_type": "stream",
     "text": [
      "Largest Fused Ring System SMILES: CC.CCCCC.CO\n"
     ]
    },
    {
     "data": {
      "text/plain": [
       "'CC.CCCCC.CO'"
      ]
     },
     "execution_count": 7,
     "metadata": {},
     "output_type": "execute_result"
    }
   ],
   "execution_count": 7
  },
  {
   "metadata": {
    "ExecuteTime": {
     "end_time": "2025-02-26T18:20:19.604501Z",
     "start_time": "2025-02-26T18:20:19.598201Z"
    }
   },
   "cell_type": "code",
   "source": [
    "from rdkit import Chem\n",
    "from rdkit.Chem import Draw\n",
    "\n",
    "def extract_fused_ring_system(smiles: str, draw=False):\n",
    "    mol = Chem.MolFromSmiles(smiles)\n",
    "\n",
    "    if not mol:\n",
    "        print(\"Invalid SMILES input.\")\n",
    "        return None\n",
    "\n",
    "    # Get all rings in the molecule\n",
    "    sssr = Chem.GetSymmSSSR(mol)\n",
    "    if not sssr:\n",
    "        print(\"No rings detected in the molecule.\")\n",
    "        return None\n",
    "\n",
    "    # Create a list of sets, each containing atom indices of a ring\n",
    "    ring_sets = [set(ring) for ring in sssr]\n",
    "\n",
    "    # Merge overlapping ring sets to find the largest fused system\n",
    "    fused_rings = []\n",
    "    while ring_sets:\n",
    "        first = ring_sets.pop(0)\n",
    "        merged = True\n",
    "        while merged:\n",
    "            merged = False\n",
    "            for other in ring_sets:\n",
    "                if first.intersection(other):  # If rings share atoms, merge them\n",
    "                    first.update(other)\n",
    "                    ring_sets.remove(other)\n",
    "                    merged = True\n",
    "        fused_rings.append(first)\n",
    "\n",
    "    # Find the largest fused ring system\n",
    "    largest_fused_system = max(fused_rings, key=len, default=set())\n",
    "\n",
    "    if not largest_fused_system:\n",
    "        print(\"No valid fused ring system found.\")\n",
    "        return None\n",
    "\n",
    "    # Extract and create the substructure\n",
    "    core = Chem.PathToSubmol(mol, list(largest_fused_system))\n",
    "    core_smiles = Chem.MolToSmiles(core)\n",
    "\n",
    "    print(\"Largest Fused Ring System SMILES:\", core_smiles)\n",
    "\n",
    "    # Optional: Draw the structure\n",
    "    if draw:\n",
    "        core_image = Draw.MolToImage(core)\n",
    "        core_image.show()\n",
    "\n",
    "    return core_smiles\n",
    "\n",
    "extract_fused_ring_system(talatrachyoxazine_B)\n"
   ],
   "id": "17c26546e2e6ecf1",
   "outputs": [
    {
     "name": "stdout",
     "output_type": "stream",
     "text": [
      "Largest Fused Ring System SMILES: CCCO.CNCO.cc(cCl)NC.ccc\n"
     ]
    },
    {
     "data": {
      "text/plain": [
       "'CCCO.CNCO.cc(cCl)NC.ccc'"
      ]
     },
     "execution_count": 9,
     "metadata": {},
     "output_type": "execute_result"
    }
   ],
   "execution_count": 9
  },
  {
   "metadata": {
    "ExecuteTime": {
     "end_time": "2025-02-26T18:21:50.499267Z",
     "start_time": "2025-02-26T18:21:50.395453Z"
    }
   },
   "cell_type": "code",
   "source": [
    "from rdkit import Chem\n",
    "from rdkit.Chem import Draw\n",
    "\n",
    "def extract_fused_ring_system(smiles: str, draw=False):\n",
    "    mol = Chem.MolFromSmiles(smiles)\n",
    "\n",
    "    if not mol:\n",
    "        print(\"Invalid SMILES input.\")\n",
    "        return None\n",
    "\n",
    "    # Get all rings in the molecule\n",
    "    sssr = Chem.GetSymmSSSR(mol)\n",
    "    if not sssr:\n",
    "        print(\"No rings detected in the molecule.\")\n",
    "        return None\n",
    "\n",
    "    # Create a list of sets, each containing atom indices of a ring\n",
    "    ring_sets = [set(ring) for ring in sssr]\n",
    "\n",
    "    # Merge overlapping ring sets to find the largest fused system\n",
    "    fused_rings = []\n",
    "    while ring_sets:\n",
    "        first = ring_sets.pop(0)\n",
    "        merged = True\n",
    "        while merged:\n",
    "            merged = False\n",
    "            for other in ring_sets:\n",
    "                if first.intersection(other):  # If rings share atoms, merge them\n",
    "                    first.update(other)\n",
    "                    ring_sets.remove(other)\n",
    "                    merged = True\n",
    "        fused_rings.append(first)\n",
    "\n",
    "    # Find the largest fused ring system\n",
    "    largest_fused_system = max(fused_rings, key=len, default=set())\n",
    "\n",
    "    if not largest_fused_system:\n",
    "        print(\"No valid fused ring system found.\")\n",
    "        return None\n",
    "\n",
    "    # Extract and create the substructure\n",
    "    core = Chem.PathToSubmol(mol, list(largest_fused_system))\n",
    "    core_smiles = Chem.MolToSmiles(core)\n",
    "\n",
    "    print(\"Largest Fused Ring System SMILES:\", core_smiles)\n",
    "\n",
    "    # Optional: Draw the structure\n",
    "    if draw:\n",
    "        core_image = Draw.MolToImage(core)\n",
    "        core_image.show()\n",
    "\n",
    "    return core_smiles\n",
    "\n",
    "# Run with Talatrachyoxazine B\n",
    "talatrachyoxazine_B = \"C=C(C)[C@@H]1CC[C@@H](C)[C@@]2(O)[C@@H]1C=C(C)[C@@H](OC(C)=O)[C@@H]2OC(=O)[C@@H]1C[C@@]2(O)C3=C(C(Cl)=CC=C3)N(C)O[C@H]2N1/C=C/C(=O)OCCCCCCCCCCCCCCCCCCCCC\"\n",
    "\n",
    "extract_fused_ring_system(talatrachyoxazine_B, draw=True)\n"
   ],
   "id": "2875f35d0481520a",
   "outputs": [
    {
     "name": "stdout",
     "output_type": "stream",
     "text": [
      "Largest Fused Ring System SMILES: CCCO.CNCO.cc(cCl)NC.ccc\n"
     ]
    },
    {
     "data": {
      "text/plain": [
       "'CCCO.CNCO.cc(cCl)NC.ccc'"
      ]
     },
     "execution_count": 10,
     "metadata": {},
     "output_type": "execute_result"
    }
   ],
   "execution_count": 10
  },
  {
   "metadata": {
    "ExecuteTime": {
     "end_time": "2025-02-26T18:36:20.460201Z",
     "start_time": "2025-02-26T18:36:20.362256Z"
    }
   },
   "cell_type": "code",
   "source": [
    "from rdkit import Chem\n",
    "from rdkit.Chem import Draw\n",
    "from rdkit.Chem.Scaffolds import MurckoScaffold\n",
    "\n",
    "# Define SMARTS pattern for a sesquiterpene core (adjustable)\n",
    "sesquiterpene_smarts = \"[C;R]1[C;R][C;R][C;R][C;R][C;R]1\"  # Generic six-membered ring\n",
    "sesquiterpene_core = Chem.MolFromSmarts(sesquiterpene_smarts)\n",
    "\n",
    "def extract_sesquiterpene_core(smiles: str, draw=False):\n",
    "    mol = Chem.MolFromSmiles(smiles)\n",
    "\n",
    "    if not mol:\n",
    "        print(\"Invalid SMILES input.\")\n",
    "        return None\n",
    "\n",
    "    # 1. Remove large non-core elements like esters, long chains\n",
    "    #mol = Chem.DeleteSubstructs(mol, Chem.MolFromSmarts(\"C(=O)OCCCCCCCCCCCCCCCCCCCCC\"))\n",
    "\n",
    "    # 2. Extract the largest fused ring system\n",
    "    murcko_core = MurckoScaffold.GetScaffoldForMol(mol)\n",
    "\n",
    "    # 3. Check if the extracted core contains a sesquiterpene moiety\n",
    "    if murcko_core.HasSubstructMatch(sesquiterpene_core):\n",
    "        print(\"Sesquiterpene core detected in extracted structure.\")\n",
    "    else:\n",
    "        print(\"No clear sesquiterpene detected, possibly a hybrid.\")\n",
    "\n",
    "    # Convert core to SMILES\n",
    "    core_smiles = Chem.MolToSmiles(murcko_core)\n",
    "    print(\"Extracted Core SMILES:\", core_smiles)\n",
    "\n",
    "    # 4. Draw the core\n",
    "    if draw:\n",
    "        core_image = Draw.MolToImage(murcko_core)\n",
    "        core_image.show()\n",
    "\n",
    "    return core_smiles\n",
    "\n",
    "# Example: Process Talatrachyoxazine B\n",
    "talatrachyoxazine_B = \"C=C(C)[C@@H]1CC[C@@H](C)[C@@]2(O)[C@@H]1C=C(C)[C@@H](OC(C)=O)[C@@H]2OC(=O)[C@@H]1C[C@@]2(O)C3=C(C(Cl)=CC=C3)N(C)O[C@H]2N1/C=C/C(=O)OCCCCCCCCCCCCCCCCCCCCC\"\n",
    "\n",
    "extract_sesquiterpene_core(talatrachyoxazine_B, draw=True)\n"
   ],
   "id": "3de8d0466821074",
   "outputs": [
    {
     "name": "stdout",
     "output_type": "stream",
     "text": [
      "Sesquiterpene core detected in extracted structure.\n",
      "Extracted Core SMILES: O=C(O[C@H]1CC=C[C@@H]2CCCCC21)[C@@H]1CC2c3ccccc3NO[C@H]2N1\n"
     ]
    },
    {
     "data": {
      "text/plain": [
       "'O=C(O[C@H]1CC=C[C@@H]2CCCCC21)[C@@H]1CC2c3ccccc3NO[C@H]2N1'"
      ]
     },
     "execution_count": 13,
     "metadata": {},
     "output_type": "execute_result"
    }
   ],
   "execution_count": 13
  },
  {
   "metadata": {},
   "cell_type": "code",
   "outputs": [],
   "execution_count": null,
   "source": "",
   "id": "8ab5ef92c70046a5"
  }
 ],
 "metadata": {
  "kernelspec": {
   "display_name": "Python 3",
   "language": "python",
   "name": "python3"
  },
  "language_info": {
   "codemirror_mode": {
    "name": "ipython",
    "version": 2
   },
   "file_extension": ".py",
   "mimetype": "text/x-python",
   "name": "python",
   "nbconvert_exporter": "python",
   "pygments_lexer": "ipython2",
   "version": "2.7.6"
  }
 },
 "nbformat": 4,
 "nbformat_minor": 5
}
