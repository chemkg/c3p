{
 "cells": [
  {
   "metadata": {},
   "cell_type": "markdown",
   "source": [
    "# Evaluation\n",
    "\n",
    "Evaluation on results"
   ],
   "id": "f961db8b525223c7"
  },
  {
   "metadata": {
    "ExecuteTime": {
     "end_time": "2024-12-06T23:37:06.240501Z",
     "start_time": "2024-12-06T23:37:05.982217Z"
    }
   },
   "cell_type": "code",
   "source": "import pandas as pd",
   "id": "cd7b23fd2cfa4b64",
   "outputs": [],
   "execution_count": 1
  },
  {
   "metadata": {
    "ExecuteTime": {
     "end_time": "2024-12-06T23:37:06.314836Z",
     "start_time": "2024-12-06T23:37:06.256591Z"
    }
   },
   "cell_type": "code",
   "source": [
    "import pandas as pd\n",
    "\n",
    "from c3p.datamodel import Dataset, \\\n",
    "    EvaluationResult"
   ],
   "id": "b3f268a3d7ba401a",
   "outputs": [],
   "execution_count": 2
  },
  {
   "metadata": {
    "ExecuteTime": {
     "end_time": "2024-12-06T23:37:08.973028Z",
     "start_time": "2024-12-06T23:37:06.383955Z"
    }
   },
   "cell_type": "code",
   "source": [
    "# ensure you have executed Generate-Dataset.ipynb first\n",
    "# this has a list of chemical classes and their instances\n",
    "with open(\"inputs/bench-236-2-5000.json\") as f:\n",
    "    dataset = Dataset.model_validate_json(f.read())\n",
    "#dataset = Dataset.parse_file(\"inputs/dataset.json\")\n",
    "filtered_classes = dataset.classes\n",
    "len(filtered_classes)"
   ],
   "id": "e0e81bd757101f43",
   "outputs": [
    {
     "data": {
      "text/plain": [
       "5974"
      ]
     },
     "execution_count": 3,
     "metadata": {},
     "output_type": "execute_result"
    }
   ],
   "execution_count": 3
  },
  {
   "metadata": {},
   "cell_type": "markdown",
   "source": "## Run an individual experiment",
   "id": "1b4f6d8246fec4c8"
  },
  {
   "metadata": {
    "ExecuteTime": {
     "end_time": "2024-12-06T23:37:10.272590Z",
     "start_time": "2024-12-06T23:37:10.270532Z"
    }
   },
   "cell_type": "code",
   "source": [
    "from c3p.datamodel import Config\n",
    "\n",
    "# claude-sonnet seems best so far\n",
    "config = Config(llm_model_name=\"claude-3-sonnet\", \n",
    "                max_attempts=5,\n",
    "                accuracy_threshold=0.95, \n",
    "                test_proportion=0.1,\n",
    "                #max_negative_to_test=5000,\n",
    "                )"
   ],
   "id": "bf839fb396500f7e",
   "outputs": [],
   "execution_count": 4
  },
  {
   "metadata": {
    "ExecuteTime": {
     "end_time": "2024-12-06T23:37:11.531277Z",
     "start_time": "2024-12-06T23:37:11.529610Z"
    }
   },
   "cell_type": "code",
   "source": [
    "from pathlib import Path\n",
    "\n",
    "results_dir = Path(\"eval-latest\")"
   ],
   "id": "fe68da4c3f02a8e3",
   "outputs": [],
   "execution_count": 5
  },
  {
   "metadata": {
    "jupyter": {
     "is_executing": true
    },
    "ExecuteTime": {
     "start_time": "2024-12-07T01:03:55.566319Z"
    }
   },
   "cell_type": "code",
   "source": [
    "# TODO: be careful as this reuses, do not mix experiments!\n",
    "from c3p.generator import evaluate_for_class, safe_name\n",
    "\n",
    "in_progress_dir = results_dir / \"in-progress\"\n",
    "in_progress_dir.mkdir(parents=True, exist_ok=True)\n",
    "\n",
    "eval_results = []\n",
    "for c in filtered_classes:\n",
    "    if len(c.instances) < 20:\n",
    "        continue\n",
    "    if c.name in [\"5beta steroid\", \"polysaccharide\"]:\n",
    "        continue\n",
    "    #if len(c.instances) > 2500:\n",
    "    #    # TODO: configure\n",
    "    #    continue\n",
    "    fn = in_progress_dir / f\"{safe_name(c.name)}.json\"\n",
    "    if fn.exists():\n",
    "        print(f\"** Reusing {c.name} from {fn}  **\")\n",
    "        eval_results.append(EvaluationResult.model_validate_json(fn.read_text()))\n",
    "        continue\n",
    "    print(f\"# Evaluating {c.name} pos={len(c.instances)} neg={len(c.negative_instances)}\")\n",
    "    result = evaluate_for_class(c, config, dataset=dataset)\n",
    "    if not result:\n",
    "        print(f\"** Failed to evaluate {c.name} **\")\n",
    "        continue\n",
    "    with open(fn, \"w\") as f:\n",
    "        f.write(result.model_dump_json(indent=2))\n",
    "    print(f\"f1= {result.test_result.f1}\")\n",
    "    print(f\"precision= {result.test_result.precision}\")\n",
    "    print(f\"recall= {result.test_result.recall}\")\n",
    "    eval_results.append(result)\n",
    "#eval_results = [evaluate_for_class(c, config) for c in filtered_classes[0:10]]"
   ],
   "id": "b8a383d6c1b6f9ae",
   "outputs": [
    {
     "name": "stdout",
     "output_type": "stream",
     "text": [
      "** Reusing wax ester from eval-latest/in-progress/wax_ester.json  **\n",
      "** Reusing 2-hydroxy fatty acid from eval-latest/in-progress/2_hydroxy_fatty_acid.json  **\n",
      "** Reusing omega-hydroxy fatty acid from eval-latest/in-progress/omega_hydroxy_fatty_acid.json  **\n",
      "** Reusing 3-sn-phosphatidyl-L-serine from eval-latest/in-progress/3_sn_phosphatidyl_L_serine.json  **\n",
      "** Reusing steroid aldehyde from eval-latest/in-progress/steroid_aldehyde.json  **\n",
      "** Reusing C27-steroid from eval-latest/in-progress/C27_steroid.json  **\n",
      "** Reusing C24-steroid from eval-latest/in-progress/C24_steroid.json  **\n",
      "** Reusing steroidal acyl-CoA(4-) from eval-latest/in-progress/steroidal_acyl_CoA_4__.json  **\n",
      "** Reusing cholane derivative from eval-latest/in-progress/cholane_derivative.json  **\n",
      "** Reusing octadecanoid anion from eval-latest/in-progress/octadecanoid_anion.json  **\n",
      "** Reusing docosanoid from eval-latest/in-progress/docosanoid.json  **\n",
      "** Reusing docosanoid anion from eval-latest/in-progress/docosanoid_anion.json  **\n",
      "** Reusing hydroxy monounsaturated fatty acid from eval-latest/in-progress/hydroxy_monounsaturated_fatty_acid.json  **\n",
      "** Reusing hydroxy polyunsaturated fatty acid anion from eval-latest/in-progress/hydroxy_polyunsaturated_fatty_acid_anion.json  **\n",
      "** Reusing hydroxy saturated fatty acid anion from eval-latest/in-progress/hydroxy_saturated_fatty_acid_anion.json  **\n",
      "** Reusing pyranopyrazole from eval-latest/in-progress/pyranopyrazole.json  **\n",
      "** Reusing 4-pyranones from eval-latest/in-progress/4_pyranones.json  **\n",
      "** Reusing dicarboxylic acids and O-substituted derivatives from eval-latest/in-progress/dicarboxylic_acids_and_O_substituted_derivatives.json  **\n",
      "** Reusing S-acyl-4'-phosphopantetheine(2-) from eval-latest/in-progress/S_acyl_4__phosphopantetheine_2__.json  **\n",
      "** Reusing long-chain fatty acid ethyl ester from eval-latest/in-progress/long_chain_fatty_acid_ethyl_ester.json  **\n",
      "** Reusing resolvin from eval-latest/in-progress/resolvin.json  **\n",
      "** Reusing 1,4-benzoquinones from eval-latest/in-progress/1_4_benzoquinones.json  **\n",
      "** Reusing hydroxyquinone from eval-latest/in-progress/hydroxyquinone.json  **\n",
      "** Reusing 1,4-naphthoquinones from eval-latest/in-progress/1_4_naphthoquinones.json  **\n",
      "** Reusing hydroxynaphthoquinone from eval-latest/in-progress/hydroxynaphthoquinone.json  **\n",
      "** Reusing hydroxy-1,4-naphthoquinone from eval-latest/in-progress/hydroxy_1_4_naphthoquinone.json  **\n",
      "** Reusing beta-D-glucuronoside(1-) from eval-latest/in-progress/beta_D_glucuronoside_1__.json  **\n",
      "** Reusing anilide from eval-latest/in-progress/anilide.json  **\n",
      "** Reusing fatty acid 18:3 from eval-latest/in-progress/fatty_acid_18_3.json  **\n",
      "** Reusing phthalic acid monoester from eval-latest/in-progress/phthalic_acid_monoester.json  **\n",
      "** Reusing lysophosphatidic acid from eval-latest/in-progress/lysophosphatidic_acid.json  **\n",
      "** Reusing bisbenzylisoquinoline alkaloid from eval-latest/in-progress/bisbenzylisoquinoline_alkaloid.json  **\n",
      "** Reusing spiro-epoxide from eval-latest/in-progress/spiro_epoxide.json  **\n",
      "** Reusing chromenochromene from eval-latest/in-progress/chromenochromene.json  **\n",
      "** Reusing omega-carboxyacyl-CoA(5-) from eval-latest/in-progress/omega_carboxyacyl_CoA_5__.json  **\n",
      "** Reusing saturated fatty aldehyde from eval-latest/in-progress/saturated_fatty_aldehyde.json  **\n",
      "** Reusing metal oxide from eval-latest/in-progress/metal_oxide.json  **\n",
      "** Reusing saturated fatty acyl-L-carnitine from eval-latest/in-progress/saturated_fatty_acyl_L_carnitine.json  **\n",
      "** Reusing polyunsaturated dicarboxylic acid dianion from eval-latest/in-progress/polyunsaturated_dicarboxylic_acid_dianion.json  **\n",
      "** Reusing 4'-methoxyisoflavones from eval-latest/in-progress/4__methoxyisoflavones.json  **\n",
      "** Reusing hydroperoxy polyunsaturated fatty acid anion from eval-latest/in-progress/hydroperoxy_polyunsaturated_fatty_acid_anion.json  **\n",
      "** Reusing phenylureas from eval-latest/in-progress/phenylureas.json  **\n",
      "** Reusing polychlorinated dibenzodioxines and related compounds from eval-latest/in-progress/polychlorinated_dibenzodioxines_and_related_compounds.json  **\n",
      "** Reusing perfluorinated compound from eval-latest/in-progress/perfluorinated_compound.json  **\n",
      "** Reusing volatile organic compound from eval-latest/in-progress/volatile_organic_compound.json  **\n",
      "** Reusing aporphine alkaloid from eval-latest/in-progress/aporphine_alkaloid.json  **\n",
      "** Reusing alkanesulfonate oxoanion from eval-latest/in-progress/alkanesulfonate_oxoanion.json  **\n",
      "** Reusing guaiacols from eval-latest/in-progress/guaiacols.json  **\n",
      "** Reusing allylic alcohol from eval-latest/in-progress/allylic_alcohol.json  **\n",
      "** Reusing homoallylic alcohol from eval-latest/in-progress/homoallylic_alcohol.json  **\n",
      "** Reusing tertiary amine oxide from eval-latest/in-progress/tertiary_amine_oxide.json  **\n",
      "** Reusing primary allylic alcohol from eval-latest/in-progress/primary_allylic_alcohol.json  **\n",
      "** Reusing secondary allylic alcohol from eval-latest/in-progress/secondary_allylic_alcohol.json  **\n",
      "** Reusing tertiary allylic alcohol from eval-latest/in-progress/tertiary_allylic_alcohol.json  **\n",
      "** Reusing cationic peptidyl group from eval-latest/in-progress/cationic_peptidyl_group.json  **\n",
      "** Reusing polyunsaturated dicarboxylic acid from eval-latest/in-progress/polyunsaturated_dicarboxylic_acid.json  **\n",
      "** Reusing 3-oxo-5alpha-steroid from eval-latest/in-progress/3_oxo_5alpha_steroid.json  **\n",
      "** Reusing N-hydroxyimidothioate from eval-latest/in-progress/N_hydroxyimidothioate.json  **\n",
      "** Reusing glycol from eval-latest/in-progress/glycol.json  **\n",
      "** Reusing steroid glucosiduronic acid anion from eval-latest/in-progress/steroid_glucosiduronic_acid_anion.json  **\n",
      "** Reusing N-(fatty acyl)-L-alpha-amino acid anion from eval-latest/in-progress/N__fatty_acyl__L_alpha_amino_acid_anion.json  **\n",
      "** Reusing secondary ammonium ion from eval-latest/in-progress/secondary_ammonium_ion.json  **\n",
      "** Reusing alkylamine from eval-latest/in-progress/alkylamine.json  **\n",
      "** Reusing tertiary ammonium ion from eval-latest/in-progress/tertiary_ammonium_ion.json  **\n",
      "** Reusing long chain primary alcohol from eval-latest/in-progress/long_chain_primary_alcohol.json  **\n",
      "** Reusing very long-chain fatty acyl-CoA(4-) from eval-latest/in-progress/very_long_chain_fatty_acyl_CoA_4__.json  **\n",
      "** Reusing bile acids from eval-latest/in-progress/bile_acids.json  **\n",
      "** Reusing octahydronaphthalenes from eval-latest/in-progress/octahydronaphthalenes.json  **\n",
      "** Reusing gas molecular entity from eval-latest/in-progress/gas_molecular_entity.json  **\n",
      "** Reusing hemisuccinate from eval-latest/in-progress/hemisuccinate.json  **\n",
      "** Reusing dihydroceramide from eval-latest/in-progress/dihydroceramide.json  **\n",
      "** Reusing phytoceramide from eval-latest/in-progress/phytoceramide.json  **\n",
      "** Reusing inositol-1-phosphodihydroceramide(1-) from eval-latest/in-progress/inositol_1_phosphodihydroceramide_1__.json  **\n",
      "** Reusing heparin oligosaccharide from eval-latest/in-progress/heparin_oligosaccharide.json  **\n",
      "** Reusing penicillin-derived group from eval-latest/in-progress/penicillin_derived_group.json  **\n",
      "** Reusing (13)C-modified compound from eval-latest/in-progress/_13_C_modified_compound.json  **\n",
      "** Reusing isotopically modified compound from eval-latest/in-progress/isotopically_modified_compound.json  **\n",
      "** Reusing aryl sulfate oxoanion from eval-latest/in-progress/aryl_sulfate_oxoanion.json  **\n",
      "** Reusing monounsaturated fatty acyl-CoA from eval-latest/in-progress/monounsaturated_fatty_acyl_CoA.json  **\n",
      "** Reusing alpha-hydroxy ketone from eval-latest/in-progress/alpha_hydroxy_ketone.json  **\n",
      "** Reusing retinoid anion from eval-latest/in-progress/retinoid_anion.json  **\n",
      "** Reusing primary alpha-hydroxy ketone from eval-latest/in-progress/primary_alpha_hydroxy_ketone.json  **\n",
      "** Reusing tertiary alpha-hydroxy ketone from eval-latest/in-progress/tertiary_alpha_hydroxy_ketone.json  **\n",
      "** Reusing hydroxy fatty acid ascaroside anion from eval-latest/in-progress/hydroxy_fatty_acid_ascaroside_anion.json  **\n",
      "** Reusing phenyl acetates from eval-latest/in-progress/phenyl_acetates.json  **\n",
      "** Reusing phenyl sulfate oxoanion from eval-latest/in-progress/phenyl_sulfate_oxoanion.json  **\n",
      "** Reusing triketone from eval-latest/in-progress/triketone.json  **\n",
      "** Reusing primary carboxamide from eval-latest/in-progress/primary_carboxamide.json  **\n",
      "** Reusing secondary carboxamide from eval-latest/in-progress/secondary_carboxamide.json  **\n",
      "** Reusing tertiary carboxamide from eval-latest/in-progress/tertiary_carboxamide.json  **\n",
      "** Reusing 4'-hydroxyflavanones from eval-latest/in-progress/4__hydroxyflavanones.json  **\n",
      "** Reusing 4'-methoxyflavanones from eval-latest/in-progress/4__methoxyflavanones.json  **\n",
      "** Reusing hydroxy polyunsaturated fatty acid from eval-latest/in-progress/hydroxy_polyunsaturated_fatty_acid.json  **\n",
      "** Reusing (2S)-flavan-4-one from eval-latest/in-progress/_2S__flavan_4_one.json  **\n",
      "** Reusing tert-butyl ester from eval-latest/in-progress/tert_butyl_ester.json  **\n",
      "** Reusing triazolothiadiazole from eval-latest/in-progress/triazolothiadiazole.json  **\n",
      "** Reusing omega-hydroxy-long-chain fatty acid anion from eval-latest/in-progress/omega_hydroxy_long_chain_fatty_acid_anion.json  **\n",
      "** Reusing omega-hydroxy-long-chain fatty acid from eval-latest/in-progress/omega_hydroxy_long_chain_fatty_acid.json  **\n",
      "** Reusing hexahydronaphthalenes from eval-latest/in-progress/hexahydronaphthalenes.json  **\n",
      "** Reusing medium-chain primary fatty alcohol from eval-latest/in-progress/medium_chain_primary_fatty_alcohol.json  **\n",
      "** Reusing medium-chain fatty aldehyde from eval-latest/in-progress/medium_chain_fatty_aldehyde.json  **\n",
      "** Reusing primary fatty alcohol from eval-latest/in-progress/primary_fatty_alcohol.json  **\n",
      "** Reusing ultra-long-chain fatty acid from eval-latest/in-progress/ultra_long_chain_fatty_acid.json  **\n",
      "** Reusing ultra-long-chain fatty acid anion from eval-latest/in-progress/ultra_long_chain_fatty_acid_anion.json  **\n",
      "** Reusing ultra-long-chain fatty acyl-CoA from eval-latest/in-progress/ultra_long_chain_fatty_acyl_CoA.json  **\n",
      "** Reusing organometalloidal compound from eval-latest/in-progress/organometalloidal_compound.json  **\n",
      "** Reusing primary fatty amide from eval-latest/in-progress/primary_fatty_amide.json  **\n",
      "** Reusing thienopyrimidine from eval-latest/in-progress/thienopyrimidine.json  **\n",
      "** Reusing 3beta-hydroxy-4,4-dimethylsteroid from eval-latest/in-progress/3beta_hydroxy_4_4_dimethylsteroid.json  **\n",
      "** Reusing 1-radyl,2-acyl-sn-glycero-3-phospho-(1D-myo-2-acyl-inositol)(1-) from eval-latest/in-progress/1_radyl_2_acyl_sn_glycero_3_phospho__1D_myo_2_acyl_inositol__1__.json  **\n",
      "** Reusing 1,2-diacyl-sn-glycerolipid from eval-latest/in-progress/1_2_diacyl_sn_glycerolipid.json  **\n",
      "** Reusing N-(very-long-chain fatty acyl)-sphingoid base from eval-latest/in-progress/N__very_long_chain_fatty_acyl__sphingoid_base.json  **\n",
      "** Reusing polyunsaturated fatty ester from eval-latest/in-progress/polyunsaturated_fatty_ester.json  **\n",
      "** Reusing epoxy steroid from eval-latest/in-progress/epoxy_steroid.json  **\n",
      "** Reusing macropolylide from eval-latest/in-progress/macropolylide.json  **\n",
      "** Reusing galactotriose from eval-latest/in-progress/galactotriose.json  **\n",
      "** Reusing glucotriose from eval-latest/in-progress/glucotriose.json  **\n",
      "** Reusing mannotriose from eval-latest/in-progress/mannotriose.json  **\n",
      "** Reusing partially-defined glycan from eval-latest/in-progress/partially_defined_glycan.json  **\n",
      "** Reusing 1-phosphatidyl-1D-myo-inositol anion derivative from eval-latest/in-progress/1_phosphatidyl_1D_myo_inositol_anion_derivative.json  **\n",
      "** Reusing mannotetraose from eval-latest/in-progress/mannotetraose.json  **\n",
      "** Reusing beta-D-glucosiduronic acid from eval-latest/in-progress/beta_D_glucosiduronic_acid.json  **\n",
      "** Reusing 3-oxo-fatty acyl-CoA from eval-latest/in-progress/3_oxo_fatty_acyl_CoA.json  **\n",
      "** Reusing cyclobutanes from eval-latest/in-progress/cyclobutanes.json  **\n",
      "** Reusing aldose from eval-latest/in-progress/aldose.json  **\n",
      "** Reusing L-alpha-amino acid from eval-latest/in-progress/L_alpha_amino_acid.json  **\n",
      "** Reusing primary alcohol from eval-latest/in-progress/primary_alcohol.json  **\n",
      "** Reusing polypeptide from eval-latest/in-progress/polypeptide.json  **\n",
      "** Reusing sterol from eval-latest/in-progress/sterol.json  **\n",
      "** Reusing N-(long-chain-acyl)ethanolamine from eval-latest/in-progress/N__long_chain_acyl_ethanolamine.json  **\n",
      "** Reusing long-chain fatty acid from eval-latest/in-progress/long_chain_fatty_acid.json  **\n",
      "** Reusing phosphatidylethanolamine from eval-latest/in-progress/phosphatidylethanolamine.json  **\n",
      "** Reusing steroid sulfate from eval-latest/in-progress/steroid_sulfate.json  **\n",
      "** Reusing N-acylglycine from eval-latest/in-progress/N_acylglycine.json  **\n",
      "** Reusing cucurbitacin from eval-latest/in-progress/cucurbitacin.json  **\n",
      "** Reusing 3-oxo-5beta-steroid from eval-latest/in-progress/3_oxo_5beta_steroid.json  **\n",
      "** Reusing phosphatidic acid from eval-latest/in-progress/phosphatidic_acid.json  **\n",
      "** Reusing anthocyanidin cation from eval-latest/in-progress/anthocyanidin_cation.json  **\n",
      "** Reusing organic sulfide from eval-latest/in-progress/organic_sulfide.json  **\n",
      "** Reusing ubiquinones from eval-latest/in-progress/ubiquinones.json  **\n",
      "** Reusing lipopolysaccharide from eval-latest/in-progress/lipopolysaccharide.json  **\n",
      "** Reusing polyprenol phosphate from eval-latest/in-progress/polyprenol_phosphate.json  **\n",
      "** Reusing 1-acylglycerophosphoinositol from eval-latest/in-progress/1_acylglycerophosphoinositol.json  **\n",
      "** Reusing saccharolipid from eval-latest/in-progress/saccharolipid.json  **\n",
      "** Reusing glycosyldiradylglycerol from eval-latest/in-progress/glycosyldiradylglycerol.json  **\n",
      "** Reusing alkyldiacylglyceride from eval-latest/in-progress/alkyldiacylglyceride.json  **\n",
      "** Reusing glycerophosphoglycerophosphoglycerol from eval-latest/in-progress/glycerophosphoglycerophosphoglycerol.json  **\n",
      "** Reusing nucleoside 5'-phosphate from eval-latest/in-progress/nucleoside_5__phosphate.json  **\n",
      "** Reusing Jasmonate derivatives from eval-latest/in-progress/Jasmonate_derivatives.json  **\n",
      "** Reusing secondary fatty alcohol from eval-latest/in-progress/secondary_fatty_alcohol.json  **\n",
      "** Reusing N-(fatty acyl)-ethanolamine from eval-latest/in-progress/N__fatty_acyl__ethanolamine.json  **\n",
      "** Reusing mineral nutrient from eval-latest/in-progress/mineral_nutrient.json  **\n",
      "** Reusing 1-phosphatidyl-1D-myo-inositol from eval-latest/in-progress/1_phosphatidyl_1D_myo_inositol.json  **\n",
      "** Reusing 1-O-(alk-1-enyl)-2-acyl-sn-glycerolipid from eval-latest/in-progress/1_O__alk_1_enyl__2_acyl_sn_glycerolipid.json  **\n",
      "** Reusing 16alpha-hydroxy steroid from eval-latest/in-progress/16alpha_hydroxy_steroid.json  **\n",
      "** Reusing oligosaccharide phosphate from eval-latest/in-progress/oligosaccharide_phosphate.json  **\n",
      "** Reusing monoacylglycerol phosphate from eval-latest/in-progress/monoacylglycerol_phosphate.json  **\n",
      "** Reusing cholesteryl ester from eval-latest/in-progress/cholesteryl_ester.json  **\n",
      "** Reusing monoacyl-sn-glycerol 3-phosphate from eval-latest/in-progress/monoacyl_sn_glycerol_3_phosphate.json  **\n",
      "** Reusing phosphoramide from eval-latest/in-progress/phosphoramide.json  **\n",
      "** Reusing long-chain fatty alcohol from eval-latest/in-progress/long_chain_fatty_alcohol.json  **\n",
      "** Reusing long-chain fatty aldehyde from eval-latest/in-progress/long_chain_fatty_aldehyde.json  **\n",
      "** Reusing 3beta-hydroxy-Delta(5)-steroid from eval-latest/in-progress/3beta_hydroxy_Delta_5__steroid.json  **\n",
      "** Reusing phosphatidylglycerol phosphate from eval-latest/in-progress/phosphatidylglycerol_phosphate.json  **\n",
      "** Reusing UDP-sugar from eval-latest/in-progress/UDP_sugar.json  **\n",
      "** Reusing penicillin from eval-latest/in-progress/penicillin.json  **\n",
      "** Reusing 16beta-hydroxy steroid from eval-latest/in-progress/16beta_hydroxy_steroid.json  **\n",
      "** Reusing O-acylcarnitine from eval-latest/in-progress/O_acylcarnitine.json  **\n",
      "** Reusing 2-monoglyceride from eval-latest/in-progress/2_monoglyceride.json  **\n",
      "** Reusing monoacylglycerol from eval-latest/in-progress/monoacylglycerol.json  **\n",
      "** Reusing 1-(alk-1-enyl)-2-acyl-sn-glycero-3-phosphoethanolamine from eval-latest/in-progress/1__alk_1_enyl__2_acyl_sn_glycero_3_phosphoethanolamine.json  **\n",
      "** Reusing aldehyde from eval-latest/in-progress/aldehyde.json  **\n",
      "** Reusing phosphatidylglycerol from eval-latest/in-progress/phosphatidylglycerol.json  **\n",
      "** Reusing alditol from eval-latest/in-progress/alditol.json  **\n",
      "** Reusing D-aldohexose from eval-latest/in-progress/D_aldohexose.json  **\n",
      "** Reusing 1,2-diacyl-3-beta-D-galactosyl-sn-glycerol from eval-latest/in-progress/1_2_diacyl_3_beta_D_galactosyl_sn_glycerol.json  **\n",
      "** Reusing sphingomyelin d18:1 from eval-latest/in-progress/sphingomyelin_d18_1.json  **\n",
      "** Reusing vitamin B9 from eval-latest/in-progress/vitamin_B9.json  **\n",
      "** Reusing fatty acyl-L-carnitine from eval-latest/in-progress/fatty_acyl_L_carnitine.json  **\n",
      "** Reusing carbotetracyclic compound from eval-latest/in-progress/carbotetracyclic_compound.json  **\n",
      "** Reusing ceramide from eval-latest/in-progress/ceramide.json  **\n",
      "** Reusing organohalogen compound from eval-latest/in-progress/organohalogen_compound.json  **\n",
      "** Reusing 1-O-(alk-1-enyl)-2-O-acyl-sn-glycero-3-phosphocholine from eval-latest/in-progress/1_O__alk_1_enyl__2_O_acyl_sn_glycero_3_phosphocholine.json  **\n",
      "** Reusing triglyceride from eval-latest/in-progress/triglyceride.json  **\n",
      "** Reusing CDP-diacylglycerol from eval-latest/in-progress/CDP_diacylglycerol.json  **\n",
      "** Reusing acyl-CoA from eval-latest/in-progress/acyl_CoA.json  **\n",
      "** Reusing aralkylamine from eval-latest/in-progress/aralkylamine.json  **\n",
      "** Reusing diglyceride from eval-latest/in-progress/diglyceride.json  **\n",
      "** Reusing glycosaminoglycan from eval-latest/in-progress/glycosaminoglycan.json  **\n",
      "** Reusing hexose from eval-latest/in-progress/hexose.json  **\n",
      "** Reusing phosphoinositide from eval-latest/in-progress/phosphoinositide.json  **\n",
      "** Reusing 2'-deoxyribonucleoside 5'-monophosphate from eval-latest/in-progress/2__deoxyribonucleoside_5__monophosphate.json  **\n",
      "** Reusing ribonucleoside from eval-latest/in-progress/ribonucleoside.json  **\n",
      "** Reusing phosphatidyl-L-serine from eval-latest/in-progress/phosphatidyl_L_serine.json  **\n",
      "** Reusing alkane from eval-latest/in-progress/alkane.json  **\n",
      "** Reusing keratan 6'-sulfate from eval-latest/in-progress/keratan_6__sulfate.json  **\n",
      "** Reusing methyl-branched fatty acyl-CoA(4-) from eval-latest/in-progress/methyl_branched_fatty_acyl_CoA_4__.json  **\n",
      "** Reusing branched-chain fatty acyl-CoA(4-) from eval-latest/in-progress/branched_chain_fatty_acyl_CoA_4__.json  **\n",
      "** Reusing nucleoside 3',5'-cyclic phosphate from eval-latest/in-progress/nucleoside_3__5__cyclic_phosphate.json  **\n",
      "** Reusing nitrile from eval-latest/in-progress/nitrile.json  **\n",
      "** Reusing N-acyl-beta-D-galactosylsphingosine from eval-latest/in-progress/N_acyl_beta_D_galactosylsphingosine.json  **\n",
      "** Reusing delta-lactone from eval-latest/in-progress/delta_lactone.json  **\n",
      "** Reusing hydroperoxy polyunsaturated fatty acid from eval-latest/in-progress/hydroperoxy_polyunsaturated_fatty_acid.json  **\n",
      "** Reusing dicarboxylic fatty acid from eval-latest/in-progress/dicarboxylic_fatty_acid.json  **\n",
      "** Reusing epoxy fatty acid anion from eval-latest/in-progress/epoxy_fatty_acid_anion.json  **\n",
      "** Reusing epoxy monocarboxylic acid anion from eval-latest/in-progress/epoxy_monocarboxylic_acid_anion.json  **\n",
      "** Reusing 17-oxo steroid from eval-latest/in-progress/17_oxo_steroid.json  **\n",
      "** Reusing anthoxanthin from eval-latest/in-progress/anthoxanthin.json  **\n",
      "** Reusing purine 2'-deoxyribonucleoside from eval-latest/in-progress/purine_2__deoxyribonucleoside.json  **\n",
      "** Reusing hydroperoxy unsaturated fatty acid from eval-latest/in-progress/hydroperoxy_unsaturated_fatty_acid.json  **\n",
      "** Reusing 2-deoxyribose phosphate from eval-latest/in-progress/2_deoxyribose_phosphate.json  **\n",
      "** Reusing 2-enoyl-CoA from eval-latest/in-progress/2_enoyl_CoA.json  **\n",
      "** Reusing very long-chain fatty alcohol from eval-latest/in-progress/very_long_chain_fatty_alcohol.json  **\n",
      "** Reusing medium-chain fatty alcohol from eval-latest/in-progress/medium_chain_fatty_alcohol.json  **\n",
      "** Reusing 3-hydroxy fatty acyl-CoA from eval-latest/in-progress/3_hydroxy_fatty_acyl_CoA.json  **\n",
      "** Reusing 3-oxo-Delta(1) steroid from eval-latest/in-progress/3_oxo_Delta_1__steroid.json  **\n",
      "** Reusing 2-aminopurines from eval-latest/in-progress/2_aminopurines.json  **\n",
      "** Reusing 6-aminopurines from eval-latest/in-progress/6_aminopurines.json  **\n",
      "** Reusing C-glycosyl compound from eval-latest/in-progress/C_glycosyl_compound.json  **\n",
      "** Reusing N-acetyl-D-galactosaminyl group from eval-latest/in-progress/N_acetyl_D_galactosaminyl_group.json  **\n",
      "** Reusing N-acetyl-D-glucosaminyl groups from eval-latest/in-progress/N_acetyl_D_glucosaminyl_groups.json  **\n",
      "** Reusing N-acetyl-L-amino acid from eval-latest/in-progress/N_acetyl_L_amino_acid.json  **\n",
      "** Reusing N-acetyl-amino acid from eval-latest/in-progress/N_acetyl_amino_acid.json  **\n",
      "** Reusing N-acyl-L-amino acid from eval-latest/in-progress/N_acyl_L_amino_acid.json  **\n",
      "** Reusing N-glycosyl compound from eval-latest/in-progress/N_glycosyl_compound.json  **\n",
      "** Reusing N-methyl-amino acid from eval-latest/in-progress/N_methyl_amino_acid.json  **\n",
      "** Reusing sulfoxide from eval-latest/in-progress/sulfoxide.json  **\n",
      "** Reusing TDP-sugar from eval-latest/in-progress/TDP_sugar.json  **\n",
      "** Reusing acetamides from eval-latest/in-progress/acetamides.json  **\n",
      "** Reusing acetophenones from eval-latest/in-progress/acetophenones.json  **\n",
      "** Reusing acetyl-amino acid from eval-latest/in-progress/acetyl_amino_acid.json  **\n",
      "** Reusing acyl group from eval-latest/in-progress/acyl_group.json  **\n",
      "** Reusing adenosines from eval-latest/in-progress/adenosines.json  **\n",
      "** Reusing alanine derivative from eval-latest/in-progress/alanine_derivative.json  **\n",
      "** Reusing aldonate from eval-latest/in-progress/aldonate.json  **\n",
      "** Reusing aldonic acid phosphate from eval-latest/in-progress/aldonic_acid_phosphate.json  **\n",
      "** Reusing aldonic acid from eval-latest/in-progress/aldonic_acid.json  **\n",
      "** Reusing aldoxime from eval-latest/in-progress/aldoxime.json  **\n",
      "** Reusing alkaloid from eval-latest/in-progress/alkaloid.json  **\n",
      "** Reusing alkyl group from eval-latest/in-progress/alkyl_group.json  **\n",
      "** Reusing alkylamines from eval-latest/in-progress/alkylamines.json  **\n",
      "** Reusing alkylamino group from eval-latest/in-progress/alkylamino_group.json  **\n",
      "** Reusing alpha-hydroxynitrile from eval-latest/in-progress/alpha_hydroxynitrile.json  **\n",
      "** Reusing amino acid amide from eval-latest/in-progress/amino_acid_amide.json  **\n",
      "** Reusing amino alcohol from eval-latest/in-progress/amino_alcohol.json  **\n",
      "** Reusing amino disaccharide from eval-latest/in-progress/amino_disaccharide.json  **\n",
      "** Reusing alpha-aminoacyl group from eval-latest/in-progress/alpha_aminoacyl_group.json  **\n",
      "** Reusing aminodiol from eval-latest/in-progress/aminodiol.json  **\n",
      "** Reusing aminoimidazole from eval-latest/in-progress/aminoimidazole.json  **\n",
      "** Reusing aminopurine from eval-latest/in-progress/aminopurine.json  **\n",
      "** Reusing anilines from eval-latest/in-progress/anilines.json  **\n",
      "** Reusing arginine derivative from eval-latest/in-progress/arginine_derivative.json  **\n",
      "** Reusing arenecarboxamide from eval-latest/in-progress/arenecarboxamide.json  **\n",
      "** Reusing asparagine derivative from eval-latest/in-progress/asparagine_derivative.json  **\n",
      "** Reusing aspartic acid derivative from eval-latest/in-progress/aspartic_acid_derivative.json  **\n",
      "** Reusing azobenzenes from eval-latest/in-progress/azobenzenes.json  **\n",
      "** Reusing barbiturates from eval-latest/in-progress/barbiturates.json  **\n",
      "** Reusing benzaldehydes from eval-latest/in-progress/benzaldehydes.json  **\n",
      "** Reusing benzenetriol from eval-latest/in-progress/benzenetriol.json  **\n",
      "** Reusing benzimidazoles from eval-latest/in-progress/benzimidazoles.json  **\n",
      "** Reusing benzoates from eval-latest/in-progress/benzoates.json  **\n",
      "** Reusing benzodiazepine from eval-latest/in-progress/benzodiazepine.json  **\n",
      "** Reusing benzoic acids from eval-latest/in-progress/benzoic_acids.json  **\n",
      "** Reusing benzophenones from eval-latest/in-progress/benzophenones.json  **\n",
      "** Reusing benzoquinones from eval-latest/in-progress/benzoquinones.json  **\n",
      "** Reusing benzyl alcohols from eval-latest/in-progress/benzyl_alcohols.json  **\n",
      "** Reusing benzylisoquinoline alkaloid from eval-latest/in-progress/benzylisoquinoline_alkaloid.json  **\n",
      "** Reusing beta-D-glucoside from eval-latest/in-progress/beta_D_glucoside.json  **\n",
      "** Reusing amino-acid betaine from eval-latest/in-progress/amino_acid_betaine.json  **\n",
      "** Reusing biphenyls from eval-latest/in-progress/biphenyls.json  **\n",
      "** Reusing bisphenol from eval-latest/in-progress/bisphenol.json  **\n",
      "** Reusing butan-4-olide from eval-latest/in-progress/butan_4_olide.json  **\n",
      "** Reusing butanone from eval-latest/in-progress/butanone.json  **\n",
      "** Reusing fatty amide anion from eval-latest/in-progress/fatty_amide_anion.json  **\n",
      "** Reusing carbamate ester from eval-latest/in-progress/carbamate_ester.json  **\n",
      "** Reusing carbohydrate-containing antibiotic from eval-latest/in-progress/carbohydrate_containing_antibiotic.json  **\n",
      "** Reusing carbonates from eval-latest/in-progress/carbonates.json  **\n",
      "** Reusing carotene from eval-latest/in-progress/carotene.json  **\n",
      "** Reusing carotenoid from eval-latest/in-progress/carotenoid.json  **\n",
      "** Reusing catechin from eval-latest/in-progress/catechin.json  **\n",
      "** Reusing cephalosporin from eval-latest/in-progress/cephalosporin.json  **\n",
      "** Reusing glycopentaosylceramide from eval-latest/in-progress/glycopentaosylceramide.json  **\n",
      "** Reusing glycotetraosylceramide from eval-latest/in-progress/glycotetraosylceramide.json  **\n",
      "** Reusing cerebroside from eval-latest/in-progress/cerebroside.json  **\n",
      "** Reusing chalcones from eval-latest/in-progress/chalcones.json  **\n",
      "** Reusing chlorohydrocarbon from eval-latest/in-progress/chlorohydrocarbon.json  **\n",
      "** Reusing chlorine molecular entity from eval-latest/in-progress/chlorine_molecular_entity.json  **\n",
      "** Reusing chloroalkane from eval-latest/in-progress/chloroalkane.json  **\n",
      "** Reusing chlorobenzenes from eval-latest/in-progress/chlorobenzenes.json  **\n",
      "** Reusing chlorobenzoic acid from eval-latest/in-progress/chlorobenzoic_acid.json  **\n",
      "** Reusing chlorophenol from eval-latest/in-progress/chlorophenol.json  **\n",
      "** Reusing nucleotide derivative from eval-latest/in-progress/nucleotide_derivative.json  **\n",
      "** Reusing saturated fatty acyl-CoA from eval-latest/in-progress/saturated_fatty_acyl_CoA.json  **\n",
      "** Reusing unsaturated fatty aldehyde from eval-latest/in-progress/unsaturated_fatty_aldehyde.json  **\n",
      "** Reusing sialylglycoconjugate anion from eval-latest/in-progress/sialylglycoconjugate_anion.json  **\n",
      "** Reusing cholines from eval-latest/in-progress/cholines.json  **\n",
      "** Reusing bile acid taurine conjugate from eval-latest/in-progress/bile_acid_taurine_conjugate.json  **\n",
      "** Reusing chromanol from eval-latest/in-progress/chromanol.json  **\n",
      "** Reusing chromones from eval-latest/in-progress/chromones.json  **\n",
      "** Reusing cinnamaldehydes from eval-latest/in-progress/cinnamaldehydes.json  **\n",
      "** Reusing cinnamamides from eval-latest/in-progress/cinnamamides.json  **\n",
      "** Reusing cinnamic acids from eval-latest/in-progress/cinnamic_acids.json  **\n",
      "** Reusing cyanides from eval-latest/in-progress/cyanides.json  **\n",
      "** Reusing cyanogenic glycoside from eval-latest/in-progress/cyanogenic_glycoside.json  **\n",
      "** Reusing cyanohydrin from eval-latest/in-progress/cyanohydrin.json  **\n",
      "** Reusing cyclitol from eval-latest/in-progress/cyclitol.json  **\n",
      "** Reusing cycloalkane from eval-latest/in-progress/cycloalkane.json  **\n",
      "** Reusing cyclohexadienediol from eval-latest/in-progress/cyclohexadienediol.json  **\n",
      "** Reusing cyclohexanols from eval-latest/in-progress/cyclohexanols.json  **\n",
      "** Reusing cyclohexanones from eval-latest/in-progress/cyclohexanones.json  **\n",
      "** Reusing cyclopentanes from eval-latest/in-progress/cyclopentanes.json  **\n",
      "** Reusing cyclopentanols from eval-latest/in-progress/cyclopentanols.json  **\n",
      "** Reusing cysteine derivative from eval-latest/in-progress/cysteine_derivative.json  **\n",
      "** Reusing deoxyhexose from eval-latest/in-progress/deoxyhexose.json  **\n",
      "** Reusing deoxy sugar from eval-latest/in-progress/deoxy_sugar.json  **\n",
      "** Reusing depsipeptide from eval-latest/in-progress/depsipeptide.json  **\n",
      "** Reusing diamine from eval-latest/in-progress/diamine.json  **\n",
      "** Reusing diazole from eval-latest/in-progress/diazole.json  **\n",
      "** Reusing dichlorobenzene from eval-latest/in-progress/dichlorobenzene.json  **\n",
      "** Reusing pyrroline from eval-latest/in-progress/pyrroline.json  **\n",
      "** Reusing dihydroxybenzoic acid from eval-latest/in-progress/dihydroxybenzoic_acid.json  **\n",
      "** Reusing naphthalenediols from eval-latest/in-progress/naphthalenediols.json  **\n",
      "** Reusing dimethoxyflavone from eval-latest/in-progress/dimethoxyflavone.json  **\n",
      "** Reusing diol from eval-latest/in-progress/diol.json  **\n",
      "** Reusing diterpenoid from eval-latest/in-progress/diterpenoid.json  **\n",
      "** Reusing divalent carboacyl group from eval-latest/in-progress/divalent_carboacyl_group.json  **\n",
      "** Reusing icosanoid from eval-latest/in-progress/icosanoid.json  **\n",
      "** Reusing epoxy monocarboxylic acid from eval-latest/in-progress/epoxy_monocarboxylic_acid.json  **\n",
      "** Reusing ethyl ester from eval-latest/in-progress/ethyl_ester.json  **\n",
      "** Reusing fatty alcohol from eval-latest/in-progress/fatty_alcohol.json  **\n",
      "** Reusing fatty-acyl group from eval-latest/in-progress/fatty_acyl_group.json  **\n",
      "** Reusing flavones from eval-latest/in-progress/flavones.json  **\n",
      "** Reusing fluorenes from eval-latest/in-progress/fluorenes.json  **\n",
      "** Reusing formamides from eval-latest/in-progress/formamides.json  **\n",
      "** Reusing furanocoumarin from eval-latest/in-progress/furanocoumarin.json  **\n",
      "** Reusing furans from eval-latest/in-progress/furans.json  **\n",
      "** Reusing galactoglycerolipid from eval-latest/in-progress/galactoglycerolipid.json  **\n",
      "** Reusing galactooligosaccharide from eval-latest/in-progress/galactooligosaccharide.json  **\n",
      "** Reusing galactosaminyl group from eval-latest/in-progress/galactosaminyl_group.json  **\n",
      "** Reusing galactosyl group from eval-latest/in-progress/galactosyl_group.json  **\n",
      "** Reusing glucocorticoid from eval-latest/in-progress/glucocorticoid.json  **\n",
      "** Reusing glucooligosaccharide from eval-latest/in-progress/glucooligosaccharide.json  **\n",
      "** Reusing glucosamines from eval-latest/in-progress/glucosamines.json  **\n",
      "** Reusing glucosaminyl group from eval-latest/in-progress/glucosaminyl_group.json  **\n",
      "** Reusing glucosinolate from eval-latest/in-progress/glucosinolate.json  **\n",
      "** Reusing glucosiduronic acid from eval-latest/in-progress/glucosiduronic_acid.json  **\n",
      "** Reusing glutamic acid derivative from eval-latest/in-progress/glutamic_acid_derivative.json  **\n",
      "** Reusing L-glutamine derivative from eval-latest/in-progress/L_glutamine_derivative.json  **\n",
      "** Reusing glutathione derivative from eval-latest/in-progress/glutathione_derivative.json  **\n",
      "** Reusing glycerol ether from eval-latest/in-progress/glycerol_ether.json  **\n",
      "** Reusing glycine derivative from eval-latest/in-progress/glycine_derivative.json  **\n",
      "** Reusing glycopeptide from eval-latest/in-progress/glycopeptide.json  **\n",
      "** Reusing glycophospholipid from eval-latest/in-progress/glycophospholipid.json  **\n",
      "** Reusing glycosaminyl group from eval-latest/in-progress/glycosaminyl_group.json  **\n",
      "** Reusing acrovestone from eval-latest/in-progress/acrovestone.json  **\n",
      "** Reusing glycosinolate from eval-latest/in-progress/glycosinolate.json  **\n",
      "** Reusing glycosphingolipid from eval-latest/in-progress/glycosphingolipid.json  **\n",
      "** Reusing glycosyl group from eval-latest/in-progress/glycosyl_group.json  **\n",
      "** Reusing glycosylglycerol from eval-latest/in-progress/glycosylglycerol.json  **\n",
      "** Reusing group from eval-latest/in-progress/group.json  **\n",
      "** Reusing guanidines from eval-latest/in-progress/guanidines.json  **\n",
      "** Reusing guanosines from eval-latest/in-progress/guanosines.json  **\n",
      "** Reusing haloalkane from eval-latest/in-progress/haloalkane.json  **\n",
      "** Reusing haloamino acid from eval-latest/in-progress/haloamino_acid.json  **\n",
      "** Reusing halohydrocarbon from eval-latest/in-progress/halohydrocarbon.json  **\n",
      "** Reusing heterodetic cyclic peptide from eval-latest/in-progress/heterodetic_cyclic_peptide.json  **\n",
      "** Reusing hexosamine from eval-latest/in-progress/hexosamine.json  **\n",
      "** Reusing monosaccharide sulfate from eval-latest/in-progress/monosaccharide_sulfate.json  **\n",
      "** Reusing hexuronate from eval-latest/in-progress/hexuronate.json  **\n",
      "** Reusing histidine derivative from eval-latest/in-progress/histidine_derivative.json  **\n",
      "** Reusing homodetic cyclic peptide from eval-latest/in-progress/homodetic_cyclic_peptide.json  **\n",
      "** Reusing imidazolidine-2,4-dione from eval-latest/in-progress/imidazolidine_2_4_dione.json  **\n",
      "** Reusing hydrazines from eval-latest/in-progress/hydrazines.json  **\n",
      "** Reusing hydrocarbon from eval-latest/in-progress/hydrocarbon.json  **\n",
      "** Reusing hydroquinones from eval-latest/in-progress/hydroquinones.json  **\n",
      "** Reusing hydroxamic acid from eval-latest/in-progress/hydroxamic_acid.json  **\n",
      "** Reusing hydroxy fatty acid from eval-latest/in-progress/hydroxy_fatty_acid.json  **\n",
      "** Reusing hydroxy-amino acid from eval-latest/in-progress/hydroxy_amino_acid.json  **\n",
      "** Reusing hydroxy-5beta-cholanic acid from eval-latest/in-progress/hydroxy_5beta_cholanic_acid.json  **\n",
      "** Reusing hydroxy carboxylic acid from eval-latest/in-progress/hydroxy_carboxylic_acid.json  **\n",
      "** Reusing hydroxybenzoate from eval-latest/in-progress/hydroxybenzoate.json  **\n",
      "** Reusing hydroxybenzoic acid from eval-latest/in-progress/hydroxybenzoic_acid.json  **\n",
      "** Reusing secondary alpha-hydroxy ketone from eval-latest/in-progress/secondary_alpha_hydroxy_ketone.json  **\n",
      "** Reusing hydroxybiphenyls from eval-latest/in-progress/hydroxybiphenyls.json  **\n",
      "** Reusing hydroxycinnamic acid from eval-latest/in-progress/hydroxycinnamic_acid.json  **\n",
      "** Reusing hydroxyflavanone from eval-latest/in-progress/hydroxyflavanone.json  **\n",
      "** Reusing hydroxyflavone from eval-latest/in-progress/hydroxyflavone.json  **\n",
      "** Reusing hydroxylamines from eval-latest/in-progress/hydroxylamines.json  **\n",
      "** Reusing hydroxynaphthalene from eval-latest/in-progress/hydroxynaphthalene.json  **\n",
      "** Reusing hydroxynitrile from eval-latest/in-progress/hydroxynitrile.json  **\n",
      "** Reusing hydroxypyridine from eval-latest/in-progress/hydroxypyridine.json  **\n",
      "** Reusing hydroxyoctadecanoic acid from eval-latest/in-progress/hydroxyoctadecanoic_acid.json  **\n",
      "** Reusing hydroxytoluene from eval-latest/in-progress/hydroxytoluene.json  **\n",
      "** Reusing imidazoles from eval-latest/in-progress/imidazoles.json  **\n",
      "** Reusing imine from eval-latest/in-progress/imine.json  **\n",
      "** Reusing indole-3-acetic acids from eval-latest/in-progress/indole_3_acetic_acids.json  **\n",
      "** Reusing indol-3-yl carboxylic acid from eval-latest/in-progress/indol_3_yl_carboxylic_acid.json  **\n",
      "** Reusing indoles from eval-latest/in-progress/indoles.json  **\n",
      "** Reusing inorganic molecular entity from eval-latest/in-progress/inorganic_molecular_entity.json  **\n",
      "** Reusing salt from eval-latest/in-progress/salt.json  **\n",
      "** Reusing isoleucine derivative from eval-latest/in-progress/isoleucine_derivative.json  **\n",
      "** Reusing isoquinoline alkaloid from eval-latest/in-progress/isoquinoline_alkaloid.json  **\n",
      "** Reusing isoquinolines from eval-latest/in-progress/isoquinolines.json  **\n",
      "** Reusing ketoaldonic acid from eval-latest/in-progress/ketoaldonic_acid.json  **\n",
      "** Reusing ketohexose from eval-latest/in-progress/ketohexose.json  **\n",
      "** Reusing ketose from eval-latest/in-progress/ketose.json  **\n",
      "** Reusing ketoxime from eval-latest/in-progress/ketoxime.json  **\n",
      "** Reusing L-leucine derivative from eval-latest/in-progress/L_leucine_derivative.json  **\n",
      "** Reusing leukotriene from eval-latest/in-progress/leukotriene.json  **\n",
      "** Reusing lignan from eval-latest/in-progress/lignan.json  **\n",
      "** Reusing lipid As from eval-latest/in-progress/lipid_As.json  **\n",
      "** Reusing L-lysine derivative from eval-latest/in-progress/L_lysine_derivative.json  **\n",
      "** Reusing macrolide antibiotic from eval-latest/in-progress/macrolide_antibiotic.json  **\n",
      "** Reusing macrolide from eval-latest/in-progress/macrolide.json  **\n",
      "** Reusing mannosylinositol phosphorylceramide from eval-latest/in-progress/mannosylinositol_phosphorylceramide.json  **\n",
      "** Reusing mannosyl groups from eval-latest/in-progress/mannosyl_groups.json  **\n",
      "** Reusing mannooligosaccharide from eval-latest/in-progress/mannooligosaccharide.json  **\n",
      "** Reusing metal-sulfur cluster from eval-latest/in-progress/metal_sulfur_cluster.json  **\n",
      "** Reusing methionine derivative from eval-latest/in-progress/methionine_derivative.json  **\n",
      "** Reusing monomethoxybenzene from eval-latest/in-progress/monomethoxybenzene.json  **\n",
      "** Reusing methoxybenzoic acid from eval-latest/in-progress/methoxybenzoic_acid.json  **\n",
      "** Reusing methoxyflavanone from eval-latest/in-progress/methoxyflavanone.json  **\n",
      "** Reusing methoxyflavone from eval-latest/in-progress/methoxyflavone.json  **\n",
      "** Reusing methyl ester from eval-latest/in-progress/methyl_ester.json  **\n",
      "** Reusing methyl-branched fatty acyl-CoA from eval-latest/in-progress/methyl_branched_fatty_acyl_CoA.json  **\n",
      "** Reusing methylpyridines from eval-latest/in-progress/methylpyridines.json  **\n",
      "** Reusing monoamine molecular messenger from eval-latest/in-progress/monoamine_molecular_messenger.json  **\n",
      "** Reusing acetylenic fatty acid from eval-latest/in-progress/acetylenic_fatty_acid.json  **\n",
      "** Reusing monohydroxybenzoate from eval-latest/in-progress/monohydroxybenzoate.json  **\n",
      "** Reusing monohydroxybenzoic acid from eval-latest/in-progress/monohydroxybenzoic_acid.json  **\n",
      "** Reusing naphthols from eval-latest/in-progress/naphthols.json  **\n",
      "** Reusing monomethoxyflavone from eval-latest/in-progress/monomethoxyflavone.json  **\n",
      "** Reusing monoterpenoid from eval-latest/in-progress/monoterpenoid.json  **\n",
      "** Reusing monounsaturated fatty acid from eval-latest/in-progress/monounsaturated_fatty_acid.json  **\n",
      "** Reusing morphinane alkaloid from eval-latest/in-progress/morphinane_alkaloid.json  **\n",
      "** Reusing mycolic acid from eval-latest/in-progress/mycolic_acid.json  **\n",
      "** Reusing myo-inositol phosphate from eval-latest/in-progress/myo_inositol_phosphate.json  **\n",
      "** Reusing naphthalenes from eval-latest/in-progress/naphthalenes.json  **\n",
      "** Reusing naphthalenone from eval-latest/in-progress/naphthalenone.json  **\n",
      "** Reusing naphthoquinone from eval-latest/in-progress/naphthoquinone.json  **\n",
      "** Reusing naphthoic acid from eval-latest/in-progress/naphthoic_acid.json  **\n",
      "** Reusing neolignan from eval-latest/in-progress/neolignan.json  **\n",
      "** Reusing neutral glycosphingolipid from eval-latest/in-progress/neutral_glycosphingolipid.json  **\n",
      "** Reusing pyridinecarboxamide from eval-latest/in-progress/pyridinecarboxamide.json  **\n",
      "** Reusing nitrobenzoic acid from eval-latest/in-progress/nitrobenzoic_acid.json  **\n",
      "** Reusing nitrophenol from eval-latest/in-progress/nitrophenol.json  **\n",
      "** Reusing nitrotoluene from eval-latest/in-progress/nitrotoluene.json  **\n",
      "** Reusing nucleoside phosphate from eval-latest/in-progress/nucleoside_phosphate.json  **\n",
      "** Reusing orthoquinones from eval-latest/in-progress/orthoquinones.json  **\n",
      "** Reusing octadecadienoic acid from eval-latest/in-progress/octadecadienoic_acid.json  **\n",
      "** Reusing octadecatrienoic acid from eval-latest/in-progress/octadecatrienoic_acid.json  **\n",
      "** Reusing octadecenoic acid from eval-latest/in-progress/octadecenoic_acid.json  **\n",
      "** Reusing oligopeptide from eval-latest/in-progress/oligopeptide.json  **\n",
      "** Reusing omega-3 fatty acid from eval-latest/in-progress/omega_3_fatty_acid.json  **\n",
      "** Reusing organic cation from eval-latest/in-progress/organic_cation.json  **\n",
      "** Reusing organic oxide from eval-latest/in-progress/organic_oxide.json  **\n",
      "** Reusing organic peroxide from eval-latest/in-progress/organic_peroxide.json  **\n",
      "** Reusing organic sulfate from eval-latest/in-progress/organic_sulfate.json  **\n",
      "** Reusing organochlorine insecticide from eval-latest/in-progress/organochlorine_insecticide.json  **\n",
      "** Reusing organomercury compound from eval-latest/in-progress/organomercury_compound.json  **\n",
      "** Reusing organometallic compound from eval-latest/in-progress/organometallic_compound.json  **\n",
      "** Reusing aliphatic alcohol from eval-latest/in-progress/aliphatic_alcohol.json  **\n",
      "** Reusing organoselenium compound from eval-latest/in-progress/organoselenium_compound.json  **\n",
      "** Reusing organosilicon compound from eval-latest/in-progress/organosilicon_compound.json  **\n",
      "** Reusing organothiophosphorus compound from eval-latest/in-progress/organothiophosphorus_compound.json  **\n",
      "** Reusing ornithine derivative from eval-latest/in-progress/ornithine_derivative.json  **\n",
      "** Reusing oxime from eval-latest/in-progress/oxime.json  **\n",
      "** Reusing oxo carboxylic acid from eval-latest/in-progress/oxo_carboxylic_acid.json  **\n",
      "** Reusing unsaturated fatty acid anion from eval-latest/in-progress/unsaturated_fatty_acid_anion.json  **\n",
      "** Reusing p-quinones from eval-latest/in-progress/p_quinones.json  **\n",
      "** Reusing hexadecanoate ester from eval-latest/in-progress/hexadecanoate_ester.json  **\n",
      "** Reusing pentahydroxyflavone from eval-latest/in-progress/pentahydroxyflavone.json  **\n",
      "** Reusing pentose from eval-latest/in-progress/pentose.json  **\n",
      "** Reusing peptide antibiotic from eval-latest/in-progress/peptide_antibiotic.json  **\n",
      "** Reusing peptide hormone from eval-latest/in-progress/peptide_hormone.json  **\n",
      "** Reusing peroxides from eval-latest/in-progress/peroxides.json  **\n",
      "** Reusing phenanthrenes from eval-latest/in-progress/phenanthrenes.json  **\n",
      "** Reusing phenylacetic acids from eval-latest/in-progress/phenylacetic_acids.json  **\n",
      "** Reusing phenylalanine derivative from eval-latest/in-progress/phenylalanine_derivative.json  **\n",
      "** Reusing phenylethanolamines from eval-latest/in-progress/phenylethanolamines.json  **\n",
      "** Reusing phenylhydrazines from eval-latest/in-progress/phenylhydrazines.json  **\n",
      "** Reusing phenylpropanoid from eval-latest/in-progress/phenylpropanoid.json  **\n",
      "** Reusing phosphonic acids from eval-latest/in-progress/phosphonic_acids.json  **\n",
      "** Reusing phytosterols from eval-latest/in-progress/phytosterols.json  **\n",
      "** Reusing polar amino acid from eval-latest/in-progress/polar_amino_acid.json  **\n",
      "** Reusing polyketide from eval-latest/in-progress/polyketide.json  **\n",
      "** Reusing polyol from eval-latest/in-progress/polyol.json  **\n",
      "** Reusing polyphenol from eval-latest/in-progress/polyphenol.json  **\n",
      "** Reusing polyprenol from eval-latest/in-progress/polyprenol.json  **\n",
      "** Reusing polyterpenoid from eval-latest/in-progress/polyterpenoid.json  **\n",
      "** Reusing polyunsaturated fatty acid from eval-latest/in-progress/polyunsaturated_fatty_acid.json  **\n",
      "** Reusing porphyrins from eval-latest/in-progress/porphyrins.json  **\n",
      "** Reusing potassium salt from eval-latest/in-progress/potassium_salt.json  **\n",
      "** Reusing prenols from eval-latest/in-progress/prenols.json  **\n",
      "** Reusing polyprenylhydroquinone from eval-latest/in-progress/polyprenylhydroquinone.json  **\n",
      "** Reusing prenylquinone from eval-latest/in-progress/prenylquinone.json  **\n",
      "** Reusing proanthocyanidin from eval-latest/in-progress/proanthocyanidin.json  **\n",
      "** Reusing proline derivative from eval-latest/in-progress/proline_derivative.json  **\n",
      "** Reusing propanones from eval-latest/in-progress/propanones.json  **\n",
      "** Reusing prostaglandin from eval-latest/in-progress/prostaglandin.json  **\n",
      "** Reusing amidine from eval-latest/in-progress/amidine.json  **\n",
      "** Reusing prostanoid from eval-latest/in-progress/prostanoid.json  **\n",
      "** Reusing psoralens from eval-latest/in-progress/psoralens.json  **\n",
      "** Reusing pterocarpans from eval-latest/in-progress/pterocarpans.json  **\n",
      "** Reusing purine nucleotide from eval-latest/in-progress/purine_nucleotide.json  **\n",
      "** Reusing purine ribonucleoside from eval-latest/in-progress/purine_ribonucleoside.json  **\n",
      "** Reusing purine ribonucleotide from eval-latest/in-progress/purine_ribonucleotide.json  **\n",
      "** Reusing purines from eval-latest/in-progress/purines.json  **\n",
      "** Reusing pyridinemonocarboxylic acid from eval-latest/in-progress/pyridinemonocarboxylic_acid.json  **\n",
      "** Reusing pyridines from eval-latest/in-progress/pyridines.json  **\n",
      "** Reusing pyrroles from eval-latest/in-progress/pyrroles.json  **\n",
      "** Reusing quaternary nitrogen compound from eval-latest/in-progress/quaternary_nitrogen_compound.json  **\n",
      "** Reusing quinic acid from eval-latest/in-progress/quinic_acid.json  **\n",
      "** Reusing quinolinemonocarboxylic acid from eval-latest/in-progress/quinolinemonocarboxylic_acid.json  **\n",
      "** Reusing quinolines from eval-latest/in-progress/quinolines.json  **\n",
      "** Reusing radical from eval-latest/in-progress/radical.json  **\n",
      "** Reusing retinoid from eval-latest/in-progress/retinoid.json  **\n",
      "** Reusing 1,3,5-triazines from eval-latest/in-progress/1_3_5_triazines.json  **\n",
      "** Reusing salicylates from eval-latest/in-progress/salicylates.json  **\n",
      "** Reusing saponin from eval-latest/in-progress/saponin.json  **\n",
      "** Reusing saturated fatty acid from eval-latest/in-progress/saturated_fatty_acid.json  **\n",
      "** Reusing aldehydic acid from eval-latest/in-progress/aldehydic_acid.json  **\n",
      "** Reusing serine derivative from eval-latest/in-progress/serine_derivative.json  **\n",
      "** Reusing sesquiterpenoid from eval-latest/in-progress/sesquiterpenoid.json  **\n",
      "** Reusing sesterterpenoid from eval-latest/in-progress/sesterterpenoid.json  **\n",
      "** Reusing short-chain fatty acid from eval-latest/in-progress/short_chain_fatty_acid.json  **\n",
      "** Reusing sialic acid from eval-latest/in-progress/sialic_acid.json  **\n",
      "** Reusing sodium salt from eval-latest/in-progress/sodium_salt.json  **\n",
      "** Reusing sphingolipid from eval-latest/in-progress/sphingolipid.json  **\n",
      "** Reusing steroid hormone from eval-latest/in-progress/steroid_hormone.json  **\n",
      "** Reusing stilbenoid from eval-latest/in-progress/stilbenoid.json  **\n",
      "** Reusing sulfuric ester from eval-latest/in-progress/sulfuric_ester.json  **\n",
      "** Reusing sulfates from eval-latest/in-progress/sulfates.json  **\n",
      "** Reusing sulfide from eval-latest/in-progress/sulfide.json  **\n",
      "** Reusing sulfoglycolipid from eval-latest/in-progress/sulfoglycolipid.json  **\n",
      "** Reusing tannin from eval-latest/in-progress/tannin.json  **\n",
      "** Reusing terpene ketone from eval-latest/in-progress/terpene_ketone.json  **\n",
      "** Reusing tertiary alcohol from eval-latest/in-progress/tertiary_alcohol.json  **\n",
      "** Reusing tetrachlorobenzene from eval-latest/in-progress/tetrachlorobenzene.json  **\n",
      "** Reusing tetracyclic triterpenoid from eval-latest/in-progress/tetracyclic_triterpenoid.json  **\n",
      "** Reusing tetracyclines from eval-latest/in-progress/tetracyclines.json  **\n",
      "** Reusing oxolanes from eval-latest/in-progress/oxolanes.json  **\n",
      "** Reusing tetrapyrrole from eval-latest/in-progress/tetrapyrrole.json  **\n",
      "** Reusing tetraterpenoid from eval-latest/in-progress/tetraterpenoid.json  **\n",
      "** Reusing thiocarboxylic ester from eval-latest/in-progress/thiocarboxylic_ester.json  **\n",
      "# Evaluating thiophenes pos=337 neg=0\n"
     ]
    }
   ],
   "execution_count": null
  },
  {
   "metadata": {
    "ExecuteTime": {
     "end_time": "2024-12-07T01:02:44.339118Z",
     "start_time": "2024-12-07T01:02:44.335106Z"
    }
   },
   "cell_type": "code",
   "source": "    len(eval_results)",
   "id": "adb786be38f11337",
   "outputs": [
    {
     "data": {
      "text/plain": [
       "545"
      ]
     },
     "execution_count": 7,
     "metadata": {},
     "output_type": "execute_result"
    }
   ],
   "execution_count": 7
  },
  {
   "metadata": {
    "ExecuteTime": {
     "end_time": "2024-12-07T00:26:40.309598Z",
     "start_time": "2024-12-06T13:25:35.893439Z"
    }
   },
   "cell_type": "code",
   "source": [
    "t = eval_results[0].test_result\n",
    "t.precision, t.recall, t.f1"
   ],
   "id": "88999a0963def946",
   "outputs": [
    {
     "data": {
      "text/plain": [
       "(0.6805555555555556, 0.98989898989899, 0.8065843621399177)"
      ]
     },
     "execution_count": 50,
     "metadata": {},
     "output_type": "execute_result"
    }
   ],
   "execution_count": 50
  },
  {
   "metadata": {
    "ExecuteTime": {
     "end_time": "2024-12-07T00:26:40.309667Z",
     "start_time": "2024-12-06T13:25:37.605718Z"
    }
   },
   "cell_type": "code",
   "source": [
    "unsuccessful = [er for er in eval_results if not er.train_results.best_result.success]\n",
    "len(unsuccessful)"
   ],
   "id": "db32fe9e0f45ea26",
   "outputs": [
    {
     "data": {
      "text/plain": [
       "30"
      ]
     },
     "execution_count": 51,
     "metadata": {},
     "output_type": "execute_result"
    }
   ],
   "execution_count": 51
  },
  {
   "metadata": {
    "ExecuteTime": {
     "end_time": "2024-12-07T00:26:40.309779Z",
     "start_time": "2024-12-06T13:25:39.316075Z"
    }
   },
   "cell_type": "code",
   "source": "unsuccessful[0].test_result.f1",
   "id": "db62e06675aead2c",
   "outputs": [
    {
     "data": {
      "text/plain": [
       "0.0"
      ]
     },
     "execution_count": 52,
     "metadata": {},
     "output_type": "execute_result"
    }
   ],
   "execution_count": 52
  },
  {
   "metadata": {
    "ExecuteTime": {
     "end_time": "2024-12-07T00:26:40.309841Z",
     "start_time": "2024-12-06T13:25:41.013711Z"
    }
   },
   "cell_type": "code",
   "source": "from c3p.datamodel import EvaluationExperiment",
   "id": "1b7d27bd6c50f444",
   "outputs": [],
   "execution_count": 53
  },
  {
   "metadata": {
    "ExecuteTime": {
     "end_time": "2024-12-07T00:26:40.309901Z",
     "start_time": "2024-12-06T13:25:42.679583Z"
    }
   },
   "cell_type": "code",
   "source": "expt = EvaluationExperiment(config=config, evaluation_results=eval_results)",
   "id": "e1101446bf83a62f",
   "outputs": [],
   "execution_count": 54
  },
  {
   "metadata": {
    "ExecuteTime": {
     "end_time": "2024-12-07T00:26:40.309971Z",
     "start_time": "2024-12-06T13:25:42.706670Z"
    }
   },
   "cell_type": "code",
   "source": "expt.config.f1_threshold",
   "id": "f7350e42760a92dd",
   "outputs": [
    {
     "data": {
      "text/plain": [
       "0.0"
      ]
     },
     "execution_count": 55,
     "metadata": {},
     "output_type": "execute_result"
    }
   ],
   "execution_count": 55
  },
  {
   "metadata": {
    "ExecuteTime": {
     "end_time": "2024-12-07T00:26:40.310180Z",
     "start_time": "2024-12-06T13:25:46.035527Z"
    }
   },
   "cell_type": "code",
   "source": "%load_ext autoreload",
   "id": "192a2da9590a046e",
   "outputs": [
    {
     "name": "stdout",
     "output_type": "stream",
     "text": [
      "The autoreload extension is already loaded. To reload it, use:\n",
      "  %reload_ext autoreload\n"
     ]
    }
   ],
   "execution_count": 56
  },
  {
   "metadata": {
    "ExecuteTime": {
     "end_time": "2024-12-07T00:26:40.310260Z",
     "start_time": "2024-12-06T13:25:47.814996Z"
    }
   },
   "cell_type": "code",
   "source": "%autoreload 2",
   "id": "c10fd463a8dc0db0",
   "outputs": [],
   "execution_count": 57
  },
  {
   "metadata": {
    "ExecuteTime": {
     "end_time": "2024-12-07T00:26:40.310322Z",
     "start_time": "2024-12-06T13:25:47.828203Z"
    }
   },
   "cell_type": "code",
   "source": "from c3p.dumper import write_eval_results",
   "id": "31ffb715fda78020",
   "outputs": [],
   "execution_count": 58
  },
  {
   "metadata": {
    "ExecuteTime": {
     "end_time": "2024-12-07T00:26:40.310379Z",
     "start_time": "2024-12-06T13:25:51.287325Z"
    }
   },
   "cell_type": "code",
   "source": [
    "config.f1_threshold = 0.0\n",
    "df = write_eval_results(expt, results_dir, f1_threshold=-1)\n",
    "#df[\"num_instances\"] = df[\"num_positives\"] + df[\"num_negatives\"]"
   ],
   "id": "9f5c3c94e6a06966",
   "outputs": [],
   "execution_count": 59
  },
  {
   "metadata": {
    "ExecuteTime": {
     "end_time": "2024-12-07T00:26:40.310462Z",
     "start_time": "2024-12-06T13:26:17.665110Z"
    }
   },
   "cell_type": "code",
   "source": "df",
   "id": "9561847c51404b1",
   "outputs": [
    {
     "data": {
      "text/plain": [
       "                 chemical_class message  \\\n",
       "0                     wax ester    None   \n",
       "1          2-hydroxy fatty acid    None   \n",
       "2      omega-hydroxy fatty acid    None   \n",
       "3    3-sn-phosphatidyl-L-serine    None   \n",
       "4              steroid aldehyde    None   \n",
       "..                          ...     ...   \n",
       "527                 sodium salt    None   \n",
       "528                sphingolipid    None   \n",
       "530                  stilbenoid    None   \n",
       "531              sulfuric ester    None   \n",
       "532                    sulfates    None   \n",
       "\n",
       "                                        true_positives  \\\n",
       "0    [(CCCCCCCC\\C=C/CCCCCCCC(=O)OCCCCCCCC\\C=C/CCCCC...   \n",
       "1    [(CC(C)C(O)(O)C(O)=O, 2-hydroxy fatty acid wit...   \n",
       "2    [(C(CCCC(CCCCCCO)=O)CCCCC(O)=O, Omega-hydroxy ...   \n",
       "3                                                   []   \n",
       "4    [(CO[C@@H]1[C@@H](O)[C@H](O[C@H]2CC[C@@]3(C=O)...   \n",
       "..                                                 ...   \n",
       "527  [([Na+].[Na+].[H][C@]12SCC(CSc3nnnn3CS([O-])(=...   \n",
       "528  [(CCCCCCCCCCCCCCCCCCCCCCCCCCCC(=O)N[C@@H](COP(...   \n",
       "530  [(C12=C(C=CC(=C1)/C(=C/C3=CC=C(C=C3)S(C)(=O)=O...   \n",
       "531  [(S(OC[C@H]1O[C@@H](O[C@H]2[C@H](O)[C@@H](NC(=...   \n",
       "532  [(Oc1ccc(\\C=C\\c2cc(O)cc(OS(O)(=O)=O)c2)cc1, Su...   \n",
       "\n",
       "                                       false_positives true_negatives  \\\n",
       "0    [(CCCCCCCCCCCCCC(=O)OC\\C=C(/C)CCC[C@H](C)CCC[C...           None   \n",
       "1    [(CC(C)[C@@H]1C[C@H](OC(=O)[C@@]2(C)O[C@H]2C)[...           None   \n",
       "2    [([C@H]1(O[C@@H]([C@H](O)[C@@H]([C@H]1O)O[C@]2...           None   \n",
       "3                                                   []           None   \n",
       "4    [(O=C1NC(C(=O)NC(C(=O)NCCCCC1NC(=O)C(NC(=O)CNC...           None   \n",
       "..                                                 ...            ...   \n",
       "527  [(O.[Na+].COc1c(cc(cc1C(C)(C)C)-n1ccc(=O)[nH]c...           None   \n",
       "528                                                 []           None   \n",
       "530                                                 []           None   \n",
       "531                                                 []           None   \n",
       "532                                                 []           None   \n",
       "\n",
       "    false_negatives  attempt  success   best error  ... precision    recall  \\\n",
       "0              None        0     True  False        ...  0.680556  0.989899   \n",
       "1              None        0     True  False        ...  0.350649  1.000000   \n",
       "2              None        0     True  False        ...  0.444444  0.952381   \n",
       "3              None        0     True  False        ...  0.000000  0.000000   \n",
       "4              None        0     True  False        ...  0.397590  1.000000   \n",
       "..              ...      ...      ...    ...   ...  ...       ...       ...   \n",
       "527            None        0     True  False        ...  0.786780  0.991935   \n",
       "528            None        0     True  False        ...  1.000000  0.760192   \n",
       "530            None        0     True  False        ...  1.000000  0.145299   \n",
       "531            None        0     True  False        ...  1.000000  0.714286   \n",
       "532            None        0     True  False        ...  1.000000  0.720670   \n",
       "\n",
       "           f1  accuracy  num_instances  train_f1  train_precision  \\\n",
       "0    0.806584  0.999744              0  0.298507         0.178571   \n",
       "1    0.519231  0.961435              0  0.090909         0.047619   \n",
       "2    0.606061  0.968322              0  0.152542         0.082569   \n",
       "3    0.000000  0.999560              0  0.000000         0.000000   \n",
       "4    0.568966  0.995173              0  0.122807         0.065421   \n",
       "..        ...       ...            ...       ...              ...   \n",
       "527  0.877527  0.998836              0  0.450549         0.290780   \n",
       "528  0.863760  0.760192              0  0.676056         0.626866   \n",
       "530  0.253731  0.145299              0  0.062112         0.047619   \n",
       "531  0.833333  0.714286              0  0.548611         0.441341   \n",
       "532  0.837662  0.720670              0  0.614907         0.497487   \n",
       "\n",
       "     train_accuracy  train_attempt  num_test_instances  \n",
       "0          0.999744              1                  99  \n",
       "1          0.960692              0                  54  \n",
       "2          0.968828              0                  84  \n",
       "3          0.999957              0                  81  \n",
       "4          0.995159              1                  66  \n",
       "..              ...            ...                 ...  \n",
       "527        0.998865              0                 372  \n",
       "528        0.766667              0                 417  \n",
       "530        0.998162              1                 117  \n",
       "531        0.990136              1                 350  \n",
       "532        0.989822              1                 358  \n",
       "\n",
       "[503 rows x 26 columns]"
      ],
      "text/html": [
       "<div>\n",
       "<style scoped>\n",
       "    .dataframe tbody tr th:only-of-type {\n",
       "        vertical-align: middle;\n",
       "    }\n",
       "\n",
       "    .dataframe tbody tr th {\n",
       "        vertical-align: top;\n",
       "    }\n",
       "\n",
       "    .dataframe thead th {\n",
       "        text-align: right;\n",
       "    }\n",
       "</style>\n",
       "<table border=\"1\" class=\"dataframe\">\n",
       "  <thead>\n",
       "    <tr style=\"text-align: right;\">\n",
       "      <th></th>\n",
       "      <th>chemical_class</th>\n",
       "      <th>message</th>\n",
       "      <th>true_positives</th>\n",
       "      <th>false_positives</th>\n",
       "      <th>true_negatives</th>\n",
       "      <th>false_negatives</th>\n",
       "      <th>attempt</th>\n",
       "      <th>success</th>\n",
       "      <th>best</th>\n",
       "      <th>error</th>\n",
       "      <th>...</th>\n",
       "      <th>precision</th>\n",
       "      <th>recall</th>\n",
       "      <th>f1</th>\n",
       "      <th>accuracy</th>\n",
       "      <th>num_instances</th>\n",
       "      <th>train_f1</th>\n",
       "      <th>train_precision</th>\n",
       "      <th>train_accuracy</th>\n",
       "      <th>train_attempt</th>\n",
       "      <th>num_test_instances</th>\n",
       "    </tr>\n",
       "  </thead>\n",
       "  <tbody>\n",
       "    <tr>\n",
       "      <th>0</th>\n",
       "      <td>wax ester</td>\n",
       "      <td>None</td>\n",
       "      <td>[(CCCCCCCC\\C=C/CCCCCCCC(=O)OCCCCCCCC\\C=C/CCCCC...</td>\n",
       "      <td>[(CCCCCCCCCCCCCC(=O)OC\\C=C(/C)CCC[C@H](C)CCC[C...</td>\n",
       "      <td>None</td>\n",
       "      <td>None</td>\n",
       "      <td>0</td>\n",
       "      <td>True</td>\n",
       "      <td>False</td>\n",
       "      <td></td>\n",
       "      <td>...</td>\n",
       "      <td>0.680556</td>\n",
       "      <td>0.989899</td>\n",
       "      <td>0.806584</td>\n",
       "      <td>0.999744</td>\n",
       "      <td>0</td>\n",
       "      <td>0.298507</td>\n",
       "      <td>0.178571</td>\n",
       "      <td>0.999744</td>\n",
       "      <td>1</td>\n",
       "      <td>99</td>\n",
       "    </tr>\n",
       "    <tr>\n",
       "      <th>1</th>\n",
       "      <td>2-hydroxy fatty acid</td>\n",
       "      <td>None</td>\n",
       "      <td>[(CC(C)C(O)(O)C(O)=O, 2-hydroxy fatty acid wit...</td>\n",
       "      <td>[(CC(C)[C@@H]1C[C@H](OC(=O)[C@@]2(C)O[C@H]2C)[...</td>\n",
       "      <td>None</td>\n",
       "      <td>None</td>\n",
       "      <td>0</td>\n",
       "      <td>True</td>\n",
       "      <td>False</td>\n",
       "      <td></td>\n",
       "      <td>...</td>\n",
       "      <td>0.350649</td>\n",
       "      <td>1.000000</td>\n",
       "      <td>0.519231</td>\n",
       "      <td>0.961435</td>\n",
       "      <td>0</td>\n",
       "      <td>0.090909</td>\n",
       "      <td>0.047619</td>\n",
       "      <td>0.960692</td>\n",
       "      <td>0</td>\n",
       "      <td>54</td>\n",
       "    </tr>\n",
       "    <tr>\n",
       "      <th>2</th>\n",
       "      <td>omega-hydroxy fatty acid</td>\n",
       "      <td>None</td>\n",
       "      <td>[(C(CCCC(CCCCCCO)=O)CCCCC(O)=O, Omega-hydroxy ...</td>\n",
       "      <td>[([C@H]1(O[C@@H]([C@H](O)[C@@H]([C@H]1O)O[C@]2...</td>\n",
       "      <td>None</td>\n",
       "      <td>None</td>\n",
       "      <td>0</td>\n",
       "      <td>True</td>\n",
       "      <td>False</td>\n",
       "      <td></td>\n",
       "      <td>...</td>\n",
       "      <td>0.444444</td>\n",
       "      <td>0.952381</td>\n",
       "      <td>0.606061</td>\n",
       "      <td>0.968322</td>\n",
       "      <td>0</td>\n",
       "      <td>0.152542</td>\n",
       "      <td>0.082569</td>\n",
       "      <td>0.968828</td>\n",
       "      <td>0</td>\n",
       "      <td>84</td>\n",
       "    </tr>\n",
       "    <tr>\n",
       "      <th>3</th>\n",
       "      <td>3-sn-phosphatidyl-L-serine</td>\n",
       "      <td>None</td>\n",
       "      <td>[]</td>\n",
       "      <td>[]</td>\n",
       "      <td>None</td>\n",
       "      <td>None</td>\n",
       "      <td>0</td>\n",
       "      <td>True</td>\n",
       "      <td>False</td>\n",
       "      <td></td>\n",
       "      <td>...</td>\n",
       "      <td>0.000000</td>\n",
       "      <td>0.000000</td>\n",
       "      <td>0.000000</td>\n",
       "      <td>0.999560</td>\n",
       "      <td>0</td>\n",
       "      <td>0.000000</td>\n",
       "      <td>0.000000</td>\n",
       "      <td>0.999957</td>\n",
       "      <td>0</td>\n",
       "      <td>81</td>\n",
       "    </tr>\n",
       "    <tr>\n",
       "      <th>4</th>\n",
       "      <td>steroid aldehyde</td>\n",
       "      <td>None</td>\n",
       "      <td>[(CO[C@@H]1[C@@H](O)[C@H](O[C@H]2CC[C@@]3(C=O)...</td>\n",
       "      <td>[(O=C1NC(C(=O)NC(C(=O)NCCCCC1NC(=O)C(NC(=O)CNC...</td>\n",
       "      <td>None</td>\n",
       "      <td>None</td>\n",
       "      <td>0</td>\n",
       "      <td>True</td>\n",
       "      <td>False</td>\n",
       "      <td></td>\n",
       "      <td>...</td>\n",
       "      <td>0.397590</td>\n",
       "      <td>1.000000</td>\n",
       "      <td>0.568966</td>\n",
       "      <td>0.995173</td>\n",
       "      <td>0</td>\n",
       "      <td>0.122807</td>\n",
       "      <td>0.065421</td>\n",
       "      <td>0.995159</td>\n",
       "      <td>1</td>\n",
       "      <td>66</td>\n",
       "    </tr>\n",
       "    <tr>\n",
       "      <th>...</th>\n",
       "      <td>...</td>\n",
       "      <td>...</td>\n",
       "      <td>...</td>\n",
       "      <td>...</td>\n",
       "      <td>...</td>\n",
       "      <td>...</td>\n",
       "      <td>...</td>\n",
       "      <td>...</td>\n",
       "      <td>...</td>\n",
       "      <td>...</td>\n",
       "      <td>...</td>\n",
       "      <td>...</td>\n",
       "      <td>...</td>\n",
       "      <td>...</td>\n",
       "      <td>...</td>\n",
       "      <td>...</td>\n",
       "      <td>...</td>\n",
       "      <td>...</td>\n",
       "      <td>...</td>\n",
       "      <td>...</td>\n",
       "      <td>...</td>\n",
       "    </tr>\n",
       "    <tr>\n",
       "      <th>527</th>\n",
       "      <td>sodium salt</td>\n",
       "      <td>None</td>\n",
       "      <td>[([Na+].[Na+].[H][C@]12SCC(CSc3nnnn3CS([O-])(=...</td>\n",
       "      <td>[(O.[Na+].COc1c(cc(cc1C(C)(C)C)-n1ccc(=O)[nH]c...</td>\n",
       "      <td>None</td>\n",
       "      <td>None</td>\n",
       "      <td>0</td>\n",
       "      <td>True</td>\n",
       "      <td>False</td>\n",
       "      <td></td>\n",
       "      <td>...</td>\n",
       "      <td>0.786780</td>\n",
       "      <td>0.991935</td>\n",
       "      <td>0.877527</td>\n",
       "      <td>0.998836</td>\n",
       "      <td>0</td>\n",
       "      <td>0.450549</td>\n",
       "      <td>0.290780</td>\n",
       "      <td>0.998865</td>\n",
       "      <td>0</td>\n",
       "      <td>372</td>\n",
       "    </tr>\n",
       "    <tr>\n",
       "      <th>528</th>\n",
       "      <td>sphingolipid</td>\n",
       "      <td>None</td>\n",
       "      <td>[(CCCCCCCCCCCCCCCCCCCCCCCCCCCC(=O)N[C@@H](COP(...</td>\n",
       "      <td>[]</td>\n",
       "      <td>None</td>\n",
       "      <td>None</td>\n",
       "      <td>0</td>\n",
       "      <td>True</td>\n",
       "      <td>False</td>\n",
       "      <td></td>\n",
       "      <td>...</td>\n",
       "      <td>1.000000</td>\n",
       "      <td>0.760192</td>\n",
       "      <td>0.863760</td>\n",
       "      <td>0.760192</td>\n",
       "      <td>0</td>\n",
       "      <td>0.676056</td>\n",
       "      <td>0.626866</td>\n",
       "      <td>0.766667</td>\n",
       "      <td>0</td>\n",
       "      <td>417</td>\n",
       "    </tr>\n",
       "    <tr>\n",
       "      <th>530</th>\n",
       "      <td>stilbenoid</td>\n",
       "      <td>None</td>\n",
       "      <td>[(C12=C(C=CC(=C1)/C(=C/C3=CC=C(C=C3)S(C)(=O)=O...</td>\n",
       "      <td>[]</td>\n",
       "      <td>None</td>\n",
       "      <td>None</td>\n",
       "      <td>0</td>\n",
       "      <td>True</td>\n",
       "      <td>False</td>\n",
       "      <td></td>\n",
       "      <td>...</td>\n",
       "      <td>1.000000</td>\n",
       "      <td>0.145299</td>\n",
       "      <td>0.253731</td>\n",
       "      <td>0.145299</td>\n",
       "      <td>0</td>\n",
       "      <td>0.062112</td>\n",
       "      <td>0.047619</td>\n",
       "      <td>0.998162</td>\n",
       "      <td>1</td>\n",
       "      <td>117</td>\n",
       "    </tr>\n",
       "    <tr>\n",
       "      <th>531</th>\n",
       "      <td>sulfuric ester</td>\n",
       "      <td>None</td>\n",
       "      <td>[(S(OC[C@H]1O[C@@H](O[C@H]2[C@H](O)[C@@H](NC(=...</td>\n",
       "      <td>[]</td>\n",
       "      <td>None</td>\n",
       "      <td>None</td>\n",
       "      <td>0</td>\n",
       "      <td>True</td>\n",
       "      <td>False</td>\n",
       "      <td></td>\n",
       "      <td>...</td>\n",
       "      <td>1.000000</td>\n",
       "      <td>0.714286</td>\n",
       "      <td>0.833333</td>\n",
       "      <td>0.714286</td>\n",
       "      <td>0</td>\n",
       "      <td>0.548611</td>\n",
       "      <td>0.441341</td>\n",
       "      <td>0.990136</td>\n",
       "      <td>1</td>\n",
       "      <td>350</td>\n",
       "    </tr>\n",
       "    <tr>\n",
       "      <th>532</th>\n",
       "      <td>sulfates</td>\n",
       "      <td>None</td>\n",
       "      <td>[(Oc1ccc(\\C=C\\c2cc(O)cc(OS(O)(=O)=O)c2)cc1, Su...</td>\n",
       "      <td>[]</td>\n",
       "      <td>None</td>\n",
       "      <td>None</td>\n",
       "      <td>0</td>\n",
       "      <td>True</td>\n",
       "      <td>False</td>\n",
       "      <td></td>\n",
       "      <td>...</td>\n",
       "      <td>1.000000</td>\n",
       "      <td>0.720670</td>\n",
       "      <td>0.837662</td>\n",
       "      <td>0.720670</td>\n",
       "      <td>0</td>\n",
       "      <td>0.614907</td>\n",
       "      <td>0.497487</td>\n",
       "      <td>0.989822</td>\n",
       "      <td>1</td>\n",
       "      <td>358</td>\n",
       "    </tr>\n",
       "  </tbody>\n",
       "</table>\n",
       "<p>503 rows × 26 columns</p>\n",
       "</div>"
      ]
     },
     "execution_count": 60,
     "metadata": {},
     "output_type": "execute_result"
    }
   ],
   "execution_count": 60
  },
  {
   "metadata": {
    "ExecuteTime": {
     "end_time": "2024-12-07T00:26:40.311114Z",
     "start_time": "2024-12-06T13:26:19.491081Z"
    }
   },
   "cell_type": "code",
   "source": "",
   "id": "4d6d8b7deaba3d36",
   "outputs": [],
   "execution_count": null
  },
  {
   "metadata": {
    "ExecuteTime": {
     "end_time": "2024-12-07T00:26:40.311259Z",
     "start_time": "2024-12-06T13:26:19.502827Z"
    }
   },
   "cell_type": "code",
   "source": [
    "import numpy as np\n",
    "\n",
    "correlation = np.corrcoef(df[\"num_test_instances\"], df[\"f1\"])[0,1]\n",
    "correlation"
   ],
   "id": "9e613d63987673eb",
   "outputs": [
    {
     "data": {
      "text/plain": [
       "np.float64(0.48737144605996)"
      ]
     },
     "execution_count": 61,
     "metadata": {},
     "output_type": "execute_result"
    }
   ],
   "execution_count": 61
  },
  {
   "metadata": {
    "ExecuteTime": {
     "end_time": "2024-12-07T00:26:40.311354Z",
     "start_time": "2024-12-06T13:26:43.598022Z"
    }
   },
   "cell_type": "code",
   "source": [
    "import matplotlib.pyplot as plt\n",
    "\n",
    "def plot_scatter(df, x, y, title=\"Scatterplot\"):\n",
    "    correlation = np.corrcoef(df[x], df[y])[0,1]\n",
    "    title = f\"{title} (r = {correlation:.2f})\"\n",
    "    plt.scatter(df[x], df[y], s=5, alpha=0.5)\n",
    "    # draw a line through the mean\n",
    "    plt.axhline(df[y].mean(), color='red', linestyle='dashed', linewidth=1)\n",
    "    z = np.polyfit(df[x], df[y], 1)\n",
    "    p = np.poly1d(z)\n",
    "    plt.plot(df[x], p(df[x]), \"r--\", alpha=0.8)\n",
    "    plt.xlabel(x)\n",
    "    plt.ylabel(y)\n",
    "    plt.title(title)\n",
    "    plt.grid(True, alpha=0.3)\n",
    "    plt.savefig(results_dir / f\"scatterplot-{x}-{y}.png\")\n",
    "    plt.show()\n",
    "    \n",
    "plot_scatter(df, \"num_test_instances\", \"f1\",)"
   ],
   "id": "762cc88000aa79ca",
   "outputs": [
    {
     "data": {
      "text/plain": [
       "<Figure size 640x480 with 1 Axes>"
      ],
      "image/png": "[encoded data removed]"
     },
     "metadata": {},
     "output_type": "display_data"
    }
   ],
   "execution_count": 62
  },
  {
   "metadata": {
    "ExecuteTime": {
     "end_time": "2024-12-07T00:26:40.311426Z",
     "start_time": "2024-12-06T13:26:45.459104Z"
    }
   },
   "cell_type": "code",
   "source": "plot_scatter(df, \"num_test_instances\", \"recall\")\n",
   "id": "d8f9cab21995587",
   "outputs": [
    {
     "data": {
      "text/plain": [
       "<Figure size 640x480 with 1 Axes>"
      ],
      "image/png": "[encoded data removed]"
     },
     "metadata": {},
     "output_type": "display_data"
    }
   ],
   "execution_count": 63
  },
  {
   "metadata": {
    "ExecuteTime": {
     "end_time": "2024-12-07T00:26:40.311489Z",
     "start_time": "2024-12-06T13:26:45.584483Z"
    }
   },
   "cell_type": "code",
   "source": "plot_scatter(df, \"num_test_instances\", \"accuracy\")",
   "id": "244a2e947bd9c8d3",
   "outputs": [
    {
     "data": {
      "text/plain": [
       "<Figure size 640x480 with 1 Axes>"
      ],
      "image/png": "[encoded data removed]"
     },
     "metadata": {},
     "output_type": "display_data"
    }
   ],
   "execution_count": 64
  },
  {
   "metadata": {
    "ExecuteTime": {
     "end_time": "2024-12-07T00:26:40.311554Z",
     "start_time": "2024-12-06T13:26:52.403103Z"
    }
   },
   "cell_type": "code",
   "source": "plot_scatter(df, \"train_f1\", \"f1\")\n",
   "id": "6db0736213c3e4d1",
   "outputs": [
    {
     "data": {
      "text/plain": [
       "<Figure size 640x480 with 1 Axes>"
      ],
      "image/png": "[encoded data removed]"
     },
     "metadata": {},
     "output_type": "display_data"
    }
   ],
   "execution_count": 65
  },
  {
   "metadata": {
    "ExecuteTime": {
     "end_time": "2024-12-07T00:26:40.311613Z",
     "start_time": "2024-12-06T13:27:02.889434Z"
    }
   },
   "cell_type": "code",
   "source": [
    "from c3p.stats import calculate_metrics_pandas\n",
    "\n",
    "\n",
    "def micro_stats(df):\n",
    "    df[\"f1_score\"] = df[\"f1\"]\n",
    "    return df.select_dtypes(include=['int64', 'float64']).mean()\n",
    "\n",
    "def macro_stats(df):\n",
    "    return calculate_metrics_pandas(df)\n",
    "\n",
    "def calculate_stats(df):\n",
    "    sdf = pd.DataFrame(\n",
    "        {\n",
    "            'micro': micro_stats(df),\n",
    "            'macro': macro_stats(df),\n",
    "        },\n",
    "    )\n",
    "    sdf = sdf.transpose()\n",
    "    return sdf[[\"f1_score\", \"precision\", \"recall\", \"accuracy\"]]\n",
    "    \n",
    "\n",
    "calculate_stats(df)"
   ],
   "id": "efef056f7773c3a3",
   "outputs": [
    {
     "data": {
      "text/plain": [
       "       f1_score  precision    recall  accuracy\n",
       "micro  0.459169   0.433254  0.641921  0.874217\n",
       "macro  0.764500   0.712900  0.824100  0.998700"
      ],
      "text/html": [
       "<div>\n",
       "<style scoped>\n",
       "    .dataframe tbody tr th:only-of-type {\n",
       "        vertical-align: middle;\n",
       "    }\n",
       "\n",
       "    .dataframe tbody tr th {\n",
       "        vertical-align: top;\n",
       "    }\n",
       "\n",
       "    .dataframe thead th {\n",
       "        text-align: right;\n",
       "    }\n",
       "</style>\n",
       "<table border=\"1\" class=\"dataframe\">\n",
       "  <thead>\n",
       "    <tr style=\"text-align: right;\">\n",
       "      <th></th>\n",
       "      <th>f1_score</th>\n",
       "      <th>precision</th>\n",
       "      <th>recall</th>\n",
       "      <th>accuracy</th>\n",
       "    </tr>\n",
       "  </thead>\n",
       "  <tbody>\n",
       "    <tr>\n",
       "      <th>micro</th>\n",
       "      <td>0.459169</td>\n",
       "      <td>0.433254</td>\n",
       "      <td>0.641921</td>\n",
       "      <td>0.874217</td>\n",
       "    </tr>\n",
       "    <tr>\n",
       "      <th>macro</th>\n",
       "      <td>0.764500</td>\n",
       "      <td>0.712900</td>\n",
       "      <td>0.824100</td>\n",
       "      <td>0.998700</td>\n",
       "    </tr>\n",
       "  </tbody>\n",
       "</table>\n",
       "</div>"
      ]
     },
     "execution_count": 66,
     "metadata": {},
     "output_type": "execute_result"
    }
   ],
   "execution_count": 66
  },
  {
   "metadata": {
    "ExecuteTime": {
     "end_time": "2024-12-07T00:26:40.311771Z",
     "start_time": "2024-12-06T13:27:04.698538Z"
    }
   },
   "cell_type": "code",
   "source": "calculate_stats(df[df[\"num_test_instances\"] > 100])",
   "id": "58c2f5c9116f1448",
   "outputs": [
    {
     "name": "stderr",
     "output_type": "stream",
     "text": [
      "/var/folders/nc/m4tx21912kv1b8nk3zzx9plr0000gn/T/ipykernel_94662/3360052499.py:5: SettingWithCopyWarning: \n",
      "A value is trying to be set on a copy of a slice from a DataFrame.\n",
      "Try using .loc[row_indexer,col_indexer] = value instead\n",
      "\n",
      "See the caveats in the documentation: https://pandas.pydata.org/pandas-docs/stable/user_guide/indexing.html#returning-a-view-versus-a-copy\n",
      "  df[\"f1_score\"] = df[\"f1\"]\n"
     ]
    },
    {
     "data": {
      "text/plain": [
       "       f1_score  precision    recall  accuracy\n",
       "micro  0.741029   0.803804  0.780715  0.823249\n",
       "macro  0.879300   0.861900  0.897500  0.994300"
      ],
      "text/html": [
       "<div>\n",
       "<style scoped>\n",
       "    .dataframe tbody tr th:only-of-type {\n",
       "        vertical-align: middle;\n",
       "    }\n",
       "\n",
       "    .dataframe tbody tr th {\n",
       "        vertical-align: top;\n",
       "    }\n",
       "\n",
       "    .dataframe thead th {\n",
       "        text-align: right;\n",
       "    }\n",
       "</style>\n",
       "<table border=\"1\" class=\"dataframe\">\n",
       "  <thead>\n",
       "    <tr style=\"text-align: right;\">\n",
       "      <th></th>\n",
       "      <th>f1_score</th>\n",
       "      <th>precision</th>\n",
       "      <th>recall</th>\n",
       "      <th>accuracy</th>\n",
       "    </tr>\n",
       "  </thead>\n",
       "  <tbody>\n",
       "    <tr>\n",
       "      <th>micro</th>\n",
       "      <td>0.741029</td>\n",
       "      <td>0.803804</td>\n",
       "      <td>0.780715</td>\n",
       "      <td>0.823249</td>\n",
       "    </tr>\n",
       "    <tr>\n",
       "      <th>macro</th>\n",
       "      <td>0.879300</td>\n",
       "      <td>0.861900</td>\n",
       "      <td>0.897500</td>\n",
       "      <td>0.994300</td>\n",
       "    </tr>\n",
       "  </tbody>\n",
       "</table>\n",
       "</div>"
      ]
     },
     "execution_count": 67,
     "metadata": {},
     "output_type": "execute_result"
    }
   ],
   "execution_count": 67
  },
  {
   "metadata": {
    "ExecuteTime": {
     "end_time": "2024-12-07T00:26:40.311905Z",
     "start_time": "2024-12-06T13:27:13.063500Z"
    }
   },
   "cell_type": "code",
   "source": "calculate_stats(df[df[\"num_test_instances\"] > 150])",
   "id": "c58ee941d71d628b",
   "outputs": [
    {
     "name": "stderr",
     "output_type": "stream",
     "text": [
      "/var/folders/nc/m4tx21912kv1b8nk3zzx9plr0000gn/T/ipykernel_94662/3360052499.py:5: SettingWithCopyWarning: \n",
      "A value is trying to be set on a copy of a slice from a DataFrame.\n",
      "Try using .loc[row_indexer,col_indexer] = value instead\n",
      "\n",
      "See the caveats in the documentation: https://pandas.pydata.org/pandas-docs/stable/user_guide/indexing.html#returning-a-view-versus-a-copy\n",
      "  df[\"f1_score\"] = df[\"f1\"]\n"
     ]
    },
    {
     "data": {
      "text/plain": [
       "       f1_score  precision   recall  accuracy\n",
       "micro   0.82373   0.843147  0.84644  0.871803\n",
       "macro   0.90240   0.886000  0.91940  0.992300"
      ],
      "text/html": [
       "<div>\n",
       "<style scoped>\n",
       "    .dataframe tbody tr th:only-of-type {\n",
       "        vertical-align: middle;\n",
       "    }\n",
       "\n",
       "    .dataframe tbody tr th {\n",
       "        vertical-align: top;\n",
       "    }\n",
       "\n",
       "    .dataframe thead th {\n",
       "        text-align: right;\n",
       "    }\n",
       "</style>\n",
       "<table border=\"1\" class=\"dataframe\">\n",
       "  <thead>\n",
       "    <tr style=\"text-align: right;\">\n",
       "      <th></th>\n",
       "      <th>f1_score</th>\n",
       "      <th>precision</th>\n",
       "      <th>recall</th>\n",
       "      <th>accuracy</th>\n",
       "    </tr>\n",
       "  </thead>\n",
       "  <tbody>\n",
       "    <tr>\n",
       "      <th>micro</th>\n",
       "      <td>0.82373</td>\n",
       "      <td>0.843147</td>\n",
       "      <td>0.84644</td>\n",
       "      <td>0.871803</td>\n",
       "    </tr>\n",
       "    <tr>\n",
       "      <th>macro</th>\n",
       "      <td>0.90240</td>\n",
       "      <td>0.886000</td>\n",
       "      <td>0.91940</td>\n",
       "      <td>0.992300</td>\n",
       "    </tr>\n",
       "  </tbody>\n",
       "</table>\n",
       "</div>"
      ]
     },
     "execution_count": 68,
     "metadata": {},
     "output_type": "execute_result"
    }
   ],
   "execution_count": 68
  },
  {
   "metadata": {
    "ExecuteTime": {
     "end_time": "2024-12-07T00:26:40.312002Z",
     "start_time": "2024-12-06T13:27:20.664037Z"
    }
   },
   "cell_type": "code",
   "source": "calculate_stats(df[(df[\"num_test_instances\"] > 150) & (df[\"train_f1\"] > 0.5)])",
   "id": "efc566004de6a391",
   "outputs": [
    {
     "name": "stderr",
     "output_type": "stream",
     "text": [
      "/var/folders/nc/m4tx21912kv1b8nk3zzx9plr0000gn/T/ipykernel_94662/3360052499.py:5: SettingWithCopyWarning: \n",
      "A value is trying to be set on a copy of a slice from a DataFrame.\n",
      "Try using .loc[row_indexer,col_indexer] = value instead\n",
      "\n",
      "See the caveats in the documentation: https://pandas.pydata.org/pandas-docs/stable/user_guide/indexing.html#returning-a-view-versus-a-copy\n",
      "  df[\"f1_score\"] = df[\"f1\"]\n"
     ]
    },
    {
     "data": {
      "text/plain": [
       "       f1_score  precision    recall  accuracy\n",
       "micro   0.89666   0.936425  0.882602  0.884353\n",
       "macro   0.94100   0.938100  0.944000  0.992900"
      ],
      "text/html": [
       "<div>\n",
       "<style scoped>\n",
       "    .dataframe tbody tr th:only-of-type {\n",
       "        vertical-align: middle;\n",
       "    }\n",
       "\n",
       "    .dataframe tbody tr th {\n",
       "        vertical-align: top;\n",
       "    }\n",
       "\n",
       "    .dataframe thead th {\n",
       "        text-align: right;\n",
       "    }\n",
       "</style>\n",
       "<table border=\"1\" class=\"dataframe\">\n",
       "  <thead>\n",
       "    <tr style=\"text-align: right;\">\n",
       "      <th></th>\n",
       "      <th>f1_score</th>\n",
       "      <th>precision</th>\n",
       "      <th>recall</th>\n",
       "      <th>accuracy</th>\n",
       "    </tr>\n",
       "  </thead>\n",
       "  <tbody>\n",
       "    <tr>\n",
       "      <th>micro</th>\n",
       "      <td>0.89666</td>\n",
       "      <td>0.936425</td>\n",
       "      <td>0.882602</td>\n",
       "      <td>0.884353</td>\n",
       "    </tr>\n",
       "    <tr>\n",
       "      <th>macro</th>\n",
       "      <td>0.94100</td>\n",
       "      <td>0.938100</td>\n",
       "      <td>0.944000</td>\n",
       "      <td>0.992900</td>\n",
       "    </tr>\n",
       "  </tbody>\n",
       "</table>\n",
       "</div>"
      ]
     },
     "execution_count": 69,
     "metadata": {},
     "output_type": "execute_result"
    }
   ],
   "execution_count": 69
  },
  {
   "metadata": {
    "ExecuteTime": {
     "end_time": "2024-12-07T00:26:40.312095Z",
     "start_time": "2024-12-06T13:27:31.453248Z"
    }
   },
   "cell_type": "code",
   "source": "calculate_stats(df).to_csv(results_dir / \"summary.csv\")",
   "id": "8a2219f295b2ac6e",
   "outputs": [],
   "execution_count": 70
  },
  {
   "metadata": {
    "ExecuteTime": {
     "end_time": "2024-12-07T00:26:40.312148Z",
     "start_time": "2024-12-03T18:00:31.425727Z"
    }
   },
   "cell_type": "code",
   "source": "",
   "id": "8863204d9765a60e",
   "outputs": [],
   "execution_count": null
  },
  {
   "metadata": {
    "ExecuteTime": {
     "end_time": "2024-12-07T00:26:40.312202Z",
     "start_time": "2024-12-03T18:00:31.450627Z"
    }
   },
   "cell_type": "code",
   "source": "",
   "id": "e3b12deed415d1df",
   "outputs": [],
   "execution_count": null
  },
  {
   "metadata": {
    "ExecuteTime": {
     "end_time": "2024-12-07T00:26:40.312260Z",
     "start_time": "2024-12-03T18:00:41.068263Z"
    }
   },
   "cell_type": "code",
   "source": "",
   "id": "7823f7c5ba4ce90c",
   "outputs": [],
   "execution_count": null
  },
  {
   "metadata": {
    "ExecuteTime": {
     "end_time": "2024-12-07T00:26:40.312312Z",
     "start_time": "2024-12-03T18:00:41.074710Z"
    }
   },
   "cell_type": "code",
   "source": "",
   "id": "7e4d793954ee97f0",
   "outputs": [],
   "execution_count": null
  }
 ],
 "metadata": {
  "kernelspec": {
   "display_name": "Python 3",
   "language": "python",
   "name": "python3"
  },
  "language_info": {
   "codemirror_mode": {
    "name": "ipython",
    "version": 2
   },
   "file_extension": ".py",
   "mimetype": "text/x-python",
   "name": "python",
   "nbconvert_exporter": "python",
   "pygments_lexer": "ipython2",
   "version": "2.7.6"
  }
 },
 "nbformat": 4,
 "nbformat_minor": 5
}
