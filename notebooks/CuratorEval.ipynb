{
 "cells": [
  {
   "metadata": {
    "ExecuteTime": {
     "end_time": "2025-01-27T21:01:42.123609Z",
     "start_time": "2025-01-27T21:01:40.541089Z"
    }
   },
   "cell_type": "code",
   "source": [
    "import pandas as pd\n",
    "from oaklib import get_adapter"
   ],
   "id": "b0450150683deb67",
   "outputs": [],
   "execution_count": 1
  },
  {
   "metadata": {
    "collapsed": true,
    "ExecuteTime": {
     "end_time": "2025-01-27T21:01:42.130409Z",
     "start_time": "2025-01-27T21:01:42.128649Z"
    }
   },
   "cell_type": "code",
   "source": "RESULTS_DIR = \"../results/manual\"",
   "id": "initial_id",
   "outputs": [],
   "execution_count": 2
  },
  {
   "metadata": {
    "ExecuteTime": {
     "end_time": "2025-01-27T21:01:43.041099Z",
     "start_time": "2025-01-27T21:01:42.172063Z"
    }
   },
   "cell_type": "code",
   "source": [
    "from c3p.datamodel import Dataset\n",
    "\n",
    "BENCH_DIR = \"../results/2025/benchmark\"\n",
    "with open(f\"{BENCH_DIR}/dataset.json\", \"r\") as f:\n",
    "    dataset = Dataset.model_validate_json(f.read())"
   ],
   "id": "df5594b0529f2a4f",
   "outputs": [],
   "execution_count": 3
  },
  {
   "metadata": {
    "ExecuteTime": {
     "end_time": "2025-01-27T21:01:43.565766Z",
     "start_time": "2025-01-27T21:01:43.533416Z"
    }
   },
   "cell_type": "code",
   "source": "name2smiles = {s.name: s.smiles for s in dataset.structures}",
   "id": "6b924fbf8157c41d",
   "outputs": [],
   "execution_count": 4
  },
  {
   "metadata": {
    "ExecuteTime": {
     "end_time": "2025-01-27T21:02:12.578971Z",
     "start_time": "2025-01-27T21:01:44.109470Z"
    }
   },
   "cell_type": "code",
   "source": "chebi = get_adapter(\"sqlite:obo:chebi\")",
   "id": "10879bab20c536d5",
   "outputs": [
    {
     "data": {
      "text/plain": [
       "Downloading chebi.db.gz: 0.00B [00:00, ?B/s]"
      ],
      "application/vnd.jupyter.widget-view+json": {
       "version_major": 2,
       "version_minor": 0,
       "model_id": "30e43a7f10da4f6f9a63308c589bc52c"
      }
     },
     "metadata": {},
     "output_type": "display_data"
    }
   ],
   "execution_count": 5
  },
  {
   "metadata": {
    "ExecuteTime": {
     "end_time": "2025-01-27T21:02:13.198943Z",
     "start_time": "2025-01-27T21:02:13.197166Z"
    }
   },
   "cell_type": "code",
   "source": [
    "# check the data...\n",
    "BETALAMIC_ACID = \"CHEBI:27483\"\n",
    "ALKALOID = \"CHEBI:22315\"\n"
   ],
   "id": "7b464f72d51b09c7",
   "outputs": [],
   "execution_count": 6
  },
  {
   "metadata": {
    "ExecuteTime": {
     "end_time": "2025-01-27T21:02:14.813033Z",
     "start_time": "2025-01-27T21:02:13.738449Z"
    }
   },
   "cell_type": "code",
   "source": [
    "def get_smiles_from_chebi(chebi_id: str):\n",
    "    return chebi.entity_metadata_map(chebi_id)[\"obo:chebi/smiles\"][0]\n",
    "\n",
    "BETALAMIC_ACID_SMILES = get_smiles_from_chebi(BETALAMIC_ACID)\n",
    "BETALAMIC_ACID_SMILES"
   ],
   "id": "734c74f39bce29c4",
   "outputs": [
    {
     "data": {
      "text/plain": [
       "'OC(=O)[C@@H]1CC(=C/C=O)\\\\C=C(N1)C(O)=O'"
      ]
     },
     "execution_count": 7,
     "metadata": {},
     "output_type": "execute_result"
    }
   ],
   "execution_count": 7
  },
  {
   "metadata": {
    "ExecuteTime": {
     "end_time": "2025-01-27T21:02:15.961662Z",
     "start_time": "2025-01-27T21:02:15.959190Z"
    }
   },
   "cell_type": "code",
   "source": [
    "alkaloid_cls = dataset.get_chemical_class_by_id(ALKALOID)\n",
    "alkaloid_cls.name"
   ],
   "id": "397e9af843ac6d41",
   "outputs": [
    {
     "data": {
      "text/plain": [
       "'alkaloid'"
      ]
     },
     "execution_count": 8,
     "metadata": {},
     "output_type": "execute_result"
    }
   ],
   "execution_count": 8
  },
  {
   "metadata": {
    "ExecuteTime": {
     "end_time": "2025-01-27T21:02:15.973385Z",
     "start_time": "2025-01-27T21:02:15.970843Z"
    }
   },
   "cell_type": "code",
   "source": "BETALAMIC_ACID_SMILES in alkaloid_cls.all_positive_examples",
   "id": "c42594e6d4ae48ac",
   "outputs": [
    {
     "data": {
      "text/plain": [
       "True"
      ]
     },
     "execution_count": 9,
     "metadata": {},
     "output_type": "execute_result"
    }
   ],
   "execution_count": 9
  },
  {
   "metadata": {
    "ExecuteTime": {
     "end_time": "2025-01-27T21:02:16.564544Z",
     "start_time": "2025-01-27T21:02:16.546846Z"
    }
   },
   "cell_type": "code",
   "source": "curator_df = pd.read_csv(f\"{RESULTS_DIR}/manual-evals.csv\")",
   "id": "48fd1f590a7bcdf3",
   "outputs": [],
   "execution_count": 10
  },
  {
   "metadata": {
    "ExecuteTime": {
     "end_time": "2025-01-27T21:49:44.653130Z",
     "start_time": "2025-01-27T21:49:44.646982Z"
    }
   },
   "cell_type": "code",
   "source": [
    "curator_df = curator_df[curator_df[\"chemical_class_id\"].notna()]\n",
    "curator_df"
   ],
   "id": "f71bf1c5fa99b68b",
   "outputs": [
    {
     "data": {
      "text/plain": [
       "    chemical_class_id             chemical_class_name  \\\n",
       "0         CHEBI:20706                  6-aminopurines   \n",
       "1         CHEBI:20706                  6-aminopurines   \n",
       "2         CHEBI:20706                  6-aminopurines   \n",
       "3         CHEBI:47622                   acetate ester   \n",
       "4         CHEBI:17984                        acyl-CoA   \n",
       "..                ...                             ...   \n",
       "217       CHEBI:61910  very long-chain fatty acyl-CoA   \n",
       "218       CHEBI:10036                       wax ester   \n",
       "219       CHEBI:10036                       wax ester   \n",
       "220       CHEBI:10036                       wax ester   \n",
       "221       CHEBI:10036                       wax ester   \n",
       "\n",
       "                                                smiles  \\\n",
       "0                                          O=NN1CCNCC1   \n",
       "1                               O1C(CCC1)C(=O)N2CCNCC2   \n",
       "2    NC1=NC=NC2=C1N=CN2[C@@H]3O[C@H](CO)[C@@H](OP(O...   \n",
       "3    CCCCCCCCCCCCCC(=O)OC[C@H](COP([O-])(=O)OC[C@@H...   \n",
       "4    CCC=C/CC=C/CC=C/CC=C/CC=C/CCCCCCCCCC(=O)SCCNC(...   \n",
       "..                                                 ...   \n",
       "217  CCCCCCCCCCCCCCCCCCCCCCCCC(C(O)=O)C(=O)SCCNC(=O...   \n",
       "218  CCCCCCCCCCCCCCCC(=O)OCC(CCCCCCCCCCCCCC)OC(=O)C...   \n",
       "219                CCCCCCCCCCOC(=O)CCCCCCCC=C/CCCCCCCC   \n",
       "220        OC(CCCCCCCCOC(=O)CCCCCCCCCCCCCCCCCCCCC)CCCC   \n",
       "221                    C(CCCCCCCC)CCC(OCCCCCCCCCCCC)=O   \n",
       "\n",
       "                                          fixed_smiles  \\\n",
       "0                                            No change   \n",
       "1                                            No change   \n",
       "2                                            No change   \n",
       "3    CCCCCCCCCCCCCC(=O)OC[C@H](COP([O-])(=O)OC[C@@H...   \n",
       "4    CC\\C=C/C\\C=C/C\\C=C/C\\C=C/C\\C=C/CCCCCCCCCC(=O)S...   \n",
       "..                                                 ...   \n",
       "217                                          No change   \n",
       "218                                          No change   \n",
       "219               CCCCCCCCCCOC(=O)CCCCCCC\\C=C/CCCCCCCC   \n",
       "220                                          No change   \n",
       "221                                          No change   \n",
       "\n",
       "                                        structure_name  \\\n",
       "0                              N-Mononitrosopiperazine   \n",
       "1                    1-(Tetrahydro-2-furoyl)piperazine   \n",
       "2    5'-hydroxy-diadenylate with a cyclic 2',3' pho...   \n",
       "3    1-myristoyl-2-oleoyl-sn-glycero-3-phosphatidyl...   \n",
       "4     (11Z,14Z,17Z,20Z,23Z)-hexacosapentaenoyl-CoA(4-)   \n",
       "..                                                 ...   \n",
       "217                          2-carboxyhexacosanoyl-CoA   \n",
       "218                   2-palmitoyloxypalmityl palmitate   \n",
       "219                                       decyl oleate   \n",
       "220                      9-Hydroxytridecyl docosanoate   \n",
       "221                                dodecyl dodecanoate   \n",
       "\n",
       "                        model=citeseek-gpt-4o_response  \\\n",
       "0    NO, the statement is incorrect. \\n\\nN-Mononitr...   \n",
       "1    NO, the statement is not true.\\n\\n1-(Tetrahydr...   \n",
       "2    YES, the provided statement is true.\\n\\nThe st...   \n",
       "3    NO, the statement is not true. \\n\\nThe structu...   \n",
       "4    YES, the provided statement is true. \\n\\nThe S...   \n",
       "..                                                 ...   \n",
       "217  YES, the provided statement is true. The struc...   \n",
       "218  YES, the provided statement is true. The given...   \n",
       "219  YES, the structure known as decyl oleate is a ...   \n",
       "220  YES, the statement is true. The structure 9-Hy...   \n",
       "221  YES, the provided structure dodecyl dodecanoat...   \n",
       "\n",
       "                          model=claude-sonnet_response  \\\n",
       "0    NO. N-Mononitrosopiperazine (with SMILES 'O=NN...   \n",
       "1    NO\\n\\nThe provided statement is false. The str...   \n",
       "2    YES, the provided statement is true.\\n\\nExplan...   \n",
       "3    NO, the provided statement is not true.\\n\\nExp...   \n",
       "4    YES, the provided statement is true.\\n\\nThe st...   \n",
       "..                                                 ...   \n",
       "217  YES\\n\\nThe provided SMILES string 'CCCCCCCCCCC...   \n",
       "218  YES, the provided statement is true.\\n\\n2-palm...   \n",
       "219  YES, the provided statement is true.\\n\\nDecyl ...   \n",
       "220  YES, the provided statement is correct. 9-Hydr...   \n",
       "221  YES, the provided statement is correct.\\n\\nDod...   \n",
       "\n",
       "                          model=deepseek-chat_response  \\\n",
       "0    NO. The structure N-Mononitrosopiperazine (wit...   \n",
       "1    NO. The structure 1-(Tetrahydro-2-furoyl)piper...   \n",
       "2    YES. The structure described, 5'-hydroxy-diade...   \n",
       "3    NO. The structure 1-myristoyl-2-oleoyl-sn-glyc...   \n",
       "4    YES. The structure (11Z,14Z,17Z,20Z,23Z)-hexac...   \n",
       "..                                                 ...   \n",
       "217  YES. The structure 2-carboxyhexacosanoyl-CoA i...   \n",
       "218  YES. The structure 2-palmitoyloxypalmityl palm...   \n",
       "219  YES. Decyl oleate is a wax ester. It is formed...   \n",
       "220  YES. The structure 9-Hydroxytridecyl docosanoa...   \n",
       "221  YES. The structure dodecyl dodecanoate (with S...   \n",
       "\n",
       "                          model=gpt-3.5-turbo_response  \\\n",
       "0    NO\\n\\nExplanation: N-Mononitrosopiperazine is ...   \n",
       "1    NO\\n\\nExplanation: The structure provided, 1-(...   \n",
       "2    YES\\n\\nThe provided structure is indeed a type...   \n",
       "3    NO\\n\\nExplanation: The provided SMILES string ...   \n",
       "4    YES, the statement is true. The provided compo...   \n",
       "..                                                 ...   \n",
       "217  YES\\n\\nExplanation: The provided SMILES struct...   \n",
       "218  YES\\n\\nExplanation: The provided structure (2-...   \n",
       "219  YES\\n\\nDecyl oleate is a type of wax ester. It...   \n",
       "220  YES\\n\\nExplanation: The provided structure of ...   \n",
       "221  YES\\n\\nThe provided structure for dodecyl dode...   \n",
       "\n",
       "                                 model=gpt-4o_response Curator: is_member?  \\\n",
       "0    NO, the provided statement is incorrect. \\n\\nN...                  No   \n",
       "1    NO, 1-(Tetrahydro-2-furoyl)piperazine is not a...                  No   \n",
       "2    YES, The provided structure '5'-hydroxy-diaden...                 Yes   \n",
       "3    NO, the provided statement is incorrect. \\n\\n1...                  No   \n",
       "4    YES, the statement is true. The structure desc...                  No   \n",
       "..                                                 ...                 ...   \n",
       "217  YES, the provided statement is true. The compo...                 Yes   \n",
       "218  YES. \\n\\nThe structure 2-palmitoyloxypalmityl ...                 Yes   \n",
       "219  YES, the provided statement is true. Decyl ole...                 Yes   \n",
       "220  YES, the statement is true. The structure know...                 Yes   \n",
       "221  YES, the provided statement is true. \\n\\nDodec...                 Yes   \n",
       "\n",
       "                                     Curator: comments  \n",
       "0            it is a nitroso compound and a piperazine  \n",
       "1             it is a piperazine and a tetrahydrofuran  \n",
       "2                                                  NaN  \n",
       "3                             It is a carboxylic ester  \n",
       "4    It is an acyl CoA(4-). Its net charge is -4 wh...  \n",
       "..                                                 ...  \n",
       "217                                                NaN  \n",
       "218                               it is also a diester  \n",
       "219                                                NaN  \n",
       "220                                                NaN  \n",
       "221                                                NaN  \n",
       "\n",
       "[222 rows x 12 columns]"
      ],
      "text/html": [
       "<div>\n",
       "<style scoped>\n",
       "    .dataframe tbody tr th:only-of-type {\n",
       "        vertical-align: middle;\n",
       "    }\n",
       "\n",
       "    .dataframe tbody tr th {\n",
       "        vertical-align: top;\n",
       "    }\n",
       "\n",
       "    .dataframe thead th {\n",
       "        text-align: right;\n",
       "    }\n",
       "</style>\n",
       "<table border=\"1\" class=\"dataframe\">\n",
       "  <thead>\n",
       "    <tr style=\"text-align: right;\">\n",
       "      <th></th>\n",
       "      <th>chemical_class_id</th>\n",
       "      <th>chemical_class_name</th>\n",
       "      <th>smiles</th>\n",
       "      <th>fixed_smiles</th>\n",
       "      <th>structure_name</th>\n",
       "      <th>model=citeseek-gpt-4o_response</th>\n",
       "      <th>model=claude-sonnet_response</th>\n",
       "      <th>model=deepseek-chat_response</th>\n",
       "      <th>model=gpt-3.5-turbo_response</th>\n",
       "      <th>model=gpt-4o_response</th>\n",
       "      <th>Curator: is_member?</th>\n",
       "      <th>Curator: comments</th>\n",
       "    </tr>\n",
       "  </thead>\n",
       "  <tbody>\n",
       "    <tr>\n",
       "      <th>0</th>\n",
       "      <td>CHEBI:20706</td>\n",
       "      <td>6-aminopurines</td>\n",
       "      <td>O=NN1CCNCC1</td>\n",
       "      <td>No change</td>\n",
       "      <td>N-Mononitrosopiperazine</td>\n",
       "      <td>NO, the statement is incorrect. \\n\\nN-Mononitr...</td>\n",
       "      <td>NO. N-Mononitrosopiperazine (with SMILES 'O=NN...</td>\n",
       "      <td>NO. The structure N-Mononitrosopiperazine (wit...</td>\n",
       "      <td>NO\\n\\nExplanation: N-Mononitrosopiperazine is ...</td>\n",
       "      <td>NO, the provided statement is incorrect. \\n\\nN...</td>\n",
       "      <td>No</td>\n",
       "      <td>it is a nitroso compound and a piperazine</td>\n",
       "    </tr>\n",
       "    <tr>\n",
       "      <th>1</th>\n",
       "      <td>CHEBI:20706</td>\n",
       "      <td>6-aminopurines</td>\n",
       "      <td>O1C(CCC1)C(=O)N2CCNCC2</td>\n",
       "      <td>No change</td>\n",
       "      <td>1-(Tetrahydro-2-furoyl)piperazine</td>\n",
       "      <td>NO, the statement is not true.\\n\\n1-(Tetrahydr...</td>\n",
       "      <td>NO\\n\\nThe provided statement is false. The str...</td>\n",
       "      <td>NO. The structure 1-(Tetrahydro-2-furoyl)piper...</td>\n",
       "      <td>NO\\n\\nExplanation: The structure provided, 1-(...</td>\n",
       "      <td>NO, 1-(Tetrahydro-2-furoyl)piperazine is not a...</td>\n",
       "      <td>No</td>\n",
       "      <td>it is a piperazine and a tetrahydrofuran</td>\n",
       "    </tr>\n",
       "    <tr>\n",
       "      <th>2</th>\n",
       "      <td>CHEBI:20706</td>\n",
       "      <td>6-aminopurines</td>\n",
       "      <td>NC1=NC=NC2=C1N=CN2[C@@H]3O[C@H](CO)[C@@H](OP(O...</td>\n",
       "      <td>No change</td>\n",
       "      <td>5'-hydroxy-diadenylate with a cyclic 2',3' pho...</td>\n",
       "      <td>YES, the provided statement is true.\\n\\nThe st...</td>\n",
       "      <td>YES, the provided statement is true.\\n\\nExplan...</td>\n",
       "      <td>YES. The structure described, 5'-hydroxy-diade...</td>\n",
       "      <td>YES\\n\\nThe provided structure is indeed a type...</td>\n",
       "      <td>YES, The provided structure '5'-hydroxy-diaden...</td>\n",
       "      <td>Yes</td>\n",
       "      <td>NaN</td>\n",
       "    </tr>\n",
       "    <tr>\n",
       "      <th>3</th>\n",
       "      <td>CHEBI:47622</td>\n",
       "      <td>acetate ester</td>\n",
       "      <td>CCCCCCCCCCCCCC(=O)OC[C@H](COP([O-])(=O)OC[C@@H...</td>\n",
       "      <td>CCCCCCCCCCCCCC(=O)OC[C@H](COP([O-])(=O)OC[C@@H...</td>\n",
       "      <td>1-myristoyl-2-oleoyl-sn-glycero-3-phosphatidyl...</td>\n",
       "      <td>NO, the statement is not true. \\n\\nThe structu...</td>\n",
       "      <td>NO, the provided statement is not true.\\n\\nExp...</td>\n",
       "      <td>NO. The structure 1-myristoyl-2-oleoyl-sn-glyc...</td>\n",
       "      <td>NO\\n\\nExplanation: The provided SMILES string ...</td>\n",
       "      <td>NO, the provided statement is incorrect. \\n\\n1...</td>\n",
       "      <td>No</td>\n",
       "      <td>It is a carboxylic ester</td>\n",
       "    </tr>\n",
       "    <tr>\n",
       "      <th>4</th>\n",
       "      <td>CHEBI:17984</td>\n",
       "      <td>acyl-CoA</td>\n",
       "      <td>CCC=C/CC=C/CC=C/CC=C/CC=C/CCCCCCCCCC(=O)SCCNC(...</td>\n",
       "      <td>CC\\C=C/C\\C=C/C\\C=C/C\\C=C/C\\C=C/CCCCCCCCCC(=O)S...</td>\n",
       "      <td>(11Z,14Z,17Z,20Z,23Z)-hexacosapentaenoyl-CoA(4-)</td>\n",
       "      <td>YES, the provided statement is true. \\n\\nThe S...</td>\n",
       "      <td>YES, the provided statement is true.\\n\\nThe st...</td>\n",
       "      <td>YES. The structure (11Z,14Z,17Z,20Z,23Z)-hexac...</td>\n",
       "      <td>YES, the statement is true. The provided compo...</td>\n",
       "      <td>YES, the statement is true. The structure desc...</td>\n",
       "      <td>No</td>\n",
       "      <td>It is an acyl CoA(4-). Its net charge is -4 wh...</td>\n",
       "    </tr>\n",
       "    <tr>\n",
       "      <th>...</th>\n",
       "      <td>...</td>\n",
       "      <td>...</td>\n",
       "      <td>...</td>\n",
       "      <td>...</td>\n",
       "      <td>...</td>\n",
       "      <td>...</td>\n",
       "      <td>...</td>\n",
       "      <td>...</td>\n",
       "      <td>...</td>\n",
       "      <td>...</td>\n",
       "      <td>...</td>\n",
       "      <td>...</td>\n",
       "    </tr>\n",
       "    <tr>\n",
       "      <th>217</th>\n",
       "      <td>CHEBI:61910</td>\n",
       "      <td>very long-chain fatty acyl-CoA</td>\n",
       "      <td>CCCCCCCCCCCCCCCCCCCCCCCCC(C(O)=O)C(=O)SCCNC(=O...</td>\n",
       "      <td>No change</td>\n",
       "      <td>2-carboxyhexacosanoyl-CoA</td>\n",
       "      <td>YES, the provided statement is true. The struc...</td>\n",
       "      <td>YES\\n\\nThe provided SMILES string 'CCCCCCCCCCC...</td>\n",
       "      <td>YES. The structure 2-carboxyhexacosanoyl-CoA i...</td>\n",
       "      <td>YES\\n\\nExplanation: The provided SMILES struct...</td>\n",
       "      <td>YES, the provided statement is true. The compo...</td>\n",
       "      <td>Yes</td>\n",
       "      <td>NaN</td>\n",
       "    </tr>\n",
       "    <tr>\n",
       "      <th>218</th>\n",
       "      <td>CHEBI:10036</td>\n",
       "      <td>wax ester</td>\n",
       "      <td>CCCCCCCCCCCCCCCC(=O)OCC(CCCCCCCCCCCCCC)OC(=O)C...</td>\n",
       "      <td>No change</td>\n",
       "      <td>2-palmitoyloxypalmityl palmitate</td>\n",
       "      <td>YES, the provided statement is true. The given...</td>\n",
       "      <td>YES, the provided statement is true.\\n\\n2-palm...</td>\n",
       "      <td>YES. The structure 2-palmitoyloxypalmityl palm...</td>\n",
       "      <td>YES\\n\\nExplanation: The provided structure (2-...</td>\n",
       "      <td>YES. \\n\\nThe structure 2-palmitoyloxypalmityl ...</td>\n",
       "      <td>Yes</td>\n",
       "      <td>it is also a diester</td>\n",
       "    </tr>\n",
       "    <tr>\n",
       "      <th>219</th>\n",
       "      <td>CHEBI:10036</td>\n",
       "      <td>wax ester</td>\n",
       "      <td>CCCCCCCCCCOC(=O)CCCCCCCC=C/CCCCCCCC</td>\n",
       "      <td>CCCCCCCCCCOC(=O)CCCCCCC\\C=C/CCCCCCCC</td>\n",
       "      <td>decyl oleate</td>\n",
       "      <td>YES, the structure known as decyl oleate is a ...</td>\n",
       "      <td>YES, the provided statement is true.\\n\\nDecyl ...</td>\n",
       "      <td>YES. Decyl oleate is a wax ester. It is formed...</td>\n",
       "      <td>YES\\n\\nDecyl oleate is a type of wax ester. It...</td>\n",
       "      <td>YES, the provided statement is true. Decyl ole...</td>\n",
       "      <td>Yes</td>\n",
       "      <td>NaN</td>\n",
       "    </tr>\n",
       "    <tr>\n",
       "      <th>220</th>\n",
       "      <td>CHEBI:10036</td>\n",
       "      <td>wax ester</td>\n",
       "      <td>OC(CCCCCCCCOC(=O)CCCCCCCCCCCCCCCCCCCCC)CCCC</td>\n",
       "      <td>No change</td>\n",
       "      <td>9-Hydroxytridecyl docosanoate</td>\n",
       "      <td>YES, the statement is true. The structure 9-Hy...</td>\n",
       "      <td>YES, the provided statement is correct. 9-Hydr...</td>\n",
       "      <td>YES. The structure 9-Hydroxytridecyl docosanoa...</td>\n",
       "      <td>YES\\n\\nExplanation: The provided structure of ...</td>\n",
       "      <td>YES, the statement is true. The structure know...</td>\n",
       "      <td>Yes</td>\n",
       "      <td>NaN</td>\n",
       "    </tr>\n",
       "    <tr>\n",
       "      <th>221</th>\n",
       "      <td>CHEBI:10036</td>\n",
       "      <td>wax ester</td>\n",
       "      <td>C(CCCCCCCC)CCC(OCCCCCCCCCCCC)=O</td>\n",
       "      <td>No change</td>\n",
       "      <td>dodecyl dodecanoate</td>\n",
       "      <td>YES, the provided structure dodecyl dodecanoat...</td>\n",
       "      <td>YES, the provided statement is correct.\\n\\nDod...</td>\n",
       "      <td>YES. The structure dodecyl dodecanoate (with S...</td>\n",
       "      <td>YES\\n\\nThe provided structure for dodecyl dode...</td>\n",
       "      <td>YES, the provided statement is true. \\n\\nDodec...</td>\n",
       "      <td>Yes</td>\n",
       "      <td>NaN</td>\n",
       "    </tr>\n",
       "  </tbody>\n",
       "</table>\n",
       "<p>222 rows × 12 columns</p>\n",
       "</div>"
      ]
     },
     "execution_count": 16,
     "metadata": {},
     "output_type": "execute_result"
    }
   ],
   "execution_count": 16
  },
  {
   "metadata": {
    "ExecuteTime": {
     "end_time": "2025-01-27T21:49:50.608465Z",
     "start_time": "2025-01-27T21:49:50.606186Z"
    }
   },
   "cell_type": "code",
   "source": [
    "# fix SMILES\n",
    "fixed = {}\n",
    "\n",
    "def fix_smiles(name: str, curr_smiles: str):\n",
    "    if name not in name2smiles:\n",
    "        raise ValueError(f\"Name not in dataset: {name}\")\n",
    "    fixed_smiles = name2smiles[name]\n",
    "    if fixed_smiles != curr_smiles:\n",
    "        fixed[name] = fixed_smiles\n",
    "        # check if they differ other than backslashes\n",
    "        if fixed_smiles.replace(\"\\\\\", \"\") != curr_smiles.replace(\"\\\\\", \"\"):\n",
    "            raise ValueError(f\"SMILES differ: {fixed_smiles} != {curr_smiles}\")\n",
    "    return fixed_smiles"
   ],
   "id": "873c1804361baae",
   "outputs": [],
   "execution_count": 17
  },
  {
   "metadata": {
    "ExecuteTime": {
     "end_time": "2025-01-27T21:49:53.128364Z",
     "start_time": "2025-01-27T21:49:53.125284Z"
    }
   },
   "cell_type": "code",
   "source": "curator_df[\"smiles\"] = curator_df.apply(lambda row: fix_smiles(row[\"structure_name\"], row[\"smiles\"]), axis=1)",
   "id": "6c2b6e5a78b76b3f",
   "outputs": [],
   "execution_count": 18
  },
  {
   "metadata": {
    "ExecuteTime": {
     "end_time": "2025-01-27T21:49:53.712440Z",
     "start_time": "2025-01-27T21:49:53.709981Z"
    }
   },
   "cell_type": "code",
   "source": "len(fixed)",
   "id": "a757b9b19c4aaae4",
   "outputs": [
    {
     "data": {
      "text/plain": [
       "50"
      ]
     },
     "execution_count": 19,
     "metadata": {},
     "output_type": "execute_result"
    }
   ],
   "execution_count": 19
  },
  {
   "metadata": {
    "ExecuteTime": {
     "end_time": "2025-01-27T21:49:54.556159Z",
     "start_time": "2025-01-27T21:49:54.390713Z"
    }
   },
   "cell_type": "code",
   "source": [
    "# turned dict into a df\n",
    "fixed_df = pd.DataFrame(list(fixed.items()), columns=[\"name\", \"smiles\"])\n",
    "fixed_df.to_csv(f\"{RESULTS_DIR}/fixed-smiles.csv\", index=False)\n",
    "fixed_df.to_excel(f\"{RESULTS_DIR}/fixed-smiles.xlsx\", index=False)"
   ],
   "id": "37871411fb5a7ef9",
   "outputs": [],
   "execution_count": 20
  },
  {
   "metadata": {
    "ExecuteTime": {
     "end_time": "2025-01-27T21:49:55.176330Z",
     "start_time": "2025-01-27T21:49:55.174533Z"
    }
   },
   "cell_type": "code",
   "source": [
    "CUR_IS_MEMBER = \"Curator: is_member?\"\n",
    "CUR_COMMENTS = \"Curator: comments\""
   ],
   "id": "2d6bf293492e9126",
   "outputs": [],
   "execution_count": 21
  },
  {
   "metadata": {
    "ExecuteTime": {
     "end_time": "2025-01-27T21:49:55.787627Z",
     "start_time": "2025-01-27T21:49:55.784792Z"
    }
   },
   "cell_type": "code",
   "source": "curator_df.columns",
   "id": "f06352138aeee9a4",
   "outputs": [
    {
     "data": {
      "text/plain": [
       "Index(['chemical_class_id', 'chemical_class_name', 'smiles', 'fixed_smiles',\n",
       "       'structure_name', 'model=citeseek-gpt-4o_response',\n",
       "       'model=claude-sonnet_response', 'model=deepseek-chat_response',\n",
       "       'model=gpt-3.5-turbo_response', 'model=gpt-4o_response',\n",
       "       'Curator: is_member?', 'Curator: comments'],\n",
       "      dtype='object')"
      ]
     },
     "execution_count": 22,
     "metadata": {},
     "output_type": "execute_result"
    }
   ],
   "execution_count": 22
  },
  {
   "metadata": {
    "ExecuteTime": {
     "end_time": "2025-01-27T21:52:24.620752Z",
     "start_time": "2025-01-27T21:52:24.608948Z"
    }
   },
   "cell_type": "code",
   "source": "curator_df.describe()",
   "id": "de6ad95c98a2d986",
   "outputs": [
    {
     "data": {
      "text/plain": [
       "       chemical_class_id  chemical_class_name  \\\n",
       "count                222                  222   \n",
       "unique                94                   94   \n",
       "top          CHEBI:61051  lipid hydroperoxide   \n",
       "freq                   6                    6   \n",
       "\n",
       "                                                   smiles fixed_smiles  \\\n",
       "count                                                 222          222   \n",
       "unique                                                201           51   \n",
       "top     CCCCCCCCCCCCCC(=O)OC[C@H](COP([O-])(=O)OC[C@@H...    No change   \n",
       "freq                                                    5          163   \n",
       "\n",
       "                                           structure_name  \\\n",
       "count                                                 222   \n",
       "unique                                                201   \n",
       "top     1-myristoyl-2-oleoyl-sn-glycero-3-phosphatidyl...   \n",
       "freq                                                    5   \n",
       "\n",
       "                           model=citeseek-gpt-4o_response  \\\n",
       "count                                                 222   \n",
       "unique                                                222   \n",
       "top     NO, the statement is incorrect. \\n\\nN-Mononitr...   \n",
       "freq                                                    1   \n",
       "\n",
       "                             model=claude-sonnet_response  \\\n",
       "count                                                 222   \n",
       "unique                                                222   \n",
       "top     NO. N-Mononitrosopiperazine (with SMILES 'O=NN...   \n",
       "freq                                                    1   \n",
       "\n",
       "                             model=deepseek-chat_response  \\\n",
       "count                                                 222   \n",
       "unique                                                222   \n",
       "top     NO. The structure N-Mononitrosopiperazine (wit...   \n",
       "freq                                                    1   \n",
       "\n",
       "                             model=gpt-3.5-turbo_response  \\\n",
       "count                                                 222   \n",
       "unique                                                222   \n",
       "top     NO\\n\\nExplanation: N-Mononitrosopiperazine is ...   \n",
       "freq                                                    1   \n",
       "\n",
       "                                    model=gpt-4o_response Curator: is_member?  \\\n",
       "count                                                 222                 222   \n",
       "unique                                                222                   3   \n",
       "top     NO, the provided statement is incorrect. \\n\\nN...                  No   \n",
       "freq                                                    1                 150   \n",
       "\n",
       "                                        Curator: comments in_benchmark  \n",
       "count                                                  93          222  \n",
       "unique                                                 81            2  \n",
       "top     I may have said yes if i had ignored the charg...        False  \n",
       "freq                                                    3          124  "
      ],
      "text/html": [
       "<div>\n",
       "<style scoped>\n",
       "    .dataframe tbody tr th:only-of-type {\n",
       "        vertical-align: middle;\n",
       "    }\n",
       "\n",
       "    .dataframe tbody tr th {\n",
       "        vertical-align: top;\n",
       "    }\n",
       "\n",
       "    .dataframe thead th {\n",
       "        text-align: right;\n",
       "    }\n",
       "</style>\n",
       "<table border=\"1\" class=\"dataframe\">\n",
       "  <thead>\n",
       "    <tr style=\"text-align: right;\">\n",
       "      <th></th>\n",
       "      <th>chemical_class_id</th>\n",
       "      <th>chemical_class_name</th>\n",
       "      <th>smiles</th>\n",
       "      <th>fixed_smiles</th>\n",
       "      <th>structure_name</th>\n",
       "      <th>model=citeseek-gpt-4o_response</th>\n",
       "      <th>model=claude-sonnet_response</th>\n",
       "      <th>model=deepseek-chat_response</th>\n",
       "      <th>model=gpt-3.5-turbo_response</th>\n",
       "      <th>model=gpt-4o_response</th>\n",
       "      <th>Curator: is_member?</th>\n",
       "      <th>Curator: comments</th>\n",
       "      <th>in_benchmark</th>\n",
       "    </tr>\n",
       "  </thead>\n",
       "  <tbody>\n",
       "    <tr>\n",
       "      <th>count</th>\n",
       "      <td>222</td>\n",
       "      <td>222</td>\n",
       "      <td>222</td>\n",
       "      <td>222</td>\n",
       "      <td>222</td>\n",
       "      <td>222</td>\n",
       "      <td>222</td>\n",
       "      <td>222</td>\n",
       "      <td>222</td>\n",
       "      <td>222</td>\n",
       "      <td>222</td>\n",
       "      <td>93</td>\n",
       "      <td>222</td>\n",
       "    </tr>\n",
       "    <tr>\n",
       "      <th>unique</th>\n",
       "      <td>94</td>\n",
       "      <td>94</td>\n",
       "      <td>201</td>\n",
       "      <td>51</td>\n",
       "      <td>201</td>\n",
       "      <td>222</td>\n",
       "      <td>222</td>\n",
       "      <td>222</td>\n",
       "      <td>222</td>\n",
       "      <td>222</td>\n",
       "      <td>3</td>\n",
       "      <td>81</td>\n",
       "      <td>2</td>\n",
       "    </tr>\n",
       "    <tr>\n",
       "      <th>top</th>\n",
       "      <td>CHEBI:61051</td>\n",
       "      <td>lipid hydroperoxide</td>\n",
       "      <td>CCCCCCCCCCCCCC(=O)OC[C@H](COP([O-])(=O)OC[C@@H...</td>\n",
       "      <td>No change</td>\n",
       "      <td>1-myristoyl-2-oleoyl-sn-glycero-3-phosphatidyl...</td>\n",
       "      <td>NO, the statement is incorrect. \\n\\nN-Mononitr...</td>\n",
       "      <td>NO. N-Mononitrosopiperazine (with SMILES 'O=NN...</td>\n",
       "      <td>NO. The structure N-Mononitrosopiperazine (wit...</td>\n",
       "      <td>NO\\n\\nExplanation: N-Mononitrosopiperazine is ...</td>\n",
       "      <td>NO, the provided statement is incorrect. \\n\\nN...</td>\n",
       "      <td>No</td>\n",
       "      <td>I may have said yes if i had ignored the charg...</td>\n",
       "      <td>False</td>\n",
       "    </tr>\n",
       "    <tr>\n",
       "      <th>freq</th>\n",
       "      <td>6</td>\n",
       "      <td>6</td>\n",
       "      <td>5</td>\n",
       "      <td>163</td>\n",
       "      <td>5</td>\n",
       "      <td>1</td>\n",
       "      <td>1</td>\n",
       "      <td>1</td>\n",
       "      <td>1</td>\n",
       "      <td>1</td>\n",
       "      <td>150</td>\n",
       "      <td>3</td>\n",
       "      <td>124</td>\n",
       "    </tr>\n",
       "  </tbody>\n",
       "</table>\n",
       "</div>"
      ]
     },
     "execution_count": 38,
     "metadata": {},
     "output_type": "execute_result"
    }
   ],
   "execution_count": 38
  },
  {
   "metadata": {
    "ExecuteTime": {
     "end_time": "2025-01-27T21:53:18.904679Z",
     "start_time": "2025-01-27T21:53:18.899053Z"
    }
   },
   "cell_type": "code",
   "source": "curator_df[curator_df[CUR_COMMENTS].notna()][[\"chemical_class_name\", \"structure_name\", CUR_IS_MEMBER, CUR_COMMENTS]]",
   "id": "bd70b0732f29f04a",
   "outputs": [
    {
     "data": {
      "text/plain": [
       "      chemical_class_name                                     structure_name  \\\n",
       "0          6-aminopurines                            N-Mononitrosopiperazine   \n",
       "1          6-aminopurines                  1-(Tetrahydro-2-furoyl)piperazine   \n",
       "3           acetate ester  1-myristoyl-2-oleoyl-sn-glycero-3-phosphatidyl...   \n",
       "4                acyl-CoA   (11Z,14Z,17Z,20Z,23Z)-hexacosapentaenoyl-CoA(4-)   \n",
       "5                acyl-CoA                            N-Mononitrosopiperazine   \n",
       "..                    ...                                                ...   \n",
       "200     secondary alcohol                1,2-bis(4-hydroxyphenyl)propan-2-ol   \n",
       "202               steroid  (5E,7E,10E)-(3S)-19-methyl-9,10-seco-5,7,10(19...   \n",
       "203               steroid                      (20S,24R)-dihydroxyvitamin D3   \n",
       "213  triterpenoid saponin                                    Diacetylpyxinol   \n",
       "218             wax ester                   2-palmitoyloxypalmityl palmitate   \n",
       "\n",
       "    Curator: is_member?                                  Curator: comments  \n",
       "0                    No          it is a nitroso compound and a piperazine  \n",
       "1                    No           it is a piperazine and a tetrahydrofuran  \n",
       "3                    No                           It is a carboxylic ester  \n",
       "4                    No  It is an acyl CoA(4-). Its net charge is -4 wh...  \n",
       "5                    No                                 It is a piperazine  \n",
       "..                  ...                                                ...  \n",
       "200                  No  It seems like a tertiary alcohol (more precise...  \n",
       "202                 Yes       It is a secosteroid (a subclass of steroids)  \n",
       "203                 Yes       It is a secosteroid (a subclass of steroids)  \n",
       "213                  No           structure is missing the glycoside group  \n",
       "218                 Yes                               it is also a diester  \n",
       "\n",
       "[93 rows x 4 columns]"
      ],
      "text/html": [
       "<div>\n",
       "<style scoped>\n",
       "    .dataframe tbody tr th:only-of-type {\n",
       "        vertical-align: middle;\n",
       "    }\n",
       "\n",
       "    .dataframe tbody tr th {\n",
       "        vertical-align: top;\n",
       "    }\n",
       "\n",
       "    .dataframe thead th {\n",
       "        text-align: right;\n",
       "    }\n",
       "</style>\n",
       "<table border=\"1\" class=\"dataframe\">\n",
       "  <thead>\n",
       "    <tr style=\"text-align: right;\">\n",
       "      <th></th>\n",
       "      <th>chemical_class_name</th>\n",
       "      <th>structure_name</th>\n",
       "      <th>Curator: is_member?</th>\n",
       "      <th>Curator: comments</th>\n",
       "    </tr>\n",
       "  </thead>\n",
       "  <tbody>\n",
       "    <tr>\n",
       "      <th>0</th>\n",
       "      <td>6-aminopurines</td>\n",
       "      <td>N-Mononitrosopiperazine</td>\n",
       "      <td>No</td>\n",
       "      <td>it is a nitroso compound and a piperazine</td>\n",
       "    </tr>\n",
       "    <tr>\n",
       "      <th>1</th>\n",
       "      <td>6-aminopurines</td>\n",
       "      <td>1-(Tetrahydro-2-furoyl)piperazine</td>\n",
       "      <td>No</td>\n",
       "      <td>it is a piperazine and a tetrahydrofuran</td>\n",
       "    </tr>\n",
       "    <tr>\n",
       "      <th>3</th>\n",
       "      <td>acetate ester</td>\n",
       "      <td>1-myristoyl-2-oleoyl-sn-glycero-3-phosphatidyl...</td>\n",
       "      <td>No</td>\n",
       "      <td>It is a carboxylic ester</td>\n",
       "    </tr>\n",
       "    <tr>\n",
       "      <th>4</th>\n",
       "      <td>acyl-CoA</td>\n",
       "      <td>(11Z,14Z,17Z,20Z,23Z)-hexacosapentaenoyl-CoA(4-)</td>\n",
       "      <td>No</td>\n",
       "      <td>It is an acyl CoA(4-). Its net charge is -4 wh...</td>\n",
       "    </tr>\n",
       "    <tr>\n",
       "      <th>5</th>\n",
       "      <td>acyl-CoA</td>\n",
       "      <td>N-Mononitrosopiperazine</td>\n",
       "      <td>No</td>\n",
       "      <td>It is a piperazine</td>\n",
       "    </tr>\n",
       "    <tr>\n",
       "      <th>...</th>\n",
       "      <td>...</td>\n",
       "      <td>...</td>\n",
       "      <td>...</td>\n",
       "      <td>...</td>\n",
       "    </tr>\n",
       "    <tr>\n",
       "      <th>200</th>\n",
       "      <td>secondary alcohol</td>\n",
       "      <td>1,2-bis(4-hydroxyphenyl)propan-2-ol</td>\n",
       "      <td>No</td>\n",
       "      <td>It seems like a tertiary alcohol (more precise...</td>\n",
       "    </tr>\n",
       "    <tr>\n",
       "      <th>202</th>\n",
       "      <td>steroid</td>\n",
       "      <td>(5E,7E,10E)-(3S)-19-methyl-9,10-seco-5,7,10(19...</td>\n",
       "      <td>Yes</td>\n",
       "      <td>It is a secosteroid (a subclass of steroids)</td>\n",
       "    </tr>\n",
       "    <tr>\n",
       "      <th>203</th>\n",
       "      <td>steroid</td>\n",
       "      <td>(20S,24R)-dihydroxyvitamin D3</td>\n",
       "      <td>Yes</td>\n",
       "      <td>It is a secosteroid (a subclass of steroids)</td>\n",
       "    </tr>\n",
       "    <tr>\n",
       "      <th>213</th>\n",
       "      <td>triterpenoid saponin</td>\n",
       "      <td>Diacetylpyxinol</td>\n",
       "      <td>No</td>\n",
       "      <td>structure is missing the glycoside group</td>\n",
       "    </tr>\n",
       "    <tr>\n",
       "      <th>218</th>\n",
       "      <td>wax ester</td>\n",
       "      <td>2-palmitoyloxypalmityl palmitate</td>\n",
       "      <td>Yes</td>\n",
       "      <td>it is also a diester</td>\n",
       "    </tr>\n",
       "  </tbody>\n",
       "</table>\n",
       "<p>93 rows × 4 columns</p>\n",
       "</div>"
      ]
     },
     "execution_count": 39,
     "metadata": {},
     "output_type": "execute_result"
    }
   ],
   "execution_count": 39
  },
  {
   "metadata": {
    "ExecuteTime": {
     "end_time": "2025-01-27T21:51:21.477136Z",
     "start_time": "2025-01-27T21:51:21.475354Z"
    }
   },
   "cell_type": "code",
   "outputs": [],
   "execution_count": 34,
   "source": [
    "def col_summary(col):\n",
    "    return curator_df.groupby(col).size()"
   ],
   "id": "c7eaffb040ea5bd8"
  },
  {
   "metadata": {
    "ExecuteTime": {
     "end_time": "2025-01-27T21:49:57.100288Z",
     "start_time": "2025-01-27T21:49:57.091499Z"
    }
   },
   "cell_type": "code",
   "source": "curator_df[CUR_IS_MEMBER].unique()",
   "id": "aecadcf995016485",
   "outputs": [
    {
     "data": {
      "text/plain": [
       "array(['No', 'Yes', 'Unknown'], dtype=object)"
      ]
     },
     "execution_count": 24,
     "metadata": {},
     "output_type": "execute_result"
    }
   ],
   "execution_count": 24
  },
  {
   "metadata": {
    "ExecuteTime": {
     "end_time": "2025-01-27T21:49:57.831626Z",
     "start_time": "2025-01-27T21:49:57.826499Z"
    }
   },
   "cell_type": "code",
   "source": "curator_df[curator_df[CUR_IS_MEMBER] == \"Unknown\"]",
   "id": "a96d152973d28431",
   "outputs": [
    {
     "data": {
      "text/plain": [
       "    chemical_class_id chemical_class_name  \\\n",
       "83        CHEBI:72544          flavonoids   \n",
       "124       CHEBI:35381      monosaccharide   \n",
       "126       CHEBI:25409       monoterpenoid   \n",
       "\n",
       "                                                smiles  \\\n",
       "83   C12=C(C3=C(C(=CC(O3)=O)C4=CC=CC=C4)C5=C1C=CC(O...   \n",
       "124               [H][C@@]1(OC(=O)C(O)=C1O)[C@@H](O)CO   \n",
       "126                  OC(=O)C[C@@H](CC/C=C(\\C)/C(O)=O)C   \n",
       "\n",
       "                          fixed_smiles                         structure_name  \\\n",
       "83                           No change                inophyllolide chromanol   \n",
       "124                          No change                        L-ascorbic acid   \n",
       "126  OC(=O)C[C@@H](CC/C=C(\\C)/C(O)=O)C  2,6R-Dimethyl-2E-octen-1,8-dioic acid   \n",
       "\n",
       "                        model=citeseek-gpt-4o_response  \\\n",
       "83   NO, the structure known as inophyllolide chrom...   \n",
       "124  NO, the provided statement is not true.\\n\\nL-a...   \n",
       "126  NO, the statement is incorrect. \\n\\nThe struct...   \n",
       "\n",
       "                          model=claude-sonnet_response  \\\n",
       "83   NO. The provided structure of inophyllolide ch...   \n",
       "124  NO. The structure of L-ascorbic acid (vitamin ...   \n",
       "126  NO, the provided statement is not true.\\n\\nExp...   \n",
       "\n",
       "                          model=deepseek-chat_response  \\\n",
       "83   NO. The structure of inophyllolide chromanol (...   \n",
       "124  NO. L-ascorbic acid (vitamin C) is not a monos...   \n",
       "126  NO. The structure 2,6R-Dimethyl-2E-octen-1,8-d...   \n",
       "\n",
       "                          model=gpt-3.5-turbo_response  \\\n",
       "83   NO\\n\\nExplanation: Inophyllolide chromanol is ...   \n",
       "124  NO\\n\\nExplanation: L-ascorbic acid is not cons...   \n",
       "126  NO\\n\\nExplanation: The provided structure is n...   \n",
       "\n",
       "                                 model=gpt-4o_response Curator: is_member?  \\\n",
       "83   NO, the statement is not true. \\n\\nInophylloli...             Unknown   \n",
       "124  NO, L-ascorbic acid is not a monosaccharide. \\...             Unknown   \n",
       "126  NO, the provided statement is not true. The st...             Unknown   \n",
       "\n",
       "                                     Curator: comments  \n",
       "83         could potentially be a flavonoid derivative  \n",
       "124  There is some confusion in the literature rega...  \n",
       "126  I am unable to decide by looking at its chemic...  "
      ],
      "text/html": [
       "<div>\n",
       "<style scoped>\n",
       "    .dataframe tbody tr th:only-of-type {\n",
       "        vertical-align: middle;\n",
       "    }\n",
       "\n",
       "    .dataframe tbody tr th {\n",
       "        vertical-align: top;\n",
       "    }\n",
       "\n",
       "    .dataframe thead th {\n",
       "        text-align: right;\n",
       "    }\n",
       "</style>\n",
       "<table border=\"1\" class=\"dataframe\">\n",
       "  <thead>\n",
       "    <tr style=\"text-align: right;\">\n",
       "      <th></th>\n",
       "      <th>chemical_class_id</th>\n",
       "      <th>chemical_class_name</th>\n",
       "      <th>smiles</th>\n",
       "      <th>fixed_smiles</th>\n",
       "      <th>structure_name</th>\n",
       "      <th>model=citeseek-gpt-4o_response</th>\n",
       "      <th>model=claude-sonnet_response</th>\n",
       "      <th>model=deepseek-chat_response</th>\n",
       "      <th>model=gpt-3.5-turbo_response</th>\n",
       "      <th>model=gpt-4o_response</th>\n",
       "      <th>Curator: is_member?</th>\n",
       "      <th>Curator: comments</th>\n",
       "    </tr>\n",
       "  </thead>\n",
       "  <tbody>\n",
       "    <tr>\n",
       "      <th>83</th>\n",
       "      <td>CHEBI:72544</td>\n",
       "      <td>flavonoids</td>\n",
       "      <td>C12=C(C3=C(C(=CC(O3)=O)C4=CC=CC=C4)C5=C1C=CC(O...</td>\n",
       "      <td>No change</td>\n",
       "      <td>inophyllolide chromanol</td>\n",
       "      <td>NO, the structure known as inophyllolide chrom...</td>\n",
       "      <td>NO. The provided structure of inophyllolide ch...</td>\n",
       "      <td>NO. The structure of inophyllolide chromanol (...</td>\n",
       "      <td>NO\\n\\nExplanation: Inophyllolide chromanol is ...</td>\n",
       "      <td>NO, the statement is not true. \\n\\nInophylloli...</td>\n",
       "      <td>Unknown</td>\n",
       "      <td>could potentially be a flavonoid derivative</td>\n",
       "    </tr>\n",
       "    <tr>\n",
       "      <th>124</th>\n",
       "      <td>CHEBI:35381</td>\n",
       "      <td>monosaccharide</td>\n",
       "      <td>[H][C@@]1(OC(=O)C(O)=C1O)[C@@H](O)CO</td>\n",
       "      <td>No change</td>\n",
       "      <td>L-ascorbic acid</td>\n",
       "      <td>NO, the provided statement is not true.\\n\\nL-a...</td>\n",
       "      <td>NO. The structure of L-ascorbic acid (vitamin ...</td>\n",
       "      <td>NO. L-ascorbic acid (vitamin C) is not a monos...</td>\n",
       "      <td>NO\\n\\nExplanation: L-ascorbic acid is not cons...</td>\n",
       "      <td>NO, L-ascorbic acid is not a monosaccharide. \\...</td>\n",
       "      <td>Unknown</td>\n",
       "      <td>There is some confusion in the literature rega...</td>\n",
       "    </tr>\n",
       "    <tr>\n",
       "      <th>126</th>\n",
       "      <td>CHEBI:25409</td>\n",
       "      <td>monoterpenoid</td>\n",
       "      <td>OC(=O)C[C@@H](CC/C=C(\\C)/C(O)=O)C</td>\n",
       "      <td>OC(=O)C[C@@H](CC/C=C(\\C)/C(O)=O)C</td>\n",
       "      <td>2,6R-Dimethyl-2E-octen-1,8-dioic acid</td>\n",
       "      <td>NO, the statement is incorrect. \\n\\nThe struct...</td>\n",
       "      <td>NO, the provided statement is not true.\\n\\nExp...</td>\n",
       "      <td>NO. The structure 2,6R-Dimethyl-2E-octen-1,8-d...</td>\n",
       "      <td>NO\\n\\nExplanation: The provided structure is n...</td>\n",
       "      <td>NO, the provided statement is not true. The st...</td>\n",
       "      <td>Unknown</td>\n",
       "      <td>I am unable to decide by looking at its chemic...</td>\n",
       "    </tr>\n",
       "  </tbody>\n",
       "</table>\n",
       "</div>"
      ]
     },
     "execution_count": 25,
     "metadata": {},
     "output_type": "execute_result"
    }
   ],
   "execution_count": 25
  },
  {
   "metadata": {
    "ExecuteTime": {
     "end_time": "2025-01-27T21:49:58.988520Z",
     "start_time": "2025-01-27T21:49:58.984467Z"
    }
   },
   "cell_type": "code",
   "source": "curator_df.aggregate({CUR_IS_MEMBER: [\"count\"]})",
   "id": "6eef0f16fffdf17",
   "outputs": [
    {
     "data": {
      "text/plain": [
       "       Curator: is_member?\n",
       "count                  222"
      ],
      "text/html": [
       "<div>\n",
       "<style scoped>\n",
       "    .dataframe tbody tr th:only-of-type {\n",
       "        vertical-align: middle;\n",
       "    }\n",
       "\n",
       "    .dataframe tbody tr th {\n",
       "        vertical-align: top;\n",
       "    }\n",
       "\n",
       "    .dataframe thead th {\n",
       "        text-align: right;\n",
       "    }\n",
       "</style>\n",
       "<table border=\"1\" class=\"dataframe\">\n",
       "  <thead>\n",
       "    <tr style=\"text-align: right;\">\n",
       "      <th></th>\n",
       "      <th>Curator: is_member?</th>\n",
       "    </tr>\n",
       "  </thead>\n",
       "  <tbody>\n",
       "    <tr>\n",
       "      <th>count</th>\n",
       "      <td>222</td>\n",
       "    </tr>\n",
       "  </tbody>\n",
       "</table>\n",
       "</div>"
      ]
     },
     "execution_count": 26,
     "metadata": {},
     "output_type": "execute_result"
    }
   ],
   "execution_count": 26
  },
  {
   "metadata": {
    "ExecuteTime": {
     "end_time": "2025-01-27T21:50:00.300789Z",
     "start_time": "2025-01-27T21:50:00.287141Z"
    }
   },
   "cell_type": "code",
   "source": [
    "def classifies_in_benchmark(row: dict):\n",
    "    cc = dataset.get_chemical_class_by_id(row[\"chemical_class_id\"])\n",
    "    return row[\"smiles\"] in cc.all_positive_examples\n",
    "\n",
    "curator_df[\"in_benchmark\"] = curator_df.apply(classifies_in_benchmark, axis=1)\n",
    "    "
   ],
   "id": "31415bf2031db82d",
   "outputs": [],
   "execution_count": 27
  },
  {
   "metadata": {
    "ExecuteTime": {
     "end_time": "2025-01-27T21:50:01.181261Z",
     "start_time": "2025-01-27T21:50:01.176564Z"
    }
   },
   "cell_type": "code",
   "source": "curator_df[curator_df[\"smiles\"] == BETALAMIC_ACID_SMILES]",
   "id": "d5f3d430324189de",
   "outputs": [
    {
     "data": {
      "text/plain": [
       "   chemical_class_id chemical_class_name  \\\n",
       "15       CHEBI:22315            alkaloid   \n",
       "\n",
       "                                   smiles  \\\n",
       "15  OC(=O)[C@@H]1CC(=C/C=O)\\C=C(N1)C(O)=O   \n",
       "\n",
       "                             fixed_smiles  structure_name  \\\n",
       "15  OC(=O)[C@@H]1CC(=C/C=O)\\C=C(N1)C(O)=O  betalamic acid   \n",
       "\n",
       "                       model=citeseek-gpt-4o_response  \\\n",
       "15  NO, the provided statement is not true. \\n\\nBe...   \n",
       "\n",
       "                         model=claude-sonnet_response  \\\n",
       "15  NO. Betalamic acid (SMILES: OC(=O)[C@@H]1CC(=C...   \n",
       "\n",
       "                         model=deepseek-chat_response  \\\n",
       "15  NO. Betalamic acid is not an alkaloid. While i...   \n",
       "\n",
       "                         model=gpt-3.5-turbo_response  \\\n",
       "15  NO\\n\\nBetalamic acid is not typically consider...   \n",
       "\n",
       "                                model=gpt-4o_response Curator: is_member?  \\\n",
       "15  NO, betalamic acid is not classified as an alk...                  No   \n",
       "\n",
       "                          Curator: comments  in_benchmark  \n",
       "15  is a dicarboxylic acid and an aldehyde.          True  "
      ],
      "text/html": [
       "<div>\n",
       "<style scoped>\n",
       "    .dataframe tbody tr th:only-of-type {\n",
       "        vertical-align: middle;\n",
       "    }\n",
       "\n",
       "    .dataframe tbody tr th {\n",
       "        vertical-align: top;\n",
       "    }\n",
       "\n",
       "    .dataframe thead th {\n",
       "        text-align: right;\n",
       "    }\n",
       "</style>\n",
       "<table border=\"1\" class=\"dataframe\">\n",
       "  <thead>\n",
       "    <tr style=\"text-align: right;\">\n",
       "      <th></th>\n",
       "      <th>chemical_class_id</th>\n",
       "      <th>chemical_class_name</th>\n",
       "      <th>smiles</th>\n",
       "      <th>fixed_smiles</th>\n",
       "      <th>structure_name</th>\n",
       "      <th>model=citeseek-gpt-4o_response</th>\n",
       "      <th>model=claude-sonnet_response</th>\n",
       "      <th>model=deepseek-chat_response</th>\n",
       "      <th>model=gpt-3.5-turbo_response</th>\n",
       "      <th>model=gpt-4o_response</th>\n",
       "      <th>Curator: is_member?</th>\n",
       "      <th>Curator: comments</th>\n",
       "      <th>in_benchmark</th>\n",
       "    </tr>\n",
       "  </thead>\n",
       "  <tbody>\n",
       "    <tr>\n",
       "      <th>15</th>\n",
       "      <td>CHEBI:22315</td>\n",
       "      <td>alkaloid</td>\n",
       "      <td>OC(=O)[C@@H]1CC(=C/C=O)\\C=C(N1)C(O)=O</td>\n",
       "      <td>OC(=O)[C@@H]1CC(=C/C=O)\\C=C(N1)C(O)=O</td>\n",
       "      <td>betalamic acid</td>\n",
       "      <td>NO, the provided statement is not true. \\n\\nBe...</td>\n",
       "      <td>NO. Betalamic acid (SMILES: OC(=O)[C@@H]1CC(=C...</td>\n",
       "      <td>NO. Betalamic acid is not an alkaloid. While i...</td>\n",
       "      <td>NO\\n\\nBetalamic acid is not typically consider...</td>\n",
       "      <td>NO, betalamic acid is not classified as an alk...</td>\n",
       "      <td>No</td>\n",
       "      <td>is a dicarboxylic acid and an aldehyde.</td>\n",
       "      <td>True</td>\n",
       "    </tr>\n",
       "  </tbody>\n",
       "</table>\n",
       "</div>"
      ]
     },
     "execution_count": 28,
     "metadata": {},
     "output_type": "execute_result"
    }
   ],
   "execution_count": 28
  },
  {
   "metadata": {
    "ExecuteTime": {
     "end_time": "2025-01-27T21:50:02.318752Z",
     "start_time": "2025-01-27T21:50:02.315943Z"
    }
   },
   "cell_type": "code",
   "source": [
    "betalamic_acid_smiles_retrieved = curator_df[curator_df[\"structure_name\"] == \"betalamic acid\"][\"smiles\"].unique()[0]\n",
    "betalamic_acid_smiles_retrieved"
   ],
   "id": "e1a13250dcaf86b",
   "outputs": [
    {
     "data": {
      "text/plain": [
       "'OC(=O)[C@@H]1CC(=C/C=O)\\\\C=C(N1)C(O)=O'"
      ]
     },
     "execution_count": 29,
     "metadata": {},
     "output_type": "execute_result"
    }
   ],
   "execution_count": 29
  },
  {
   "metadata": {
    "ExecuteTime": {
     "end_time": "2025-01-27T21:50:03.418321Z",
     "start_time": "2025-01-27T21:50:03.416071Z"
    }
   },
   "cell_type": "code",
   "source": "betalamic_acid_smiles_retrieved, BETALAMIC_ACID_SMILES, betalamic_acid_smiles_retrieved == BETALAMIC_ACID_SMILES",
   "id": "acf8c3d8f3069133",
   "outputs": [
    {
     "data": {
      "text/plain": [
       "('OC(=O)[C@@H]1CC(=C/C=O)\\\\C=C(N1)C(O)=O',\n",
       " 'OC(=O)[C@@H]1CC(=C/C=O)\\\\C=C(N1)C(O)=O',\n",
       " True)"
      ]
     },
     "execution_count": 30,
     "metadata": {},
     "output_type": "execute_result"
    }
   ],
   "execution_count": 30
  },
  {
   "metadata": {
    "ExecuteTime": {
     "end_time": "2025-01-27T21:50:04.356851Z",
     "start_time": "2025-01-27T21:50:04.354893Z"
    }
   },
   "cell_type": "code",
   "source": "assert betalamic_acid_smiles_retrieved == BETALAMIC_ACID_SMILES",
   "id": "26bec470127908e3",
   "outputs": [],
   "execution_count": 31
  },
  {
   "metadata": {
    "ExecuteTime": {
     "end_time": "2025-01-27T21:50:04.979981Z",
     "start_time": "2025-01-27T21:50:04.977449Z"
    }
   },
   "cell_type": "code",
   "source": "print(betalamic_acid_smiles_retrieved, BETALAMIC_ACID_SMILES)",
   "id": "d76a8c2d7357661c",
   "outputs": [
    {
     "name": "stdout",
     "output_type": "stream",
     "text": [
      "OC(=O)[C@@H]1CC(=C/C=O)\\C=C(N1)C(O)=O OC(=O)[C@@H]1CC(=C/C=O)\\C=C(N1)C(O)=O\n"
     ]
    }
   ],
   "execution_count": 32
  },
  {
   "metadata": {
    "ExecuteTime": {
     "end_time": "2025-01-27T21:51:34.495679Z",
     "start_time": "2025-01-27T21:51:34.491381Z"
    }
   },
   "cell_type": "code",
   "source": "col_summary(\"in_benchmark\")",
   "id": "2be4cecca6037102",
   "outputs": [
    {
     "data": {
      "text/plain": [
       "in_benchmark\n",
       "False    124\n",
       "True      98\n",
       "dtype: int64"
      ]
     },
     "execution_count": 35,
     "metadata": {},
     "output_type": "execute_result"
    }
   ],
   "execution_count": 35
  },
  {
   "metadata": {
    "ExecuteTime": {
     "end_time": "2025-01-27T21:53:39.035720Z",
     "start_time": "2025-01-27T21:53:39.033483Z"
    }
   },
   "cell_type": "code",
   "source": [
    "from oaklib.datamodels.vocabulary import IS_A\n",
    "\n",
    "\n",
    "def classifies_in_chebi(row: dict):\n",
    "    inst_ids = chebi.curies_by_label(row[\"structure_name\"])\n",
    "    if len(inst_ids) != 1:\n",
    "        raise ValueError(f\"Ambiguous {row} ==> {inst_ids}\")\n",
    "    inst_id = inst_ids[0]\n",
    "    return row[\"chemical_class_id\"] in list(chebi.ancestors(inst_id, [IS_A]))"
   ],
   "id": "cf9a3c9444242beb",
   "outputs": [],
   "execution_count": 41
  },
  {
   "metadata": {
    "ExecuteTime": {
     "end_time": "2025-01-27T21:54:22.781193Z",
     "start_time": "2025-01-27T21:53:40.959752Z"
    }
   },
   "cell_type": "code",
   "source": "curator_df[\"in_chebi\"] = curator_df.apply(classifies_in_chebi, axis=1)\n",
   "id": "e71d9895c5a4eb69",
   "outputs": [],
   "execution_count": 42
  },
  {
   "metadata": {
    "ExecuteTime": {
     "end_time": "2025-01-27T21:54:22.793007Z",
     "start_time": "2025-01-27T21:54:22.789786Z"
    }
   },
   "cell_type": "code",
   "source": "col_summary(\"in_chebi\")",
   "id": "1f5bb97367b6da1d",
   "outputs": [
    {
     "data": {
      "text/plain": [
       "in_chebi\n",
       "False    124\n",
       "True      98\n",
       "dtype: int64"
      ]
     },
     "execution_count": 43,
     "metadata": {},
     "output_type": "execute_result"
    }
   ],
   "execution_count": 43
  },
  {
   "metadata": {
    "ExecuteTime": {
     "end_time": "2025-01-27T21:54:23.404252Z",
     "start_time": "2025-01-27T21:54:23.401296Z"
    }
   },
   "cell_type": "code",
   "source": "curator_df[\"agreement_benchmark_chebi\"] = curator_df.apply(lambda row: row[\"in_chebi\"] == row[\"in_benchmark\"], axis=1)\n",
   "id": "ca87a27e468fc901",
   "outputs": [],
   "execution_count": 44
  },
  {
   "metadata": {
    "ExecuteTime": {
     "end_time": "2025-01-27T21:54:23.432176Z",
     "start_time": "2025-01-27T21:54:23.427092Z"
    }
   },
   "cell_type": "code",
   "source": [
    "def agrees(yn, v):\n",
    "    if yn == \"Unknown\":\n",
    "        return None\n",
    "    return (yn == \"Yes\") == v\n",
    "    \n",
    "curator_df[\"agreement_curator_benchmark\"] = curator_df.apply(lambda row: agrees(row[CUR_IS_MEMBER], row[\"in_benchmark\"]), axis=1)\n",
    "curator_df[\"agreement_curator_chebi\"] = curator_df.apply(lambda row: agrees(row[CUR_IS_MEMBER], row[\"in_chebi\"]), axis=1)\n"
   ],
   "id": "e8307baf109b58c3",
   "outputs": [],
   "execution_count": 45
  },
  {
   "metadata": {
    "ExecuteTime": {
     "end_time": "2025-01-27T21:54:23.460256Z",
     "start_time": "2025-01-27T21:54:23.456158Z"
    }
   },
   "cell_type": "code",
   "source": "curator_df.groupby([\"agreement_curator_benchmark\"]).size()",
   "id": "712f2441259a88e2",
   "outputs": [
    {
     "data": {
      "text/plain": [
       "agreement_curator_benchmark\n",
       "False     94\n",
       "True     125\n",
       "dtype: int64"
      ]
     },
     "execution_count": 46,
     "metadata": {},
     "output_type": "execute_result"
    }
   ],
   "execution_count": 46
  },
  {
   "metadata": {
    "ExecuteTime": {
     "end_time": "2025-01-27T21:54:24.066821Z",
     "start_time": "2025-01-27T21:54:24.063147Z"
    }
   },
   "cell_type": "code",
   "source": "curator_df.groupby([\"agreement_curator_chebi\"]).size()\n",
   "id": "7a760f585f3dae63",
   "outputs": [
    {
     "data": {
      "text/plain": [
       "agreement_curator_chebi\n",
       "False     94\n",
       "True     125\n",
       "dtype: int64"
      ]
     },
     "execution_count": 47,
     "metadata": {},
     "output_type": "execute_result"
    }
   ],
   "execution_count": 47
  },
  {
   "metadata": {
    "ExecuteTime": {
     "end_time": "2025-01-27T21:54:24.127208Z",
     "start_time": "2025-01-27T21:54:24.121421Z"
    }
   },
   "cell_type": "code",
   "source": [
    "# get counts of each combination\n",
    "curator_df.groupby([CUR_IS_MEMBER, \"in_benchmark\"]).size()"
   ],
   "id": "24602b63705fd59f",
   "outputs": [
    {
     "data": {
      "text/plain": [
       "Curator: is_member?  in_benchmark\n",
       "No                   False           90\n",
       "                     True            60\n",
       "Unknown              True             3\n",
       "Yes                  False           34\n",
       "                     True            35\n",
       "dtype: int64"
      ]
     },
     "execution_count": 48,
     "metadata": {},
     "output_type": "execute_result"
    }
   ],
   "execution_count": 48
  },
  {
   "metadata": {
    "ExecuteTime": {
     "end_time": "2025-01-27T21:54:24.178127Z",
     "start_time": "2025-01-27T21:54:24.175004Z"
    }
   },
   "cell_type": "code",
   "source": "curator_df.groupby([\"agreement_curator_benchmark\"]).size()\n",
   "id": "416ef58ad5ceca2d",
   "outputs": [
    {
     "data": {
      "text/plain": [
       "agreement_curator_benchmark\n",
       "False     94\n",
       "True     125\n",
       "dtype: int64"
      ]
     },
     "execution_count": 49,
     "metadata": {},
     "output_type": "execute_result"
    }
   ],
   "execution_count": 49
  },
  {
   "metadata": {
    "ExecuteTime": {
     "end_time": "2025-01-27T21:54:24.433477Z",
     "start_time": "2025-01-27T21:54:24.263880Z"
    }
   },
   "cell_type": "code",
   "source": [
    "%load_ext autoreload\n",
    "%autoreload 2"
   ],
   "id": "7a0ca40315d6e0d0",
   "outputs": [],
   "execution_count": 50
  },
  {
   "metadata": {
    "ExecuteTime": {
     "end_time": "2025-01-27T21:54:24.465588Z",
     "start_time": "2025-01-27T21:54:24.437047Z"
    }
   },
   "cell_type": "code",
   "source": [
    "from pathlib import Path\n",
    "from c3p.classifier import classify\n",
    "\n",
    "smiles_strs = list(curator_df[\"smiles\"].unique())\n",
    "chemical_class_names = list(curator_df[\"chemical_class_name\"].unique())\n"
   ],
   "id": "26681f5c65483674",
   "outputs": [],
   "execution_count": 51
  },
  {
   "metadata": {
    "ExecuteTime": {
     "end_time": "2025-01-27T21:54:24.498498Z",
     "start_time": "2025-01-27T21:54:24.483583Z"
    }
   },
   "cell_type": "code",
   "source": "len(smiles_strs), len(chemical_class_names), len(smiles_strs) * len(chemical_class_names)",
   "id": "b8328e026666557",
   "outputs": [
    {
     "data": {
      "text/plain": [
       "(201, 94, 18894)"
      ]
     },
     "execution_count": 52,
     "metadata": {},
     "output_type": "execute_result"
    }
   ],
   "execution_count": 52
  },
  {
   "metadata": {
    "ExecuteTime": {
     "end_time": "2025-01-27T21:54:35.886613Z",
     "start_time": "2025-01-27T21:54:24.537788Z"
    }
   },
   "cell_type": "code",
   "source": "results = list(classify(smiles_strs, program_directory=Path(\"../results/2025/ensembl-5/programs\"), chemical_classes=chemical_class_names, strict=True))",
   "id": "e58b67baf32de6c1",
   "outputs": [],
   "execution_count": 53
  },
  {
   "metadata": {
    "ExecuteTime": {
     "end_time": "2025-01-27T21:54:36.009729Z",
     "start_time": "2025-01-27T21:54:35.896491Z"
    }
   },
   "cell_type": "code",
   "source": "len(results)",
   "id": "95b6f75656042d3b",
   "outputs": [
    {
     "data": {
      "text/plain": [
       "18894"
      ]
     },
     "execution_count": 54,
     "metadata": {},
     "output_type": "execute_result"
    }
   ],
   "execution_count": 54
  },
  {
   "metadata": {
    "ExecuteTime": {
     "end_time": "2025-01-27T21:54:37.406699Z",
     "start_time": "2025-01-27T21:54:37.355233Z"
    }
   },
   "cell_type": "code",
   "source": "results_by_pair = {(r.class_name, r.input_smiles): r.is_match for r in results}",
   "id": "48b73d2ade7f9457",
   "outputs": [],
   "execution_count": 55
  },
  {
   "metadata": {
    "ExecuteTime": {
     "end_time": "2025-01-27T21:54:37.437672Z",
     "start_time": "2025-01-27T21:54:37.410392Z"
    }
   },
   "cell_type": "code",
   "source": "#list(results_by_pair.keys())[0:10]",
   "id": "bf8bb65bbc8921bf",
   "outputs": [],
   "execution_count": 56
  },
  {
   "metadata": {
    "ExecuteTime": {
     "end_time": "2025-01-27T21:54:38.136904Z",
     "start_time": "2025-01-27T21:54:38.134505Z"
    }
   },
   "cell_type": "code",
   "source": "",
   "id": "2a8266f2c36de894",
   "outputs": [],
   "execution_count": null
  },
  {
   "metadata": {
    "ExecuteTime": {
     "end_time": "2025-01-27T21:54:38.998482Z",
     "start_time": "2025-01-27T21:54:38.784447Z"
    }
   },
   "cell_type": "code",
   "source": "curator_df[\"in_c3p\"] = curator_df.apply(lambda row: results_by_pair[row[\"chemical_class_name\"], row[\"smiles\"]], axis=1)\n",
   "id": "674651cfab4464ee",
   "outputs": [],
   "execution_count": 57
  },
  {
   "metadata": {
    "ExecuteTime": {
     "end_time": "2025-01-27T21:54:39.652350Z",
     "start_time": "2025-01-27T21:54:39.635871Z"
    }
   },
   "cell_type": "code",
   "source": "curator_df.groupby([\"in_c3p\"]).size()",
   "id": "4b3db0c4b4a49007",
   "outputs": [
    {
     "data": {
      "text/plain": [
       "in_c3p\n",
       "False     98\n",
       "True     124\n",
       "dtype: int64"
      ]
     },
     "execution_count": 58,
     "metadata": {},
     "output_type": "execute_result"
    }
   ],
   "execution_count": 58
  },
  {
   "metadata": {
    "ExecuteTime": {
     "end_time": "2025-01-27T21:54:40.290157Z",
     "start_time": "2025-01-27T21:54:40.273827Z"
    }
   },
   "cell_type": "code",
   "source": "curator_df[\"agreement_c3p_curator\"] = curator_df.apply(lambda row: agrees(row[CUR_IS_MEMBER], row[\"in_c3p\"]), axis=1)\n",
   "id": "2f2068f9cb7f613a",
   "outputs": [],
   "execution_count": 59
  },
  {
   "metadata": {
    "ExecuteTime": {
     "end_time": "2025-01-27T21:54:40.325976Z",
     "start_time": "2025-01-27T21:54:40.309065Z"
    }
   },
   "cell_type": "code",
   "source": "#curator_df[\"c3p_correct\"]",
   "id": "ba74b3802644b80e",
   "outputs": [],
   "execution_count": 60
  },
  {
   "metadata": {
    "ExecuteTime": {
     "end_time": "2025-01-27T21:54:40.361240Z",
     "start_time": "2025-01-27T21:54:40.342478Z"
    }
   },
   "cell_type": "code",
   "source": "curator_df.groupby([\"agreement_c3p_curator\"]).size()",
   "id": "34680cf4938adc56",
   "outputs": [
    {
     "data": {
      "text/plain": [
       "agreement_c3p_curator\n",
       "False    125\n",
       "True      94\n",
       "dtype: int64"
      ]
     },
     "execution_count": 61,
     "metadata": {},
     "output_type": "execute_result"
    }
   ],
   "execution_count": 61
  },
  {
   "metadata": {
    "ExecuteTime": {
     "end_time": "2025-01-27T21:54:41.005153Z",
     "start_time": "2025-01-27T21:54:40.983127Z"
    }
   },
   "cell_type": "code",
   "source": "curator_df.groupby([\"agreement_c3p_curator\"]).size() / len(curator_df)\n",
   "id": "691f2e2e5d5ead56",
   "outputs": [
    {
     "data": {
      "text/plain": [
       "agreement_c3p_curator\n",
       "False    0.563063\n",
       "True     0.423423\n",
       "dtype: float64"
      ]
     },
     "execution_count": 62,
     "metadata": {},
     "output_type": "execute_result"
    }
   ],
   "execution_count": 62
  },
  {
   "metadata": {
    "ExecuteTime": {
     "end_time": "2025-01-27T21:54:41.049761Z",
     "start_time": "2025-01-27T21:54:41.031386Z"
    }
   },
   "cell_type": "code",
   "source": "curator_df_filtered = curator_df[curator_df[CUR_IS_MEMBER] != \"Unknown\"]",
   "id": "fbfaa1d4aaa6bf",
   "outputs": [],
   "execution_count": 63
  },
  {
   "metadata": {
    "ExecuteTime": {
     "end_time": "2025-01-27T21:54:41.091856Z",
     "start_time": "2025-01-27T21:54:41.073756Z"
    }
   },
   "cell_type": "code",
   "source": "curator_df_filtered.groupby([\"agreement_c3p_curator\"]).size() / len(curator_df_filtered)",
   "id": "54d3aa4a80fb12b",
   "outputs": [
    {
     "data": {
      "text/plain": [
       "agreement_c3p_curator\n",
       "False    0.570776\n",
       "True     0.429224\n",
       "dtype: float64"
      ]
     },
     "execution_count": 64,
     "metadata": {},
     "output_type": "execute_result"
    }
   ],
   "execution_count": 64
  },
  {
   "metadata": {
    "ExecuteTime": {
     "end_time": "2025-01-27T21:54:41.153840Z",
     "start_time": "2025-01-27T21:54:41.135183Z"
    }
   },
   "cell_type": "code",
   "source": "curator_df.groupby([CUR_IS_MEMBER, \"in_benchmark\", \"in_c3p\", \"in_chebi\"]).size()\n",
   "id": "2bd55e267b473520",
   "outputs": [
    {
     "data": {
      "text/plain": [
       "Curator: is_member?  in_benchmark  in_c3p  in_chebi\n",
       "No                   False         True    False       90\n",
       "                     True          False   True        60\n",
       "Unknown              True          False   True         3\n",
       "Yes                  False         True    False       34\n",
       "                     True          False   True        35\n",
       "dtype: int64"
      ]
     },
     "execution_count": 65,
     "metadata": {},
     "output_type": "execute_result"
    }
   ],
   "execution_count": 65
  },
  {
   "metadata": {
    "ExecuteTime": {
     "end_time": "2025-01-27T21:54:41.222421Z",
     "start_time": "2025-01-27T21:54:41.204829Z"
    }
   },
   "cell_type": "code",
   "source": "curator_df[(curator_df[\"in_benchmark\"] == False) & (curator_df[\"in_c3p\"] == False)] ",
   "id": "f0b800962d98209",
   "outputs": [
    {
     "data": {
      "text/plain": [
       "Empty DataFrame\n",
       "Columns: [chemical_class_id, chemical_class_name, smiles, fixed_smiles, structure_name, model=citeseek-gpt-4o_response, model=claude-sonnet_response, model=deepseek-chat_response, model=gpt-3.5-turbo_response, model=gpt-4o_response, Curator: is_member?, Curator: comments, in_benchmark, in_chebi, agreement_benchmark_chebi, agreement_curator_benchmark, agreement_curator_chebi, in_c3p, agreement_c3p_curator]\n",
       "Index: []"
      ],
      "text/html": [
       "<div>\n",
       "<style scoped>\n",
       "    .dataframe tbody tr th:only-of-type {\n",
       "        vertical-align: middle;\n",
       "    }\n",
       "\n",
       "    .dataframe tbody tr th {\n",
       "        vertical-align: top;\n",
       "    }\n",
       "\n",
       "    .dataframe thead th {\n",
       "        text-align: right;\n",
       "    }\n",
       "</style>\n",
       "<table border=\"1\" class=\"dataframe\">\n",
       "  <thead>\n",
       "    <tr style=\"text-align: right;\">\n",
       "      <th></th>\n",
       "      <th>chemical_class_id</th>\n",
       "      <th>chemical_class_name</th>\n",
       "      <th>smiles</th>\n",
       "      <th>fixed_smiles</th>\n",
       "      <th>structure_name</th>\n",
       "      <th>model=citeseek-gpt-4o_response</th>\n",
       "      <th>model=claude-sonnet_response</th>\n",
       "      <th>model=deepseek-chat_response</th>\n",
       "      <th>model=gpt-3.5-turbo_response</th>\n",
       "      <th>model=gpt-4o_response</th>\n",
       "      <th>Curator: is_member?</th>\n",
       "      <th>Curator: comments</th>\n",
       "      <th>in_benchmark</th>\n",
       "      <th>in_chebi</th>\n",
       "      <th>agreement_benchmark_chebi</th>\n",
       "      <th>agreement_curator_benchmark</th>\n",
       "      <th>agreement_curator_chebi</th>\n",
       "      <th>in_c3p</th>\n",
       "      <th>agreement_c3p_curator</th>\n",
       "    </tr>\n",
       "  </thead>\n",
       "  <tbody>\n",
       "  </tbody>\n",
       "</table>\n",
       "</div>"
      ]
     },
     "execution_count": 66,
     "metadata": {},
     "output_type": "execute_result"
    }
   ],
   "execution_count": 66
  },
  {
   "metadata": {
    "ExecuteTime": {
     "end_time": "2025-01-27T21:54:41.301060Z",
     "start_time": "2025-01-27T21:54:41.282237Z"
    }
   },
   "cell_type": "code",
   "source": "curator_df[curator_df[\"agreement_benchmark_chebi\"] == False] ",
   "id": "a9d9c5300545e013",
   "outputs": [
    {
     "data": {
      "text/plain": [
       "Empty DataFrame\n",
       "Columns: [chemical_class_id, chemical_class_name, smiles, fixed_smiles, structure_name, model=citeseek-gpt-4o_response, model=claude-sonnet_response, model=deepseek-chat_response, model=gpt-3.5-turbo_response, model=gpt-4o_response, Curator: is_member?, Curator: comments, in_benchmark, in_chebi, agreement_benchmark_chebi, agreement_curator_benchmark, agreement_curator_chebi, in_c3p, agreement_c3p_curator]\n",
       "Index: []"
      ],
      "text/html": [
       "<div>\n",
       "<style scoped>\n",
       "    .dataframe tbody tr th:only-of-type {\n",
       "        vertical-align: middle;\n",
       "    }\n",
       "\n",
       "    .dataframe tbody tr th {\n",
       "        vertical-align: top;\n",
       "    }\n",
       "\n",
       "    .dataframe thead th {\n",
       "        text-align: right;\n",
       "    }\n",
       "</style>\n",
       "<table border=\"1\" class=\"dataframe\">\n",
       "  <thead>\n",
       "    <tr style=\"text-align: right;\">\n",
       "      <th></th>\n",
       "      <th>chemical_class_id</th>\n",
       "      <th>chemical_class_name</th>\n",
       "      <th>smiles</th>\n",
       "      <th>fixed_smiles</th>\n",
       "      <th>structure_name</th>\n",
       "      <th>model=citeseek-gpt-4o_response</th>\n",
       "      <th>model=claude-sonnet_response</th>\n",
       "      <th>model=deepseek-chat_response</th>\n",
       "      <th>model=gpt-3.5-turbo_response</th>\n",
       "      <th>model=gpt-4o_response</th>\n",
       "      <th>Curator: is_member?</th>\n",
       "      <th>Curator: comments</th>\n",
       "      <th>in_benchmark</th>\n",
       "      <th>in_chebi</th>\n",
       "      <th>agreement_benchmark_chebi</th>\n",
       "      <th>agreement_curator_benchmark</th>\n",
       "      <th>agreement_curator_chebi</th>\n",
       "      <th>in_c3p</th>\n",
       "      <th>agreement_c3p_curator</th>\n",
       "    </tr>\n",
       "  </thead>\n",
       "  <tbody>\n",
       "  </tbody>\n",
       "</table>\n",
       "</div>"
      ]
     },
     "execution_count": 67,
     "metadata": {},
     "output_type": "execute_result"
    }
   ],
   "execution_count": 67
  },
  {
   "metadata": {
    "ExecuteTime": {
     "end_time": "2025-01-27T21:54:41.416428Z",
     "start_time": "2025-01-27T21:54:41.383962Z"
    }
   },
   "cell_type": "code",
   "source": "curator_df.to_csv(f\"{RESULTS_DIR}/manual-evals-with-c3p.csv\", index=False)",
   "id": "221a89a5d69c99f7",
   "outputs": [],
   "execution_count": 68
  },
  {
   "metadata": {
    "ExecuteTime": {
     "end_time": "2025-01-27T21:54:41.481790Z",
     "start_time": "2025-01-27T21:54:41.480156Z"
    }
   },
   "cell_type": "code",
   "source": "",
   "id": "33da936b0ca8f98b",
   "outputs": [],
   "execution_count": null
  },
  {
   "metadata": {
    "ExecuteTime": {
     "end_time": "2025-01-27T21:54:42.181815Z",
     "start_time": "2025-01-27T21:54:42.110919Z"
    }
   },
   "cell_type": "code",
   "source": "curator_df.to_excel(f\"{RESULTS_DIR}/manual-evals-with-c3p.xlsx\", index=False)",
   "id": "cf4981bd02addd73",
   "outputs": [],
   "execution_count": 69
  },
  {
   "metadata": {
    "ExecuteTime": {
     "end_time": "2025-01-27T21:54:42.776211Z",
     "start_time": "2025-01-27T21:54:42.774365Z"
    }
   },
   "cell_type": "code",
   "source": "",
   "id": "495eb11c71cb3d5f",
   "outputs": [],
   "execution_count": null
  },
  {
   "metadata": {
    "ExecuteTime": {
     "end_time": "2025-01-27T21:02:18.003878Z",
     "start_time": "2025-01-24T15:22:44.236994Z"
    }
   },
   "cell_type": "code",
   "source": "",
   "id": "1f694b053a9646f7",
   "outputs": [],
   "execution_count": null
  },
  {
   "metadata": {},
   "cell_type": "code",
   "outputs": [],
   "execution_count": null,
   "source": "",
   "id": "38b6601b69b77270"
  }
 ],
 "metadata": {
  "kernelspec": {
   "display_name": "Python 3",
   "language": "python",
   "name": "python3"
  },
  "language_info": {
   "codemirror_mode": {
    "name": "ipython",
    "version": 2
   },
   "file_extension": ".py",
   "mimetype": "text/x-python",
   "name": "python",
   "nbconvert_exporter": "python",
   "pygments_lexer": "ipython2",
   "version": "2.7.6"
  }
 },
 "nbformat": 4,
 "nbformat_minor": 5
}
